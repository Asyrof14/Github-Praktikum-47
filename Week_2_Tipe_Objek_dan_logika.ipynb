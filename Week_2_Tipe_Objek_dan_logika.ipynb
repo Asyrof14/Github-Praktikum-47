{
  "nbformat": 4,
  "nbformat_minor": 0,
  "metadata": {
    "colab": {
      "provenance": []
    },
    "kernelspec": {
      "name": "python3",
      "display_name": "Python 3"
    },
    "language_info": {
      "name": "python"
    }
  },
  "cells": [
    {
      "cell_type": "code",
      "execution_count": null,
      "metadata": {
        "colab": {
          "base_uri": "https://localhost:8080/"
        },
        "id": "wQiYVfhg-H1h",
        "outputId": "b85e507d-fefb-4707-d504-d8fb151d35f1"
      },
      "outputs": [
        {
          "output_type": "stream",
          "name": "stdout",
          "text": [
            "14\n"
          ]
        }
      ],
      "source": [
        "Integer = 14\n",
        "print(Integer)"
      ]
    },
    {
      "cell_type": "code",
      "source": [
        "Float = 3.14\n",
        "print(Float)"
      ],
      "metadata": {
        "colab": {
          "base_uri": "https://localhost:8080/"
        },
        "id": "O1V8NrsC-XaX",
        "outputId": "0014041c-8f8c-457c-8afd-39cfe9a704cf"
      },
      "execution_count": null,
      "outputs": [
        {
          "output_type": "stream",
          "name": "stdout",
          "text": [
            "3.14\n"
          ]
        }
      ]
    },
    {
      "cell_type": "code",
      "source": [
        "String = 'Hello Pyhton, Asyrof'\n",
        "print(String)"
      ],
      "metadata": {
        "colab": {
          "base_uri": "https://localhost:8080/"
        },
        "id": "IFAOnbh8-gmt",
        "outputId": "8974f9f2-8eef-436f-af8f-f3cc8f291af1"
      },
      "execution_count": null,
      "outputs": [
        {
          "output_type": "stream",
          "name": "stdout",
          "text": [
            "Hello Pyhton, Asyrof\n"
          ]
        }
      ]
    },
    {
      "cell_type": "code",
      "source": [
        "type(14)"
      ],
      "metadata": {
        "colab": {
          "base_uri": "https://localhost:8080/"
        },
        "id": "bKATlxr_-0S7",
        "outputId": "e5ad3506-7e22-4072-866c-9377d7ad9708"
      },
      "execution_count": null,
      "outputs": [
        {
          "output_type": "execute_result",
          "data": {
            "text/plain": [
              "int"
            ]
          },
          "metadata": {},
          "execution_count": 5
        }
      ]
    },
    {
      "cell_type": "code",
      "source": [
        "type(3.14t)"
      ],
      "metadata": {
        "colab": {
          "base_uri": "https://localhost:8080/"
        },
        "id": "7ZQvk3d0-4tk",
        "outputId": "8ed3f566-bfe5-4d47-9e5f-a0c8051817db"
      },
      "execution_count": null,
      "outputs": [
        {
          "output_type": "execute_result",
          "data": {
            "text/plain": [
              "float"
            ]
          },
          "metadata": {},
          "execution_count": 6
        }
      ]
    },
    {
      "cell_type": "code",
      "source": [
        "type('Hello, Python')"
      ],
      "metadata": {
        "colab": {
          "base_uri": "https://localhost:8080/"
        },
        "id": "NaoudQjA-8lp",
        "outputId": "ed044202-d29a-4ef7-de03-24ffdec68c96"
      },
      "execution_count": null,
      "outputs": [
        {
          "output_type": "execute_result",
          "data": {
            "text/plain": [
              "str"
            ]
          },
          "metadata": {},
          "execution_count": 7
        }
      ]
    },
    {
      "cell_type": "code",
      "source": [
        "type(-1)"
      ],
      "metadata": {
        "colab": {
          "base_uri": "https://localhost:8080/"
        },
        "id": "rx3DQXq8_LDF",
        "outputId": "70f54541-a8da-4c36-c9e9-67f632c96223"
      },
      "execution_count": null,
      "outputs": [
        {
          "output_type": "execute_result",
          "data": {
            "text/plain": [
              "int"
            ]
          },
          "metadata": {},
          "execution_count": 8
        }
      ]
    },
    {
      "cell_type": "code",
      "source": [
        "type(-6)"
      ],
      "metadata": {
        "colab": {
          "base_uri": "https://localhost:8080/"
        },
        "id": "SULrwCRk_QNe",
        "outputId": "b48c8908-ee11-4ee8-d672-7b05c2265841"
      },
      "execution_count": null,
      "outputs": [
        {
          "output_type": "execute_result",
          "data": {
            "text/plain": [
              "int"
            ]
          },
          "metadata": {},
          "execution_count": 9
        }
      ]
    },
    {
      "cell_type": "code",
      "source": [
        "type(4)"
      ],
      "metadata": {
        "colab": {
          "base_uri": "https://localhost:8080/"
        },
        "id": "rbgGsNWX_Ube",
        "outputId": "c9b5954b-7bba-4683-b252-69d6efbe3dbc"
      },
      "execution_count": null,
      "outputs": [
        {
          "output_type": "execute_result",
          "data": {
            "text/plain": [
              "int"
            ]
          },
          "metadata": {},
          "execution_count": 10
        }
      ]
    },
    {
      "cell_type": "code",
      "source": [
        "type(0)"
      ],
      "metadata": {
        "colab": {
          "base_uri": "https://localhost:8080/"
        },
        "id": "BYXp3iqX_XXw",
        "outputId": "f25c20bb-ec3e-4584-d1b5-4748206170cf"
      },
      "execution_count": null,
      "outputs": [
        {
          "output_type": "execute_result",
          "data": {
            "text/plain": [
              "int"
            ]
          },
          "metadata": {},
          "execution_count": 11
        }
      ]
    },
    {
      "cell_type": "code",
      "source": [
        "type(1.0)"
      ],
      "metadata": {
        "colab": {
          "base_uri": "https://localhost:8080/"
        },
        "id": "gSVmjrDr_biG",
        "outputId": "86d71fe6-9e21-41e0-c99c-ee45a765e4f1"
      },
      "execution_count": null,
      "outputs": [
        {
          "output_type": "execute_result",
          "data": {
            "text/plain": [
              "float"
            ]
          },
          "metadata": {},
          "execution_count": 12
        }
      ]
    },
    {
      "cell_type": "code",
      "source": [
        "type(0.5)"
      ],
      "metadata": {
        "colab": {
          "base_uri": "https://localhost:8080/"
        },
        "id": "h3LfGpuI_nIX",
        "outputId": "bbfca7f0-9a78-40c9-cf0b-6b681c89e2f9"
      },
      "execution_count": null,
      "outputs": [
        {
          "output_type": "execute_result",
          "data": {
            "text/plain": [
              "float"
            ]
          },
          "metadata": {},
          "execution_count": 13
        }
      ]
    },
    {
      "cell_type": "code",
      "source": [
        "type(0.56)"
      ],
      "metadata": {
        "colab": {
          "base_uri": "https://localhost:8080/"
        },
        "id": "UlK8Qk3n_oa8",
        "outputId": "f1032a2a-ef5a-424c-a69a-b5ff217fe9d2"
      },
      "execution_count": null,
      "outputs": [
        {
          "output_type": "execute_result",
          "data": {
            "text/plain": [
              "float"
            ]
          },
          "metadata": {},
          "execution_count": 14
        }
      ]
    },
    {
      "cell_type": "code",
      "source": [
        "import sys\n",
        "sys.float_info"
      ],
      "metadata": {
        "colab": {
          "base_uri": "https://localhost:8080/"
        },
        "id": "4qi3YVGm_sqr",
        "outputId": "67fb9b8f-29c6-495e-a162-eac4cb7e0964"
      },
      "execution_count": null,
      "outputs": [
        {
          "output_type": "execute_result",
          "data": {
            "text/plain": [
              "sys.float_info(max=1.7976931348623157e+308, max_exp=1024, max_10_exp=308, min=2.2250738585072014e-308, min_exp=-1021, min_10_exp=-307, dig=15, mant_dig=53, epsilon=2.220446049250313e-16, radix=2, rounds=1)"
            ]
          },
          "metadata": {},
          "execution_count": 15
        }
      ]
    },
    {
      "cell_type": "code",
      "source": [
        "type(2)"
      ],
      "metadata": {
        "colab": {
          "base_uri": "https://localhost:8080/"
        },
        "id": "Fe41OlUr_0Pw",
        "outputId": "b369b66a-fe1b-4b28-b9dc-23351ce98084"
      },
      "execution_count": null,
      "outputs": [
        {
          "output_type": "execute_result",
          "data": {
            "text/plain": [
              "int"
            ]
          },
          "metadata": {},
          "execution_count": 16
        }
      ]
    },
    {
      "cell_type": "code",
      "source": [
        "float(2)"
      ],
      "metadata": {
        "colab": {
          "base_uri": "https://localhost:8080/"
        },
        "id": "cN3_HGhl_137",
        "outputId": "a17551da-8fa2-4f40-cdd2-badb923b7196"
      },
      "execution_count": null,
      "outputs": [
        {
          "output_type": "execute_result",
          "data": {
            "text/plain": [
              "2.0"
            ]
          },
          "metadata": {},
          "execution_count": 17
        }
      ]
    },
    {
      "cell_type": "code",
      "source": [
        "type(float(2))"
      ],
      "metadata": {
        "colab": {
          "base_uri": "https://localhost:8080/"
        },
        "id": "yTBSkVyN_4vp",
        "outputId": "5e749296-ede1-464b-c35f-e3bb0f31fb03"
      },
      "execution_count": null,
      "outputs": [
        {
          "output_type": "execute_result",
          "data": {
            "text/plain": [
              "float"
            ]
          },
          "metadata": {},
          "execution_count": 18
        }
      ]
    },
    {
      "cell_type": "code",
      "source": [
        "int(1.1)"
      ],
      "metadata": {
        "colab": {
          "base_uri": "https://localhost:8080/"
        },
        "id": "5T5DjfQa__By",
        "outputId": "9e856978-db15-4ca1-9ac1-0b967ddfcebc"
      },
      "execution_count": null,
      "outputs": [
        {
          "output_type": "execute_result",
          "data": {
            "text/plain": [
              "1"
            ]
          },
          "metadata": {},
          "execution_count": 19
        }
      ]
    },
    {
      "cell_type": "code",
      "source": [
        "int('1')\n",
        "int('6')"
      ],
      "metadata": {
        "colab": {
          "base_uri": "https://localhost:8080/"
        },
        "id": "_1xcEGIRADxb",
        "outputId": "f58136aa-feb1-451d-8e9d-c5455cea99a4"
      },
      "execution_count": null,
      "outputs": [
        {
          "output_type": "execute_result",
          "data": {
            "text/plain": [
              "6"
            ]
          },
          "metadata": {},
          "execution_count": 20
        }
      ]
    },
    {
      "cell_type": "code",
      "source": [
        "int('1 or 2 people')"
      ],
      "metadata": {
        "colab": {
          "base_uri": "https://localhost:8080/",
          "height": 141
        },
        "id": "Quofa3jwAK1g",
        "outputId": "607cbe7d-d3ef-4fc1-fc97-668869e30c56"
      },
      "execution_count": null,
      "outputs": [
        {
          "output_type": "error",
          "ename": "ValueError",
          "evalue": "invalid literal for int() with base 10: '1 or 2 people'",
          "traceback": [
            "\u001b[0;31m---------------------------------------------------------------------------\u001b[0m",
            "\u001b[0;31mValueError\u001b[0m                                Traceback (most recent call last)",
            "\u001b[0;32m<ipython-input-21-cd59a23aeda5>\u001b[0m in \u001b[0;36m<cell line: 1>\u001b[0;34m()\u001b[0m\n\u001b[0;32m----> 1\u001b[0;31m \u001b[0mint\u001b[0m\u001b[0;34m(\u001b[0m\u001b[0;34m'1 or 2 people'\u001b[0m\u001b[0;34m)\u001b[0m\u001b[0;34m\u001b[0m\u001b[0;34m\u001b[0m\u001b[0m\n\u001b[0m",
            "\u001b[0;31mValueError\u001b[0m: invalid literal for int() with base 10: '1 or 2 people'"
          ]
        }
      ]
    },
    {
      "cell_type": "code",
      "source": [
        "float('1.2')"
      ],
      "metadata": {
        "colab": {
          "base_uri": "https://localhost:8080/"
        },
        "id": "DxsuHe5_ATwL",
        "outputId": "869ac153-5155-401c-de9b-3a5babad38c8"
      },
      "execution_count": null,
      "outputs": [
        {
          "output_type": "execute_result",
          "data": {
            "text/plain": [
              "1.2"
            ]
          },
          "metadata": {},
          "execution_count": 22
        }
      ]
    },
    {
      "cell_type": "code",
      "source": [
        "str(1.2)"
      ],
      "metadata": {
        "colab": {
          "base_uri": "https://localhost:8080/",
          "height": 36
        },
        "id": "0DGZxn1YAXlr",
        "outputId": "33e69b88-c41b-45d5-cfc0-4c25cbf915e2"
      },
      "execution_count": null,
      "outputs": [
        {
          "output_type": "execute_result",
          "data": {
            "text/plain": [
              "'1.2'"
            ],
            "application/vnd.google.colaboratory.intrinsic+json": {
              "type": "string"
            }
          },
          "metadata": {},
          "execution_count": 24
        }
      ]
    },
    {
      "cell_type": "code",
      "source": [
        "True"
      ],
      "metadata": {
        "colab": {
          "base_uri": "https://localhost:8080/"
        },
        "id": "44I9ZHIIAbTS",
        "outputId": "381be81e-27df-4ad6-a228-381a2f65079a"
      },
      "execution_count": null,
      "outputs": [
        {
          "output_type": "execute_result",
          "data": {
            "text/plain": [
              "True"
            ]
          },
          "metadata": {},
          "execution_count": 25
        }
      ]
    },
    {
      "cell_type": "code",
      "source": [
        "False"
      ],
      "metadata": {
        "colab": {
          "base_uri": "https://localhost:8080/"
        },
        "id": "uWB7RFUFAdhS",
        "outputId": "87fa22c8-1872-4e8a-f07c-c4346473bbf1"
      },
      "execution_count": null,
      "outputs": [
        {
          "output_type": "execute_result",
          "data": {
            "text/plain": [
              "False"
            ]
          },
          "metadata": {},
          "execution_count": 26
        }
      ]
    },
    {
      "cell_type": "code",
      "source": [
        "type(True)"
      ],
      "metadata": {
        "colab": {
          "base_uri": "https://localhost:8080/"
        },
        "id": "6YtiGvjWAgoR",
        "outputId": "ea0d0697-9854-404c-c83a-5f0d764b635d"
      },
      "execution_count": null,
      "outputs": [
        {
          "output_type": "execute_result",
          "data": {
            "text/plain": [
              "bool"
            ]
          },
          "metadata": {},
          "execution_count": 27
        }
      ]
    },
    {
      "cell_type": "code",
      "source": [
        "type(False)"
      ],
      "metadata": {
        "colab": {
          "base_uri": "https://localhost:8080/"
        },
        "id": "WAeurlCYApZZ",
        "outputId": "9db760af-db8d-4f17-b51c-e42aed44b0e4"
      },
      "execution_count": null,
      "outputs": [
        {
          "output_type": "execute_result",
          "data": {
            "text/plain": [
              "bool"
            ]
          },
          "metadata": {},
          "execution_count": 28
        }
      ]
    },
    {
      "cell_type": "code",
      "source": [
        "int(True)"
      ],
      "metadata": {
        "colab": {
          "base_uri": "https://localhost:8080/"
        },
        "id": "zUPgIg6WAt2_",
        "outputId": "83b98e9a-4a4b-4fa7-c1bd-6dffa348e576"
      },
      "execution_count": null,
      "outputs": [
        {
          "output_type": "execute_result",
          "data": {
            "text/plain": [
              "1"
            ]
          },
          "metadata": {},
          "execution_count": 30
        }
      ]
    },
    {
      "cell_type": "code",
      "source": [
        "bool(1)"
      ],
      "metadata": {
        "colab": {
          "base_uri": "https://localhost:8080/"
        },
        "id": "kyxuyjIMAxWT",
        "outputId": "25371aee-6743-4e62-8bbc-09f2b11c204a"
      },
      "execution_count": null,
      "outputs": [
        {
          "output_type": "execute_result",
          "data": {
            "text/plain": [
              "True"
            ]
          },
          "metadata": {},
          "execution_count": 31
        }
      ]
    },
    {
      "cell_type": "code",
      "source": [
        "bool(0)"
      ],
      "metadata": {
        "colab": {
          "base_uri": "https://localhost:8080/"
        },
        "id": "JCPKkzXfAz8y",
        "outputId": "1eee22ac-f5e7-47ff-b840-66f697e9165c"
      },
      "execution_count": null,
      "outputs": [
        {
          "output_type": "execute_result",
          "data": {
            "text/plain": [
              "False"
            ]
          },
          "metadata": {},
          "execution_count": 32
        }
      ]
    },
    {
      "cell_type": "code",
      "source": [
        "float(True)"
      ],
      "metadata": {
        "colab": {
          "base_uri": "https://localhost:8080/"
        },
        "id": "2u0XsgF2A3x4",
        "outputId": "88269a6d-165d-42fc-f980-3ad9b81bfecf"
      },
      "execution_count": null,
      "outputs": [
        {
          "output_type": "execute_result",
          "data": {
            "text/plain": [
              "1.0"
            ]
          },
          "metadata": {},
          "execution_count": 33
        }
      ]
    },
    {
      "cell_type": "code",
      "source": [
        "type(6/2)"
      ],
      "metadata": {
        "colab": {
          "base_uri": "https://localhost:8080/"
        },
        "id": "9-zOMYP1A758",
        "outputId": "a8ca2e1f-e954-4336-fc51-09d1d5b6af00"
      },
      "execution_count": null,
      "outputs": [
        {
          "output_type": "execute_result",
          "data": {
            "text/plain": [
              "float"
            ]
          },
          "metadata": {},
          "execution_count": 34
        }
      ]
    },
    {
      "cell_type": "code",
      "source": [
        "type(6//2)"
      ],
      "metadata": {
        "colab": {
          "base_uri": "https://localhost:8080/"
        },
        "id": "eu-kDetSBAfW",
        "outputId": "a76054f7-4413-4acc-e5aa-75f8f7022cef"
      },
      "execution_count": null,
      "outputs": [
        {
          "output_type": "execute_result",
          "data": {
            "text/plain": [
              "int"
            ]
          },
          "metadata": {},
          "execution_count": 35
        }
      ]
    },
    {
      "cell_type": "code",
      "source": [
        "43 + 60 + 16 + 41\n",
        "\n",
        "type(10.55+10.5-5)"
      ],
      "metadata": {
        "colab": {
          "base_uri": "https://localhost:8080/"
        },
        "id": "lUdFR0bcBKs5",
        "outputId": "dc1df85e-581e-419f-f7ea-6c0cb25858bd"
      },
      "execution_count": null,
      "outputs": [
        {
          "output_type": "execute_result",
          "data": {
            "text/plain": [
              "float"
            ]
          },
          "metadata": {},
          "execution_count": 36
        }
      ]
    },
    {
      "cell_type": "code",
      "source": [
        "type(50 - 60)"
      ],
      "metadata": {
        "colab": {
          "base_uri": "https://localhost:8080/"
        },
        "id": "MUVyfibRBK9Y",
        "outputId": "00ef17f9-f874-41d4-a874-8133c2dffeea"
      },
      "execution_count": null,
      "outputs": [
        {
          "output_type": "execute_result",
          "data": {
            "text/plain": [
              "int"
            ]
          },
          "metadata": {},
          "execution_count": 37
        }
      ]
    },
    {
      "cell_type": "code",
      "source": [
        "5 * 5"
      ],
      "metadata": {
        "colab": {
          "base_uri": "https://localhost:8080/"
        },
        "id": "HatZ2honBRlI",
        "outputId": "40c99fb3-10ff-40b1-96b8-b8e9474182b8"
      },
      "execution_count": null,
      "outputs": [
        {
          "output_type": "execute_result",
          "data": {
            "text/plain": [
              "25"
            ]
          },
          "metadata": {},
          "execution_count": 38
        }
      ]
    },
    {
      "cell_type": "code",
      "source": [
        "25 / 5"
      ],
      "metadata": {
        "colab": {
          "base_uri": "https://localhost:8080/"
        },
        "id": "d56hzn63BUZH",
        "outputId": "b96c275c-227f-454f-fd4f-715a734ddba6"
      },
      "execution_count": null,
      "outputs": [
        {
          "output_type": "execute_result",
          "data": {
            "text/plain": [
              "5.0"
            ]
          },
          "metadata": {},
          "execution_count": 39
        }
      ]
    },
    {
      "cell_type": "code",
      "source": [
        "25 / 6"
      ],
      "metadata": {
        "colab": {
          "base_uri": "https://localhost:8080/"
        },
        "id": "UKCANbV7BVlz",
        "outputId": "5d508929-65d2-401d-dec4-a82eecc6baa3"
      },
      "execution_count": null,
      "outputs": [
        {
          "output_type": "execute_result",
          "data": {
            "text/plain": [
              "4.166666666666667"
            ]
          },
          "metadata": {},
          "execution_count": 40
        }
      ]
    },
    {
      "cell_type": "code",
      "source": [
        "25 // 5"
      ],
      "metadata": {
        "colab": {
          "base_uri": "https://localhost:8080/"
        },
        "id": "DfUCajHJBeVT",
        "outputId": "7ed0b20b-a998-421a-e884-f9dd0a5a2c33"
      },
      "execution_count": null,
      "outputs": [
        {
          "output_type": "execute_result",
          "data": {
            "text/plain": [
              "5"
            ]
          },
          "metadata": {},
          "execution_count": 41
        }
      ]
    },
    {
      "cell_type": "code",
      "source": [
        "25 // 6"
      ],
      "metadata": {
        "colab": {
          "base_uri": "https://localhost:8080/"
        },
        "id": "UqmHNqahBjK_",
        "outputId": "26f3b123-f927-4d21-decc-04c8ecc99cb3"
      },
      "execution_count": null,
      "outputs": [
        {
          "output_type": "execute_result",
          "data": {
            "text/plain": [
              "4"
            ]
          },
          "metadata": {},
          "execution_count": 42
        }
      ]
    },
    {
      "cell_type": "code",
      "source": [
        "160/60"
      ],
      "metadata": {
        "colab": {
          "base_uri": "https://localhost:8080/"
        },
        "id": "OF2foEoUCbwF",
        "outputId": "cd4e36ca-2aec-411e-8f86-86d8426812cf"
      },
      "execution_count": null,
      "outputs": [
        {
          "output_type": "execute_result",
          "data": {
            "text/plain": [
              "2.6666666666666665"
            ]
          },
          "metadata": {},
          "execution_count": 43
        }
      ]
    },
    {
      "cell_type": "code",
      "source": [
        "30 + 2 * 60 // 10"
      ],
      "metadata": {
        "colab": {
          "base_uri": "https://localhost:8080/"
        },
        "id": "WNiYc0E2Ch-5",
        "outputId": "a3a16cc5-6a84-4b5e-d89d-89c109220c1f"
      },
      "execution_count": null,
      "outputs": [
        {
          "output_type": "execute_result",
          "data": {
            "text/plain": [
              "42"
            ]
          },
          "metadata": {},
          "execution_count": 44
        }
      ]
    },
    {
      "cell_type": "code",
      "source": [
        "(30 + 2) * 60"
      ],
      "metadata": {
        "colab": {
          "base_uri": "https://localhost:8080/"
        },
        "id": "8TQLIw4tCjkt",
        "outputId": "ea21e656-3bed-4675-aee5-d80a666559f0"
      },
      "execution_count": null,
      "outputs": [
        {
          "output_type": "execute_result",
          "data": {
            "text/plain": [
              "1920"
            ]
          },
          "metadata": {},
          "execution_count": 45
        }
      ]
    },
    {
      "cell_type": "code",
      "source": [
        "x = 43 + 60 + 16 + 41"
      ],
      "metadata": {
        "id": "CwtZReRVCnCV"
      },
      "execution_count": null,
      "outputs": []
    },
    {
      "cell_type": "code",
      "source": [
        "x = 43 + 60 + 16 + 41\n",
        "x"
      ],
      "metadata": {
        "colab": {
          "base_uri": "https://localhost:8080/"
        },
        "id": "norNJ4ztCsbz",
        "outputId": "d2adcefe-c03f-4058-8d33-503ef6330944"
      },
      "execution_count": null,
      "outputs": [
        {
          "output_type": "execute_result",
          "data": {
            "text/plain": [
              "160"
            ]
          },
          "metadata": {},
          "execution_count": 47
        }
      ]
    },
    {
      "cell_type": "code",
      "source": [
        "y = x / 60\n",
        "y"
      ],
      "metadata": {
        "colab": {
          "base_uri": "https://localhost:8080/"
        },
        "id": "-CjAXxHmCvUT",
        "outputId": "8e2bfdd5-1b2e-4c2e-dacd-dd22e49c22ff"
      },
      "execution_count": null,
      "outputs": [
        {
          "output_type": "execute_result",
          "data": {
            "text/plain": [
              "2.6666666666666665"
            ]
          },
          "metadata": {},
          "execution_count": 48
        }
      ]
    },
    {
      "cell_type": "code",
      "source": [
        "x = x / 60\n",
        "print(x)"
      ],
      "metadata": {
        "colab": {
          "base_uri": "https://localhost:8080/"
        },
        "id": "lCdB7DwwCyrr",
        "outputId": "c16da805-6cb5-4e0a-ef74-5545f63b3a57"
      },
      "execution_count": null,
      "outputs": [
        {
          "output_type": "stream",
          "name": "stdout",
          "text": [
            "2.6666666666666665\n"
          ]
        }
      ]
    },
    {
      "cell_type": "code",
      "source": [
        "total_min = 43 + 42 + 57 # Total length of albums in minutes\n",
        "total_min"
      ],
      "metadata": {
        "colab": {
          "base_uri": "https://localhost:8080/"
        },
        "id": "7-y4nMadC1Fy",
        "outputId": "ea96d93c-6f35-4ba1-a748-d88d32e38b0f"
      },
      "execution_count": null,
      "outputs": [
        {
          "output_type": "execute_result",
          "data": {
            "text/plain": [
              "142"
            ]
          },
          "metadata": {},
          "execution_count": 50
        }
      ]
    },
    {
      "cell_type": "code",
      "source": [
        "total_hours = total_min / 60 # Total length of albums in hours\n",
        "total_hours"
      ],
      "metadata": {
        "colab": {
          "base_uri": "https://localhost:8080/"
        },
        "id": "67dlfXnRC3t7",
        "outputId": "655975db-5b71-4233-d4f0-1eef288801c9"
      },
      "execution_count": null,
      "outputs": [
        {
          "output_type": "execute_result",
          "data": {
            "text/plain": [
              "2.3666666666666667"
            ]
          },
          "metadata": {},
          "execution_count": 51
        }
      ]
    },
    {
      "cell_type": "code",
      "source": [
        "total_hours = (43 + 42 + 57) / 60  # Total hours in a single expression\n",
        "total_hours"
      ],
      "metadata": {
        "colab": {
          "base_uri": "https://localhost:8080/"
        },
        "id": "e7OcnwrpC6IZ",
        "outputId": "fbac5837-421b-4654-a4e9-b07225d077de"
      },
      "execution_count": null,
      "outputs": [
        {
          "output_type": "execute_result",
          "data": {
            "text/plain": [
              "2.3666666666666667"
            ]
          },
          "metadata": {},
          "execution_count": 53
        }
      ]
    },
    {
      "cell_type": "code",
      "source": [],
      "metadata": {
        "id": "B70DDAlNDPNP"
      },
      "execution_count": null,
      "outputs": []
    },
    {
      "cell_type": "code",
      "source": [
        "x = 3 + 2 * 2\n",
        "x"
      ],
      "metadata": {
        "colab": {
          "base_uri": "https://localhost:8080/"
        },
        "id": "-ThJIGwoDPqs",
        "outputId": "5b670524-e08d-41bb-a159-b86e8fd50bc7"
      },
      "execution_count": null,
      "outputs": [
        {
          "output_type": "execute_result",
          "data": {
            "text/plain": [
              "7"
            ]
          },
          "metadata": {},
          "execution_count": 54
        }
      ]
    },
    {
      "cell_type": "code",
      "source": [
        "y = (3 + 2) * 2\n",
        "y"
      ],
      "metadata": {
        "colab": {
          "base_uri": "https://localhost:8080/"
        },
        "id": "CEY1b5RSDQF8",
        "outputId": "a72584f2-1a95-47f8-ec96-5237292fdb55"
      },
      "execution_count": null,
      "outputs": [
        {
          "output_type": "execute_result",
          "data": {
            "text/plain": [
              "10"
            ]
          },
          "metadata": {},
          "execution_count": 55
        }
      ]
    },
    {
      "cell_type": "code",
      "source": [
        "x = 3 + 2 * 2\n",
        "y = (3 + 2) * 2\n",
        "z = x + y\n",
        "print(z)"
      ],
      "metadata": {
        "colab": {
          "base_uri": "https://localhost:8080/"
        },
        "id": "bCdXa74WDqNc",
        "outputId": "ab950eb1-0ca4-4e40-efbe-5bdddc32528d"
      },
      "execution_count": null,
      "outputs": [
        {
          "output_type": "stream",
          "name": "stdout",
          "text": [
            "17\n"
          ]
        }
      ]
    },
    {
      "cell_type": "code",
      "source": [
        "panjang = 20.5\n",
        "lebar = 25\n",
        "tinggi = 1\n",
        "\n",
        "keliling = 2 * (panjang + lebar)\n",
        "luas = panjang * lebar\n",
        "volume = panjang * lebar * tinggi\n",
        "\n",
        "print('Panjang = ', + panjang)\n",
        "print('Lebar = ', + lebar)\n",
        "print('Tinggi = ',  tinggi)\n",
        "print('Keliling = ',  keliling)\n",
        "print('Volume = ', + volume)"
      ],
      "metadata": {
        "colab": {
          "base_uri": "https://localhost:8080/"
        },
        "id": "uvCrqlMVGqPZ",
        "outputId": "44f8eae8-4297-4fd5-da0c-e28c8978daba"
      },
      "execution_count": null,
      "outputs": [
        {
          "output_type": "stream",
          "name": "stdout",
          "text": [
            "Panjang =  20.5\n",
            "Lebar =  25\n",
            "Tinggi =  1\n",
            "Keliling =  91.0\n",
            "Volume =  512.5\n"
          ]
        }
      ]
    },
    {
      "cell_type": "code",
      "source": [
        "ShafiraK = 85\n",
        "ShafiraS = 75\n",
        "AmandaK = 80\n",
        "AmandaS = 90\n",
        "AdityaK = 75\n",
        "AdityaS = 80\n",
        "NediaK = 95\n",
        "NediaS = 80\n",
        "WidyaK = 85\n",
        "WidyaS = 85\n",
        "HanifK = 75\n",
        "HanifS = 90\n",
        "AndiK = 70\n",
        "AndiS = 75\n",
        "DhanarK = 85\n",
        "DhanarS = 85\n",
        "HikmaK = 80\n",
        "HikmaS = 75\n",
        "\n",
        "Jawab1 = (ShafiraK + ShafiraS) / 2\n",
        "Jawab2 = (HanifK + HanifS) + (AndiK + AndiS)\n",
        "Jawab3a = (WidyaK + WidyaS) / 2\n",
        "Jawab3b = (DhanarK + DhanarS) / 2\n",
        "Jawab3c = (HikmaK + HikmaS) / 2\n",
        "Jawab3d = (NediaK + NediaS) / 2\n",
        "Jawab3e = (Jawab3a + Jawab3b + Jawab3c + Jawab3d) / 4\n",
        "Jawab4 = (ShafiraK + AmandaK + AdityaK + NediaK + WidyaK + HanifK + AndiK + DhanarK + HikmaK) / 9\n",
        "Jawab5 = (ShafiraS + AmandaS + AdityaS + NediaS + WidyaS + HanifS + AndiS + DhanarS + HikmaS) / 9\n",
        "\n",
        "print('1. Rata rata nilai Shafira = ', Jawab1)\n",
        "print('2. Jumlah nilai Hanif dan Andi pada semua mata kuliah = ', Jawab2)\n",
        "print('3. a) Rata rata nilai Widya = ', Jawab3a)\n",
        "print('3. b) Rata rata nilai Dhanar = ', Jawab3b)\n",
        "print('3. c) Rata rata nilai Hikma = ', Jawab3c)\n",
        "print('3. d) Rata rata nilai Nedia = ', Jawab3d)\n",
        "print('3. e) Rata rata nilai Widya, Dhanar, Hikma, dan Nedia = ', Jawab3e)\n",
        "print('4. Rata rata nilai Kalkulus untuk semua mahasiswa = ', Jawab4)\n",
        "print('5. Rata rata nilai Metode Statistika untuk semua mahasiswa = ', Jawab5)"
      ],
      "metadata": {
        "colab": {
          "base_uri": "https://localhost:8080/"
        },
        "id": "OAk-mDFKqbg4",
        "outputId": "7788c2d4-6190-4fbc-b5a5-a1ba8a07419f"
      },
      "execution_count": null,
      "outputs": [
        {
          "output_type": "stream",
          "name": "stdout",
          "text": [
            "1. Rata rata nilai Shafira =  80.0\n",
            "2. Jumlah nilai Hanif dan Andi pada semua mata kuliah =  310\n",
            "3. a) Rata rata nilai Widya =  85.0\n",
            "3. b) Rata rata nilai Dhanar =  85.0\n",
            "3. c) Rata rata nilai Hikma =  77.5\n",
            "3. d) Rata rata nilai Nedia =  87.5\n",
            "3. e) Rata rata nilai Widya, Dhanar, Hikma, dan Nedia =  83.75\n",
            "4. Rata rata nilai Kalkulus untuk semua mahasiswa =  81.11111111111111\n",
            "5. Rata rata nilai Metode Statistika untuk semua mahasiswa =  81.66666666666667\n"
          ]
        }
      ]
    },
    {
      "cell_type": "code",
      "source": [
        "gaji_jam = 30000\n",
        "jam_sehari = 8\n",
        "agustus = 23\n",
        "tidak_masuk = 3\n",
        "tahun = 10\n",
        "upah_lembur = 10000\n",
        "jam_lembur = 5\n",
        "persen_tunjangan = 0.1\n",
        "\n",
        "# Soal nomor 1\n",
        "kerja_agustus = (agustus - tidak_masuk) * jam_sehari\n",
        "gaji_agustus = kerja_agustus * gaji_jam\n",
        "\n",
        "# Soal nomor 2\n",
        "if tahun > 5:\n",
        "    tunjangan = persen_tunjangan * gaji_agustus\n",
        "else:\n",
        "    tunjangan = 0\n",
        "\n",
        "# Soal nomor 3\n",
        "gaji_lembur = jam_lembur * upah_lembur\n",
        "total_gaji_agustus = gaji_agustus + tunjangan + gaji_lembur\n",
        "\n",
        "# Output\n",
        "print(\"Gaji Dwi bln Agustus 3 hari tidak masuk: Rp {:,}\".format(int(gaji_agustus)))\n",
        "print(\"Tunjangan yang diterima Dwi bln Agustus: Rp {:,}\".format(int(tunjangan)))\n",
        "print(\"Total gaji Dwi bln Agustus (dengan lembur): Rp {:,}\".format(int(total_gaji_agustus)))"
      ],
      "metadata": {
        "colab": {
          "base_uri": "https://localhost:8080/"
        },
        "id": "wX7ipRC2yHx2",
        "outputId": "c1604d84-94dc-40ed-f8e7-d30b12cf8e24"
      },
      "execution_count": 11,
      "outputs": [
        {
          "output_type": "stream",
          "name": "stdout",
          "text": [
            "Gaji Dwi bln Agustus 3 hari tidak masuk: Rp 4,800,000\n",
            "Tunjangan yang diterima Dwi bln Agustus: Rp 480,000\n",
            "Total gaji Dwi bln Agustus (dengan lembur): Rp 5,330,000\n"
          ]
        }
      ]
    }
  ]
}