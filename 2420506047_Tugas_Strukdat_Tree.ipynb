{
  "nbformat": 4,
  "nbformat_minor": 0,
  "metadata": {
    "colab": {
      "provenance": []
    },
    "kernelspec": {
      "name": "python3",
      "display_name": "Python 3"
    },
    "language_info": {
      "name": "python"
    }
  },
  "cells": [
    {
      "cell_type": "code",
      "execution_count": 3,
      "metadata": {
        "colab": {
          "base_uri": "https://localhost:8080/"
        },
        "id": "ypmiUwb_HIPx",
        "outputId": "4c7917c9-6a1b-4f24-b730-cf8b17f9bc5e"
      },
      "outputs": [
        {
          "output_type": "stream",
          "name": "stdout",
          "text": [
            "Inorder Traversal:\n",
            "14 3 14 47 3 "
          ]
        }
      ],
      "source": [
        "#Struktur Tree berdasarkan identitas saya\n",
        "class Node:\n",
        "    def __init__(self, data):\n",
        "        self.data = data\n",
        "        self.left = None\n",
        "        self.right = None\n",
        "\n",
        "def inorder_traversal(node):\n",
        "    if node:\n",
        "        inorder_traversal(node.left)\n",
        "        print(node.data, end=' ')\n",
        "        inorder_traversal(node.right)\n",
        "\n",
        "root = Node(14)\n",
        "root.left = Node(3)\n",
        "root.right = Node(47)\n",
        "root.left.left = Node(14)\n",
        "root.right.right = Node(3)\n",
        "\n",
        "print(\"Inorder Traversal:\")\n",
        "inorder_traversal(root)"
      ]
    },
    {
      "cell_type": "code",
      "source": [
        "class Node:\n",
        "    def __init__(self, key):\n",
        "        self.key = key\n",
        "        self.left = None\n",
        "        self.right = None\n",
        "\n",
        "class BST:\n",
        "    def __init__(self):\n",
        "        self.root = None\n",
        "\n",
        "    def insert(self, key):\n",
        "        self.root = self._insert_rec(self.root, key)\n",
        "\n",
        "    def _insert_rec(self, node, key):\n",
        "        if node is None:\n",
        "            return Node(key)\n",
        "        if key < node.key:\n",
        "            node.left = self._insert_rec(node.left, key)\n",
        "        else:\n",
        "            node.right = self._insert_rec(node.right, key)\n",
        "        return node\n",
        "\n",
        "    def search(self, key):\n",
        "        return self._search_rec(self.root, key)\n",
        "\n",
        "    def _search_rec(self, node, key):\n",
        "        if node is None:\n",
        "            return False\n",
        "        if node.key == key:\n",
        "            return True\n",
        "        elif key < node.key:\n",
        "            return self._search_rec(node.left, key)\n",
        "        else:\n",
        "            return self._search_rec(node.right, key)\n",
        "\n",
        "    def inorder(self, node):\n",
        "        if node:\n",
        "            self.inorder(node.left)\n",
        "            print(node.key, end=' ')\n",
        "            self.inorder(node.right)\n",
        "\n",
        "    def preorder(self, node):\n",
        "        if node:\n",
        "            print(node.key, end=' ')\n",
        "            self.preorder(node.left)\n",
        "            self.preorder(node.right)\n",
        "\n",
        "    def postorder(self, node):\n",
        "        if node:\n",
        "            self.postorder(node.left)\n",
        "            self.postorder(node.right)\n",
        "            print(node.key, end=' ')\n",
        "\n",
        "# Data\n",
        "data_list = [47, 14, 3, 77, 65, 10, 2]\n",
        "print(\"Data yang dimasukkan ke BST:\", data_list)\n",
        "\n",
        "bst = BST()\n",
        "for num in data_list:\n",
        "    bst.insert(num)\n",
        "\n",
        "# Inisiasi transversal\n",
        "print(\"\\nInorder Traversal:\")\n",
        "bst.inorder(bst.root)\n",
        "\n",
        "print(\"\\nPreorder Traversal:\")\n",
        "bst.preorder(bst.root)\n",
        "\n",
        "print(\"\\nPostorder Traversal:\")\n",
        "bst.postorder(bst.root)\n",
        "\n",
        "# Pencarian tambahan\n",
        "angka_dicari = 47\n",
        "angka_bebas = 25\n",
        "\n",
        "print(f\"\\n\\nPencarian angka {angka_dicari}:\")\n",
        "print(\"Ditemukan\" if bst.search(angka_dicari) else \"Tidak ditemukan\")\n",
        "\n",
        "print(f\"Pencarian angka {angka_bebas}:\")\n",
        "print(\"Ditemukan\" if bst.search(angka_bebas) else \"Tidak ditemukan\")\n"
      ],
      "metadata": {
        "colab": {
          "base_uri": "https://localhost:8080/"
        },
        "id": "UMUx6AU6IE5U",
        "outputId": "7dcf943b-88fd-4eb7-8e7c-1284e5f1d854"
      },
      "execution_count": 4,
      "outputs": [
        {
          "output_type": "stream",
          "name": "stdout",
          "text": [
            "Data yang dimasukkan ke BST: [47, 14, 3, 77, 65, 10, 2]\n",
            "\n",
            "Inorder Traversal:\n",
            "2 3 10 14 47 65 77 \n",
            "Preorder Traversal:\n",
            "47 14 3 2 10 77 65 \n",
            "Postorder Traversal:\n",
            "2 10 3 14 65 77 47 \n",
            "\n",
            "Pencarian angka 47:\n",
            "Ditemukan\n",
            "Pencarian angka 25:\n",
            "Tidak ditemukan\n"
          ]
        }
      ]
    }
  ]
}