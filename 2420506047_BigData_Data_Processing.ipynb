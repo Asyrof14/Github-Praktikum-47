{
  "nbformat": 4,
  "nbformat_minor": 0,
  "metadata": {
    "colab": {
      "provenance": []
    },
    "kernelspec": {
      "name": "python3",
      "display_name": "Python 3"
    },
    "language_info": {
      "name": "python"
    }
  },
  "cells": [
    {
      "cell_type": "code",
      "execution_count": 1,
      "metadata": {
        "colab": {
          "base_uri": "https://localhost:8080/"
        },
        "id": "SnWror66TM5p",
        "outputId": "d7377990-ff0b-42c2-d6f2-35544752aac7"
      },
      "outputs": [
        {
          "output_type": "stream",
          "name": "stdout",
          "text": [
            "Requirement already satisfied: pyspark in /usr/local/lib/python3.12/dist-packages (3.5.1)\n",
            "Requirement already satisfied: py4j==0.10.9.7 in /usr/local/lib/python3.12/dist-packages (from pyspark) (0.10.9.7)\n"
          ]
        }
      ],
      "source": [
        "pip install pyspark"
      ]
    },
    {
      "cell_type": "code",
      "source": [
        "# Contoh membuat DataFrame sederhana dan operasi dasar\n",
        "from pyspark.sql import SparkSession\n",
        "spark = SparkSession.builder.appName('HandsOnPertemuan3').getOrCreate()\n",
        "data = [('James', 'Sales', 3000),\n",
        "        ('Michael', 'Sales', 4600),\n",
        "        ('Robert', 'Sales', 4100),\n",
        "        ('Maria', 'Finance', 3000),]\n",
        "columns = ['EmployeeName', 'Department', 'Salary']\n",
        "\n",
        "df = spark.createDataFrame(data, columns)\n",
        "df.show()"
      ],
      "metadata": {
        "colab": {
          "base_uri": "https://localhost:8080/"
        },
        "id": "ANC9KNA-UJt1",
        "outputId": "24f46dd5-d5ad-4c77-b575-b30063493aaa"
      },
      "execution_count": 32,
      "outputs": [
        {
          "output_type": "stream",
          "name": "stdout",
          "text": [
            "+------------+----------+------+\n",
            "|EmployeeName|Department|Salary|\n",
            "+------------+----------+------+\n",
            "|       James|     Sales|  3000|\n",
            "|     Michael|     Sales|  4600|\n",
            "|      Robert|     Sales|  4100|\n",
            "|       Maria|   Finance|  3000|\n",
            "+------------+----------+------+\n",
            "\n"
          ]
        }
      ]
    },
    {
      "cell_type": "code",
      "source": [
        "# Contoh operasi transformasi DataFrame\n",
        "df.select('EmployeeName', 'Salary').show()\n",
        "df.filter(df.Salary > 3000).show()\n",
        "df.groupBy('Department').avg('Salary').show()"
      ],
      "metadata": {
        "colab": {
          "base_uri": "https://localhost:8080/"
        },
        "id": "qAxP9tO_We2K",
        "outputId": "fef923cf-d821-4a7c-f897-21f117c046b7"
      },
      "execution_count": 24,
      "outputs": [
        {
          "output_type": "stream",
          "name": "stdout",
          "text": [
            "+------------+------+\n",
            "|EmployeeName|Salary|\n",
            "+------------+------+\n",
            "|       James|  3000|\n",
            "|     Michael|  4600|\n",
            "|      Robert|  4100|\n",
            "|       Maria|  3000|\n",
            "+------------+------+\n",
            "\n",
            "+------------+----------+------+\n",
            "|EmployeeName|Department|Salary|\n",
            "+------------+----------+------+\n",
            "|     Michael|     Sales|  4600|\n",
            "|      Robert|     Sales|  4100|\n",
            "+------------+----------+------+\n",
            "\n",
            "+----------+-----------+\n",
            "|Department|avg(Salary)|\n",
            "+----------+-----------+\n",
            "|     Sales|     3900.0|\n",
            "|   Finance|     3000.0|\n",
            "+----------+-----------+\n",
            "\n"
          ]
        }
      ]
    },
    {
      "cell_type": "code",
      "source": [
        "df.withColumn('SalaryBonus', df['Salary'] * 0.1)\n",
        "df.withColumn('TotalCompensation', df['Salary'] + df['SalaryBonus'])\n",
        "\n",
        "df.show()"
      ],
      "metadata": {
        "colab": {
          "base_uri": "https://localhost:8080/"
        },
        "id": "6kIbJf7EYg8j",
        "outputId": "39eded54-a9c2-45d5-ce2e-78647e5aed63"
      },
      "execution_count": 38,
      "outputs": [
        {
          "output_type": "stream",
          "name": "stdout",
          "text": [
            "+------------+----------+------+-----------+-----------------+\n",
            "|EmployeeName|Department|Salary|SalaryBonus|TotalCompensation|\n",
            "+------------+----------+------+-----------+-----------------+\n",
            "|       James|     Sales|  3000|      300.0|           3300.0|\n",
            "|     Michael|     Sales|  4600|      460.0|           5060.0|\n",
            "|      Robert|     Sales|  4100|      410.0|           4510.0|\n",
            "|       Maria|   Finance|  3000|      300.0|           3300.0|\n",
            "+------------+----------+------+-----------+-----------------+\n",
            "\n"
          ]
        }
      ]
    },
    {
      "cell_type": "code",
      "source": [
        "# Contoh menggunakan window functions\n",
        "from pyspark.sql.window import Window\n",
        "from pyspark.sql import functions as F\n",
        "\n",
        "windowSpec = Window.partitionBy('Department').orderBy('Salary')\n",
        "df.withColumn('Rank', F.rank().over(windowSpec)).show()"
      ],
      "metadata": {
        "colab": {
          "base_uri": "https://localhost:8080/"
        },
        "id": "2erAyqeMbnOS",
        "outputId": "f403eeee-9c9c-45d6-e91f-c39b2ef6b6bd"
      },
      "execution_count": 31,
      "outputs": [
        {
          "output_type": "stream",
          "name": "stdout",
          "text": [
            "+------------+----------+------+----+\n",
            "|EmployeeName|Department|Salary|Rank|\n",
            "+------------+----------+------+----+\n",
            "|       Maria|   Finance|  3000|   1|\n",
            "|       James|     Sales|  3000|   1|\n",
            "|      Robert|     Sales|  4100|   2|\n",
            "|     Michael|     Sales|  4600|   3|\n",
            "+------------+----------+------+----+\n",
            "\n"
          ]
        }
      ]
    },
    {
      "cell_type": "code",
      "source": [],
      "metadata": {
        "id": "cByR8nB7v8Ep"
      },
      "execution_count": null,
      "outputs": []
    },
    {
      "cell_type": "code",
      "source": [
        "data = [(\"The Witcher 3\", \"RPG\", 360000),\n",
        "        (\"Elden Ring\", \"RPG\", 599000),\n",
        "        (\"Persona 3: Reload\", \"RPG\", 779000),\n",
        "        (\"Clair Obscur: Expedition 33\", \"Turn-based\", 499000),\n",
        "        (\"Honkai Star Rail\", \"Turn-based\", 0),\n",
        "        (\"Hollow Knight: Silksong\", \"Metroidvania\", 166000)\n",
        "        ]\n",
        "\n",
        "columns = [\"name\", \"genre\", \"price\"]\n",
        "\n",
        "df_game = spark.createDataFrame(data, columns)\n",
        "\n",
        "df_game.show()\n",
        "\n",
        "df_game.printSchema()"
      ],
      "metadata": {
        "colab": {
          "base_uri": "https://localhost:8080/"
        },
        "id": "HclTV6Xqv8Rt",
        "outputId": "44a18695-f1b4-4b38-e67a-326728ad16a7"
      },
      "execution_count": 84,
      "outputs": [
        {
          "output_type": "stream",
          "name": "stdout",
          "text": [
            "+--------------------+------------+------+\n",
            "|                name|       genre| price|\n",
            "+--------------------+------------+------+\n",
            "|       The Witcher 3|         RPG|360000|\n",
            "|          Elden Ring|         RPG|599000|\n",
            "|   Persona 3: Reload|         RPG|779000|\n",
            "|Clair Obscur: Exp...|  Turn-based|499000|\n",
            "|    Honkai Star Rail|  Turn-based|     0|\n",
            "|Hollow Knight: Si...|Metroidvania|166000|\n",
            "+--------------------+------------+------+\n",
            "\n",
            "root\n",
            " |-- name: string (nullable = true)\n",
            " |-- genre: string (nullable = true)\n",
            " |-- price: long (nullable = true)\n",
            "\n"
          ]
        }
      ]
    },
    {
      "cell_type": "code",
      "source": [
        "from pyspark.sql.functions import col, avg, min, max\n",
        "\n",
        "# Filtering game mahal\n",
        "df_expensive = df_game.filter(col(\"price\") > 500000)\n",
        "df_expensive.show()\n",
        "\n",
        "# Agregasi: rata-rata, min, max\n",
        "df_avg_price = df_game.groupBy(\"genre\").agg(avg(\"price\").alias(\"average_price\"))\n",
        "df_avg_price.show()\n",
        "\n",
        "df_min_price = df_game.groupBy(\"genre\").agg(min(\"price\").alias(\"smallest_price\"))\n",
        "df_min_price.show()\n",
        "\n",
        "df_max_price = df_game.groupBy(\"genre\").agg(max(\"price\").alias(\"highest_price\"))\n",
        "df_max_price.show()"
      ],
      "metadata": {
        "colab": {
          "base_uri": "https://localhost:8080/"
        },
        "id": "mu-_dzWLHZDt",
        "outputId": "3ec9c407-1925-44b9-fc66-5663a9783442"
      },
      "execution_count": 85,
      "outputs": [
        {
          "output_type": "stream",
          "name": "stdout",
          "text": [
            "+-----------------+-----+------+\n",
            "|             name|genre| price|\n",
            "+-----------------+-----+------+\n",
            "|       Elden Ring|  RPG|599000|\n",
            "|Persona 3: Reload|  RPG|779000|\n",
            "+-----------------+-----+------+\n",
            "\n",
            "+------------+-----------------+\n",
            "|       genre|    average_price|\n",
            "+------------+-----------------+\n",
            "|         RPG|579333.3333333334|\n",
            "|Metroidvania|         166000.0|\n",
            "|  Turn-based|         249500.0|\n",
            "+------------+-----------------+\n",
            "\n",
            "+------------+--------------+\n",
            "|       genre|smallest_price|\n",
            "+------------+--------------+\n",
            "|         RPG|        360000|\n",
            "|Metroidvania|        166000|\n",
            "|  Turn-based|             0|\n",
            "+------------+--------------+\n",
            "\n",
            "+------------+-------------+\n",
            "|       genre|highest_price|\n",
            "+------------+-------------+\n",
            "|         RPG|       779000|\n",
            "|Metroidvania|       166000|\n",
            "|  Turn-based|       499000|\n",
            "+------------+-------------+\n",
            "\n"
          ]
        }
      ]
    },
    {
      "cell_type": "code",
      "source": [
        "# DF Rating\n",
        "data_rating = [(\"The Witcher 3\", 9.5),\n",
        "              (\"Elden Ring\", 9.8),\n",
        "              (\"Persona 3: Reload\", 8.5),\n",
        "              (\"Clair Obscur: Expedition 33\", 9.7),\n",
        "              (\"Hollow Knight: Silksong\", 8.9),\n",
        "              (\"Red Dead Redemption 2\",  9.7)]\n",
        "\n",
        "columns_rating = [\"name\", \"rating\"]\n",
        "\n",
        "df_rating = spark.createDataFrame(data_rating, columns_rating)\n",
        "\n",
        "# Inner join\n",
        "df_join = df_game.join(df_rating, on=\"name\", how=\"inner\")\n",
        "df_join.show()\n",
        "\n",
        "\n",
        "\n",
        "# Diskon 40%\n",
        "df_diskon = df_game.withColumn(\"discount\", col(\"price\") * 0.6)\n",
        "df_diskon.show()"
      ],
      "metadata": {
        "colab": {
          "base_uri": "https://localhost:8080/"
        },
        "id": "VG-kQtJqIa4G",
        "outputId": "53fecc0b-1c50-43f0-f74c-75b4eae064b7"
      },
      "execution_count": 88,
      "outputs": [
        {
          "output_type": "stream",
          "name": "stdout",
          "text": [
            "+--------------------+------------+------+------+\n",
            "|                name|       genre| price|rating|\n",
            "+--------------------+------------+------+------+\n",
            "|Clair Obscur: Exp...|  Turn-based|499000|   9.7|\n",
            "|          Elden Ring|         RPG|599000|   9.8|\n",
            "|Hollow Knight: Si...|Metroidvania|166000|   8.9|\n",
            "|   Persona 3: Reload|         RPG|779000|   8.5|\n",
            "|       The Witcher 3|         RPG|360000|   9.5|\n",
            "+--------------------+------------+------+------+\n",
            "\n",
            "+--------------------+------------+------+--------+\n",
            "|                name|       genre| price|discount|\n",
            "+--------------------+------------+------+--------+\n",
            "|       The Witcher 3|         RPG|360000|216000.0|\n",
            "|          Elden Ring|         RPG|599000|359400.0|\n",
            "|   Persona 3: Reload|         RPG|779000|467400.0|\n",
            "|Clair Obscur: Exp...|  Turn-based|499000|299400.0|\n",
            "|    Honkai Star Rail|  Turn-based|     0|     0.0|\n",
            "|Hollow Knight: Si...|Metroidvania|166000| 99600.0|\n",
            "+--------------------+------------+------+--------+\n",
            "\n"
          ]
        }
      ]
    },
    {
      "cell_type": "code",
      "source": [
        "from pyspark.sql.window import Window\n",
        "from pyspark.sql.functions import rank\n",
        "\n",
        "windowSpec = Window.partitionBy(\"genre\").orderBy(col(\"price\").desc())\n",
        "\n",
        "df_peringkat = df_game.withColumn(\"peringkat_genre\", rank().over(windowSpec))\n",
        "df_peringkat.show()"
      ],
      "metadata": {
        "colab": {
          "base_uri": "https://localhost:8080/"
        },
        "id": "L_jnV4g1Uuey",
        "outputId": "c98140d6-5515-4b1d-fd0a-4ed6b9be9b73"
      },
      "execution_count": 83,
      "outputs": [
        {
          "output_type": "stream",
          "name": "stdout",
          "text": [
            "+--------------------+------------+------+---------------+\n",
            "|                name|       genre| price|peringkat_genre|\n",
            "+--------------------+------------+------+---------------+\n",
            "|Hollow Knight: Si...|Metroidvania|166000|              1|\n",
            "|   Persona 3: Reload|         RPG|779000|              1|\n",
            "|          Elden Ring|         RPG|599000|              2|\n",
            "|       The Witcher 3|         RPG|360000|              3|\n",
            "|Clair Obscur: Exp...|  Turn-based|499000|              1|\n",
            "|    Honkai Star Rail|  Turn-based|     0|              2|\n",
            "+--------------------+------------+------+---------------+\n",
            "\n"
          ]
        }
      ]
    },
    {
      "cell_type": "code",
      "source": [],
      "metadata": {
        "id": "YwkqzOvXf9ga"
      },
      "execution_count": null,
      "outputs": []
    },
    {
      "cell_type": "code",
      "source": [
        "!pip install kaggle\n",
        "\n",
        "!mkdir ~/.kaggle\n",
        "!cp kaggle.json ~/.kaggle/\n",
        "\n",
        "!chmod 600 ~/.kaggle/kaggle.json"
      ],
      "metadata": {
        "colab": {
          "base_uri": "https://localhost:8080/"
        },
        "id": "gQ19RDSsf9p2",
        "outputId": "f8a31524-91cb-45dd-c1c3-05daaee19e51"
      },
      "execution_count": 89,
      "outputs": [
        {
          "output_type": "stream",
          "name": "stdout",
          "text": [
            "Requirement already satisfied: kaggle in /usr/local/lib/python3.12/dist-packages (1.7.4.5)\n",
            "Requirement already satisfied: bleach in /usr/local/lib/python3.12/dist-packages (from kaggle) (6.2.0)\n",
            "Requirement already satisfied: certifi>=14.05.14 in /usr/local/lib/python3.12/dist-packages (from kaggle) (2025.8.3)\n",
            "Requirement already satisfied: charset-normalizer in /usr/local/lib/python3.12/dist-packages (from kaggle) (3.4.3)\n",
            "Requirement already satisfied: idna in /usr/local/lib/python3.12/dist-packages (from kaggle) (3.10)\n",
            "Requirement already satisfied: protobuf in /usr/local/lib/python3.12/dist-packages (from kaggle) (5.29.5)\n",
            "Requirement already satisfied: python-dateutil>=2.5.3 in /usr/local/lib/python3.12/dist-packages (from kaggle) (2.9.0.post0)\n",
            "Requirement already satisfied: python-slugify in /usr/local/lib/python3.12/dist-packages (from kaggle) (8.0.4)\n",
            "Requirement already satisfied: requests in /usr/local/lib/python3.12/dist-packages (from kaggle) (2.32.4)\n",
            "Requirement already satisfied: setuptools>=21.0.0 in /usr/local/lib/python3.12/dist-packages (from kaggle) (75.2.0)\n",
            "Requirement already satisfied: six>=1.10 in /usr/local/lib/python3.12/dist-packages (from kaggle) (1.17.0)\n",
            "Requirement already satisfied: text-unidecode in /usr/local/lib/python3.12/dist-packages (from kaggle) (1.3)\n",
            "Requirement already satisfied: tqdm in /usr/local/lib/python3.12/dist-packages (from kaggle) (4.67.1)\n",
            "Requirement already satisfied: urllib3>=1.15.1 in /usr/local/lib/python3.12/dist-packages (from kaggle) (2.5.0)\n",
            "Requirement already satisfied: webencodings in /usr/local/lib/python3.12/dist-packages (from kaggle) (0.5.1)\n"
          ]
        }
      ]
    },
    {
      "cell_type": "code",
      "source": [
        "!kaggle datasets download -d kanchana1990/perfume-e-commerce-dataset-2024\n",
        "!unzip perfume-e-commerce-dataset-2024.zip"
      ],
      "metadata": {
        "colab": {
          "base_uri": "https://localhost:8080/"
        },
        "id": "jj59uRlOgX6w",
        "outputId": "396d2e05-4bb3-4b69-cbf4-709a0ec2ec1f"
      },
      "execution_count": 98,
      "outputs": [
        {
          "output_type": "stream",
          "name": "stdout",
          "text": [
            "Dataset URL: https://www.kaggle.com/datasets/kanchana1990/perfume-e-commerce-dataset-2024\n",
            "License(s): ODC Attribution License (ODC-By)\n",
            "Downloading perfume-e-commerce-dataset-2024.zip to /content\n",
            "  0% 0.00/106k [00:00<?, ?B/s]\n",
            "100% 106k/106k [00:00<00:00, 245MB/s]\n",
            "Archive:  perfume-e-commerce-dataset-2024.zip\n",
            "  inflating: ebay_mens_perfume.csv   \n",
            "  inflating: ebay_womens_perfume.csv  \n"
          ]
        }
      ]
    },
    {
      "cell_type": "code",
      "source": [
        "df = spark.read.csv(\"ebay_mens_perfume.csv\", header=True, inferSchema=True)\n",
        "df.printSchema()\n",
        "df.show(5)"
      ],
      "metadata": {
        "colab": {
          "base_uri": "https://localhost:8080/"
        },
        "id": "gJrug4qDj7b7",
        "outputId": "3f2df4a0-7610-435a-f6cf-4e887554149a"
      },
      "execution_count": 99,
      "outputs": [
        {
          "output_type": "stream",
          "name": "stdout",
          "text": [
            "root\n",
            " |-- brand: string (nullable = true)\n",
            " |-- title: string (nullable = true)\n",
            " |-- type: string (nullable = true)\n",
            " |-- price: string (nullable = true)\n",
            " |-- priceWithCurrency: string (nullable = true)\n",
            " |-- available: string (nullable = true)\n",
            " |-- availableText: string (nullable = true)\n",
            " |-- sold: string (nullable = true)\n",
            " |-- lastUpdated: string (nullable = true)\n",
            " |-- itemLocation: string (nullable = true)\n",
            "\n",
            "+--------------+--------------------+---------------+------+-----------------+---------+--------------------+----+--------------------+--------------------+\n",
            "|         brand|               title|           type| price|priceWithCurrency|available|       availableText|sold|         lastUpdated|        itemLocation|\n",
            "+--------------+--------------------+---------------+------+-----------------+---------+--------------------+----+--------------------+--------------------+\n",
            "|          Dior|Christian Dior Sa...|  Eau de Parfum| 84.99|     US $84.99/ea|       10|More than 10 avai...| 116|May 24, 2024 10:0...|Allen Park, Michi...|\n",
            "|       AS SHOW|A-v-entus Eau de ...|  Eau de Parfum|109.99|       US $109.99|        8|8 available / 48 ...|  48|May 23, 2024 23:0...|Atlanta, Georgia,...|\n",
            "|     Unbranded|HOGO BOSS cologne...|Eau de Toilette|   100|       US $100.00|       10|More than 10 avai...|  27|May 22, 2024 21:5...|Dearborn, Michiga...|\n",
            "|Giorgio Armani|Acqua Di Gio by G...|Eau de Toilette| 44.99|     US $44.99/ea|        2|2 available / 159...| 159|May 24, 2024 03:3...|Reinholds, Pennsy...|\n",
            "|       Lattafa|Lattafa Men's Hay...|     Fragrances| 16.91|        US $16.91|     NULL|Limited quantity ...| 156|May 24, 2024 07:5...|Brooklyn, New Yor...|\n",
            "+--------------+--------------------+---------------+------+-----------------+---------+--------------------+----+--------------------+--------------------+\n",
            "only showing top 5 rows\n",
            "\n"
          ]
        }
      ]
    },
    {
      "cell_type": "code",
      "source": [
        "from pyspark.sql.functions import col, avg, min, max\n",
        "\n",
        "# Filtering parfum mahal\n",
        "df_expensive = df.filter(col(\"price\") > 50)\n",
        "df_expensive.show(10)\n",
        "\n",
        "# Agregasi: rata-rata, min, max\n",
        "df_avg_price = df.groupBy(\"type\").agg(avg(\"price\").alias(\"average_price\"))\n",
        "df_avg_price.show(10)\n",
        "\n",
        "df_min_price = df.groupBy(\"type\").agg(min(\"price\").alias(\"smallest_price\"))\n",
        "df_min_price.show(10)\n",
        "\n",
        "df_max_price = df.groupBy(\"type\").agg(max(\"price\").alias(\"highest_price\"))\n",
        "df_max_price.show(10)"
      ],
      "metadata": {
        "colab": {
          "base_uri": "https://localhost:8080/"
        },
        "id": "Y1qCc4mNm0fz",
        "outputId": "d35caf59-1376-402a-c6d3-ef38301a4c13"
      },
      "execution_count": 104,
      "outputs": [
        {
          "output_type": "stream",
          "name": "stdout",
          "text": [
            "+------------+--------------------+---------------+------+-----------------+---------+--------------------+----+--------------------+--------------------+\n",
            "|       brand|               title|           type| price|priceWithCurrency|available|       availableText|sold|         lastUpdated|        itemLocation|\n",
            "+------------+--------------------+---------------+------+-----------------+---------+--------------------+----+--------------------+--------------------+\n",
            "|        Dior|Christian Dior Sa...|  Eau de Parfum| 84.99|     US $84.99/ea|       10|More than 10 avai...| 116|May 24, 2024 10:0...|Allen Park, Michi...|\n",
            "|     AS SHOW|A-v-entus Eau de ...|  Eau de Parfum|109.99|       US $109.99|        8|8 available / 48 ...|  48|May 23, 2024 23:0...|Atlanta, Georgia,...|\n",
            "|   Unbranded|HOGO BOSS cologne...|Eau de Toilette|   100|       US $100.00|       10|More than 10 avai...|  27|May 22, 2024 21:5...|Dearborn, Michiga...|\n",
            "|   Unbranded|Parfums De-Marly-...|  Eau de Parfum|    85|        US $85.00|     NULL|   Last One / 6 sold|   6|May 24, 2024 00:1...|Ithaca, New York,...|\n",
            "|     As Show|Sauvage Eau de Pa...|  Eau de Parfum| 59.99|     US $59.99/ea|        9|9 available / 63 ...|  63|May 23, 2024 03:0...|Dayton,New Jersey...|\n",
            "|Paco Rabanne|1 Million by Paco...|         PARFUM| 68.99|     US $68.99/ea|        2|2 available / 20 ...|  20|May 24, 2024 02:4...|San Jose, Califor...|\n",
            "|        Dior|Dior Sauvage Eau ...|Eau de Toilette| 83.95|        US $83.95|        4|4 available / 22 ...|  22|May 22, 2024 14:3...|Elmhurst, New Yor...|\n",
            "|      Azzaro|Azzaro The Most W...|         Parfum| 89.97|     US $89.97/ea|       10|10 available / 92...| 920|May 24, 2024 08:3...|Katy, Texas, Unit...|\n",
            "|   Unbranded|USA Parfums de Ma...|  Eau de Parfum| 92.99|        US $92.99|        5|5 available / 19 ...|  19|May 24, 2024 00:0...|College Point, Ne...|\n",
            "|      Azzaro|Azzaro The Most W...|  Eau de Parfum| 87.99|        US $87.99|        2|2 available / 4 sold|   4|                NULL|NEW YORK, United ...|\n",
            "+------------+--------------------+---------------+------+-----------------+---------+--------------------+----+--------------------+--------------------+\n",
            "only showing top 10 rows\n",
            "\n",
            "+--------------------+-------------+\n",
            "|                type|average_price|\n",
            "+--------------------+-------------+\n",
            "|           Pheromone|        12.49|\n",
            "|           Splash-on|        19.97|\n",
            "|            Body Oil|          8.0|\n",
            "|Eau de Toilette I...|         59.0|\n",
            "|     Eau de toilette|        39.99|\n",
            "|        Fine Cologne|         26.1|\n",
            "|Concentrated Uncu...|         6.65|\n",
            "|Deodorant Body Spray|        42.99|\n",
            "|             cologne|        30.95|\n",
            "|            Assorted|        17.95|\n",
            "+--------------------+-------------+\n",
            "only showing top 10 rows\n",
            "\n",
            "+-----------------+--------------+\n",
            "|             type|smallest_price|\n",
            "+-----------------+--------------+\n",
            "|             NULL|         23.89|\n",
            "|                /|         15.89|\n",
            "|            3.3oz|           Men|\n",
            "|       Aftershave|         17.99|\n",
            "|         Assorted|         17.95|\n",
            "|         Body Oil|             8|\n",
            "|       Body Spray|         10.91|\n",
            "|Car Air Freshener|          7.19|\n",
            "|          Cologne|          16.9|\n",
            "|    Cologne spray|         17.49|\n",
            "+-----------------+--------------+\n",
            "only showing top 10 rows\n",
            "\n",
            "+-----------------+-------------+\n",
            "|             type|highest_price|\n",
            "+-----------------+-------------+\n",
            "|             NULL|        89.99|\n",
            "|                /|        15.89|\n",
            "|            3.3oz|          Men|\n",
            "|       Aftershave|           44|\n",
            "|         Assorted|        17.95|\n",
            "|         Body Oil|            8|\n",
            "|       Body Spray|        12.49|\n",
            "|Car Air Freshener|         7.19|\n",
            "|          Cologne|        59.97|\n",
            "|    Cologne spray|        17.49|\n",
            "+-----------------+-------------+\n",
            "only showing top 10 rows\n",
            "\n"
          ]
        }
      ]
    },
    {
      "cell_type": "code",
      "source": [
        "# Diskon 50%\n",
        "df_diskon = df.withColumn(\"discount\", col(\"price\") * 0.5)\n",
        "df_diskon.show(10)"
      ],
      "metadata": {
        "colab": {
          "base_uri": "https://localhost:8080/"
        },
        "id": "GneEAsWHoLdc",
        "outputId": "58edb61a-90b5-4d5e-a878-866fea1737c2"
      },
      "execution_count": 105,
      "outputs": [
        {
          "output_type": "stream",
          "name": "stdout",
          "text": [
            "+---------------+--------------------+---------------+------+-----------------+---------+--------------------+----+--------------------+--------------------+--------+\n",
            "|          brand|               title|           type| price|priceWithCurrency|available|       availableText|sold|         lastUpdated|        itemLocation|discount|\n",
            "+---------------+--------------------+---------------+------+-----------------+---------+--------------------+----+--------------------+--------------------+--------+\n",
            "|           Dior|Christian Dior Sa...|  Eau de Parfum| 84.99|     US $84.99/ea|       10|More than 10 avai...| 116|May 24, 2024 10:0...|Allen Park, Michi...|  42.495|\n",
            "|        AS SHOW|A-v-entus Eau de ...|  Eau de Parfum|109.99|       US $109.99|        8|8 available / 48 ...|  48|May 23, 2024 23:0...|Atlanta, Georgia,...|  54.995|\n",
            "|      Unbranded|HOGO BOSS cologne...|Eau de Toilette|   100|       US $100.00|       10|More than 10 avai...|  27|May 22, 2024 21:5...|Dearborn, Michiga...|    50.0|\n",
            "| Giorgio Armani|Acqua Di Gio by G...|Eau de Toilette| 44.99|     US $44.99/ea|        2|2 available / 159...| 159|May 24, 2024 03:3...|Reinholds, Pennsy...|  22.495|\n",
            "|        Lattafa|Lattafa Men's Hay...|     Fragrances| 16.91|        US $16.91|     NULL|Limited quantity ...| 156|May 24, 2024 07:5...|Brooklyn, New Yor...|   8.455|\n",
            "|Multiple Brands|Men's Perfume Sam...|        Perfume| 14.99|        US $14.99|       10|More than 10 avai...|  79|May 23, 2024 06:5...|Houston, Texas, U...|   7.495|\n",
            "|Maison Alhambra|Glacier Bold by M...|  Eau de Parfum| 30.99|     US $30.99/ea|        9|9 available / 39 ...|  39|May 16, 2024 13:4...|Englewood Cliffs,...|  15.495|\n",
            "|      Unbranded|Parfums De-Marly-...|  Eau de Parfum|    85|        US $85.00|     NULL|   Last One / 6 sold|   6|May 24, 2024 00:1...|Ithaca, New York,...|    42.5|\n",
            "|      Unbranded|Hawas for him Eau...|              /| 15.89|        US $15.89|       10|10 available / 17...|  17|May 24, 2024 09:0...|     shanghai, China|   7.945|\n",
            "|          Gucci|Gucci Guilty for ...|  Eau de Parfum| 49.99|     US $49.99/ea|        8|8 available / 68 ...|  68|May 23, 2024 07:2...|Dearborn Heights,...|  24.995|\n",
            "+---------------+--------------------+---------------+------+-----------------+---------+--------------------+----+--------------------+--------------------+--------+\n",
            "only showing top 10 rows\n",
            "\n"
          ]
        }
      ]
    },
    {
      "cell_type": "code",
      "source": [
        "from pyspark.sql.window import Window\n",
        "from pyspark.sql.functions import rank\n",
        "\n",
        "windowSpec = Window.partitionBy(\"type\").orderBy(col(\"price\").desc())\n",
        "\n",
        "df_peringkat = df.withColumn(\"rankings\", rank().over(windowSpec))\n",
        "df_peringkat.show(10)"
      ],
      "metadata": {
        "colab": {
          "base_uri": "https://localhost:8080/"
        },
        "id": "OZmVtVQOovN5",
        "outputId": "bd5b11b0-0e95-4b51-f66e-765de3be5fc2"
      },
      "execution_count": 108,
      "outputs": [
        {
          "output_type": "stream",
          "name": "stdout",
          "text": [
            "+-------------------+--------------------+----------+-----+-----------------+---------+--------------------+--------+--------------------+--------------------+--------+\n",
            "|              brand|               title|      type|price|priceWithCurrency|available|       availableText|    sold|         lastUpdated|        itemLocation|rankings|\n",
            "+-------------------+--------------------+----------+-----+-----------------+---------+--------------------+--------+--------------------+--------------------+--------+\n",
            "|            AS SHOW|Bleu De Eau de pa...|      NULL|89.99|        US $89.99|        5|5 available / 5 sold|       5|May 14, 2024 20:4...|New York,United S...|       1|\n",
            "|       Calvin Klein|Ck One by Calvin ...|      NULL|23.89|     US $23.89/ea|     NULL|Limited quantity ...|   54052|May 24, 2024 03:5...|Hackensack, New J...|       2|\n",
            "|          Unbranded|Hawas for him Eau...|         /|15.89|        US $15.89|       10|10 available / 17...|      17|May 24, 2024 09:0...|     shanghai, China|       1|\n",
            "|          Unbranded|Hawas for him Eau...|         /|15.89|        US $15.89|        6|6 available / 8 sold|       8|May 22, 2024 22:3...|     shanghai, China|       1|\n",
            "|          Unbranded|Hawas for him Eau...|         /|15.89|        US $15.89|        3|3 available / 8 sold|       8|May 24, 2024 09:0...|     shanghai, China|       1|\n",
            "|      Dolce&Gabbana|\"Dolce & Gabbana ...|     3.3oz|  Men|              EDP|    Spray|                2024| Sealed\"|       Eau de Parfum|                  91|       1|\n",
            "|Abercrombie & Fitch|Fierce By Abercro...|Aftershave|   44|     US $44.00/ea|        2|2 available / 24 ...|      24|May 20, 2024 00:2...|Warren, Michigan,...|       1|\n",
            "|       Calvin Klein|Calvin Klein Euph...|Aftershave|23.79|     US $23.79/ea|        5|5 available / 83 ...|      83|May 23, 2024 15:4...|Edison, New Jerse...|       2|\n",
            "|       Calvin Klein|Obsession by Calv...|Aftershave|17.99|     US $17.99/ea|        3|3 available / 3 sold|       3|May 23, 2024 18:4...|West Harrison, In...|       3|\n",
            "|           Assorted|6x Cologne Sample...|  Assorted|17.95|        US $17.95|     NULL|   Last One / 4 sold|       4|May 09, 2024 17:1...|Orange City, Flor...|       1|\n",
            "+-------------------+--------------------+----------+-----+-----------------+---------+--------------------+--------+--------------------+--------------------+--------+\n",
            "only showing top 10 rows\n",
            "\n"
          ]
        }
      ]
    }
  ]
}