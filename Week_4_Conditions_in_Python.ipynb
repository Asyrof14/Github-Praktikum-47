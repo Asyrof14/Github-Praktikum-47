{
  "nbformat": 4,
  "nbformat_minor": 0,
  "metadata": {
    "colab": {
      "provenance": []
    },
    "kernelspec": {
      "name": "python3",
      "display_name": "Python 3"
    },
    "language_info": {
      "name": "python"
    }
  },
  "cells": [
    {
      "cell_type": "code",
      "execution_count": null,
      "metadata": {
        "colab": {
          "base_uri": "https://localhost:8080/"
        },
        "id": "AvXrjvE194L7",
        "outputId": "8ad6805c-4562-4b5a-b339-7bf997111b8b"
      },
      "outputs": [
        {
          "output_type": "execute_result",
          "data": {
            "text/plain": [
              "False"
            ]
          },
          "metadata": {},
          "execution_count": 1
        }
      ],
      "source": [
        "a = 5\n",
        "a == 6"
      ]
    },
    {
      "cell_type": "code",
      "source": [
        "i = 6\n",
        "i > 5"
      ],
      "metadata": {
        "colab": {
          "base_uri": "https://localhost:8080/"
        },
        "id": "uSDmo0MN-Ok6",
        "outputId": "fd667f21-7aa3-47dd-97d9-ccca7f4d2251"
      },
      "execution_count": null,
      "outputs": [
        {
          "output_type": "execute_result",
          "data": {
            "text/plain": [
              "True"
            ]
          },
          "metadata": {},
          "execution_count": 2
        }
      ]
    },
    {
      "cell_type": "code",
      "source": [
        "i = 2\n",
        "i > 5"
      ],
      "metadata": {
        "colab": {
          "base_uri": "https://localhost:8080/"
        },
        "id": "YVv-3ivf-Tnb",
        "outputId": "894fa67b-cebc-4a7d-bda3-dde59ef3b8d9"
      },
      "execution_count": null,
      "outputs": [
        {
          "output_type": "execute_result",
          "data": {
            "text/plain": [
              "False"
            ]
          },
          "metadata": {},
          "execution_count": 3
        }
      ]
    },
    {
      "cell_type": "code",
      "source": [
        "i = 2\n",
        "i != 6"
      ],
      "metadata": {
        "colab": {
          "base_uri": "https://localhost:8080/"
        },
        "id": "gWkxmvPr-j98",
        "outputId": "27386ea1-f08a-4ca7-ea4f-e3a18d835ca9"
      },
      "execution_count": null,
      "outputs": [
        {
          "output_type": "execute_result",
          "data": {
            "text/plain": [
              "True"
            ]
          },
          "metadata": {},
          "execution_count": 4
        }
      ]
    },
    {
      "cell_type": "code",
      "source": [
        "i = 6\n",
        "i != 6"
      ],
      "metadata": {
        "colab": {
          "base_uri": "https://localhost:8080/"
        },
        "id": "N7bxcBS9-oOK",
        "outputId": "1029519e-93eb-4ff5-e9ec-7e744b6dc1f4"
      },
      "execution_count": null,
      "outputs": [
        {
          "output_type": "execute_result",
          "data": {
            "text/plain": [
              "False"
            ]
          },
          "metadata": {},
          "execution_count": 5
        }
      ]
    },
    {
      "cell_type": "code",
      "source": [
        "\"ACDC\" == \"Michael Jackson\""
      ],
      "metadata": {
        "colab": {
          "base_uri": "https://localhost:8080/"
        },
        "id": "be_NF2Ut-0EK",
        "outputId": "1216ff5e-0af3-4c5e-eb6f-02cfd323f22d"
      },
      "execution_count": null,
      "outputs": [
        {
          "output_type": "execute_result",
          "data": {
            "text/plain": [
              "False"
            ]
          },
          "metadata": {},
          "execution_count": 6
        }
      ]
    },
    {
      "cell_type": "code",
      "source": [
        "\"ACDC\" != \"Michael Jackson\""
      ],
      "metadata": {
        "colab": {
          "base_uri": "https://localhost:8080/"
        },
        "id": "mUhbTiLN-5fJ",
        "outputId": "5e98bfa5-6aa0-47ae-d336-7e0b45491c30"
      },
      "execution_count": null,
      "outputs": [
        {
          "output_type": "execute_result",
          "data": {
            "text/plain": [
              "True"
            ]
          },
          "metadata": {},
          "execution_count": 7
        }
      ]
    },
    {
      "cell_type": "code",
      "source": [
        "'B' > 'A'"
      ],
      "metadata": {
        "colab": {
          "base_uri": "https://localhost:8080/"
        },
        "id": "NuVIXItE_Bpm",
        "outputId": "19fba53f-f9b6-4ecd-89b8-357806b67932"
      },
      "execution_count": null,
      "outputs": [
        {
          "output_type": "execute_result",
          "data": {
            "text/plain": [
              "True"
            ]
          },
          "metadata": {},
          "execution_count": 8
        }
      ]
    },
    {
      "cell_type": "code",
      "source": [
        "'BA' > 'AB'"
      ],
      "metadata": {
        "colab": {
          "base_uri": "https://localhost:8080/"
        },
        "id": "dF-EFQ7__IXf",
        "outputId": "f439fb71-c53b-4b06-be50-39959773d881"
      },
      "execution_count": null,
      "outputs": [
        {
          "output_type": "execute_result",
          "data": {
            "text/plain": [
              "True"
            ]
          },
          "metadata": {},
          "execution_count": 9
        }
      ]
    },
    {
      "cell_type": "code",
      "source": [
        "\"ba\" >= \"ba\""
      ],
      "metadata": {
        "colab": {
          "base_uri": "https://localhost:8080/"
        },
        "id": "1KtvQKJV_R1i",
        "outputId": "86fb3e78-44b5-44bc-874c-817db0a632ac"
      },
      "execution_count": null,
      "outputs": [
        {
          "output_type": "execute_result",
          "data": {
            "text/plain": [
              "True"
            ]
          },
          "metadata": {},
          "execution_count": 11
        }
      ]
    },
    {
      "cell_type": "code",
      "source": [
        "age = 18\n",
        "\n",
        "if age > 18:\n",
        "  print(\"you can enter\")\n",
        "\n",
        "print(\"move on\")"
      ],
      "metadata": {
        "colab": {
          "base_uri": "https://localhost:8080/"
        },
        "id": "jQ9ZeI13_QeM",
        "outputId": "22875599-a63a-4e01-bbe4-c8501243b671"
      },
      "execution_count": null,
      "outputs": [
        {
          "output_type": "stream",
          "name": "stdout",
          "text": [
            "move on\n"
          ]
        }
      ]
    },
    {
      "cell_type": "code",
      "source": [
        "age = 19\n",
        "\n",
        "if age > 18:\n",
        "  print(\"you can enter\")\n",
        "else:\n",
        "  print(\"go see meat loaf\")\n",
        "\n",
        "print(\"move on\")"
      ],
      "metadata": {
        "colab": {
          "base_uri": "https://localhost:8080/"
        },
        "id": "z7VRwb_z_9aQ",
        "outputId": "536cb7ef-ffa8-4165-d505-f5967a3b5e58"
      },
      "execution_count": null,
      "outputs": [
        {
          "output_type": "stream",
          "name": "stdout",
          "text": [
            "you can enter\n",
            "move on\n"
          ]
        }
      ]
    },
    {
      "cell_type": "code",
      "source": [
        "age = 17\n",
        "\n",
        "if age > 18:\n",
        "  print(\"you can enter\")\n",
        "else:\n",
        "  print(\"go see meat loaf\")\n",
        "\n",
        "print(\"move on\")"
      ],
      "metadata": {
        "colab": {
          "base_uri": "https://localhost:8080/"
        },
        "id": "RWyBpwvlAjzg",
        "outputId": "73c5d6f3-3618-44dd-b6ce-d23c8576b367"
      },
      "execution_count": null,
      "outputs": [
        {
          "output_type": "stream",
          "name": "stdout",
          "text": [
            "go see meat loaf\n",
            "move on\n"
          ]
        }
      ]
    },
    {
      "cell_type": "code",
      "source": [
        "age = 18\n",
        "\n",
        "if age > 18:\n",
        "  print(\"you can enter\")\n",
        "elif age == 18:\n",
        "  print(\"go see pink floyd\")\n",
        "else:\n",
        "  print(\"goo see meat loaf\")\n",
        "\n",
        "print(\"move on\")"
      ],
      "metadata": {
        "colab": {
          "base_uri": "https://localhost:8080/"
        },
        "id": "4DuhJWt3ArwB",
        "outputId": "4b549be5-e573-44c0-bdf6-1d0528284ecd"
      },
      "execution_count": null,
      "outputs": [
        {
          "output_type": "stream",
          "name": "stdout",
          "text": [
            "go see pink floyd\n",
            "move on\n"
          ]
        }
      ]
    },
    {
      "cell_type": "code",
      "source": [
        "age = 300\n",
        "\n",
        "if age > 18:\n",
        "  print(\"you can enter\")\n",
        "elif age == 18:\n",
        "  print(\"go see pink floyd\")\n",
        "else:\n",
        "  print(\"goo see meat loaf\")\n",
        "\n",
        "print(\"move on\")"
      ],
      "metadata": {
        "colab": {
          "base_uri": "https://localhost:8080/"
        },
        "id": "T8zb8rr3BUN2",
        "outputId": "3a3632a4-da0b-4514-a97a-aac1fe599e65"
      },
      "execution_count": null,
      "outputs": [
        {
          "output_type": "stream",
          "name": "stdout",
          "text": [
            "you can enter\n",
            "move on\n"
          ]
        }
      ]
    },
    {
      "cell_type": "code",
      "source": [
        "album_year = 1983\n",
        "\n",
        "if album_year > 1980:\n",
        "  print(\"album year is greater than 1980\")\n",
        "\n",
        "print('do something..')"
      ],
      "metadata": {
        "colab": {
          "base_uri": "https://localhost:8080/"
        },
        "id": "B8-v3q2-BZaE",
        "outputId": "f18c2906-da8c-4c92-947e-4ef8485c0c1c"
      },
      "execution_count": null,
      "outputs": [
        {
          "output_type": "stream",
          "name": "stdout",
          "text": [
            "Album year is greater than 1980\n",
            "do something..\n"
          ]
        }
      ]
    },
    {
      "cell_type": "code",
      "source": [
        "album_year = 1970\n",
        "\n",
        "if album_year > 1980:\n",
        "  print(\"album year is greater than 1980\")\n",
        "\n",
        "print('do something..')"
      ],
      "metadata": {
        "colab": {
          "base_uri": "https://localhost:8080/"
        },
        "id": "q5THxfvABp4a",
        "outputId": "08b5e4d7-f7fe-4adf-e387-a06d3c231288"
      },
      "execution_count": null,
      "outputs": [
        {
          "output_type": "stream",
          "name": "stdout",
          "text": [
            "do something..\n"
          ]
        }
      ]
    },
    {
      "cell_type": "code",
      "source": [
        "album_year = 1970\n",
        "\n",
        "if album_year > 1980:\n",
        "    print(\"Album year is greater than 1980\")\n",
        "else:\n",
        "    print(\"less than 1980\")\n",
        "\n",
        "print('do something..')"
      ],
      "metadata": {
        "colab": {
          "base_uri": "https://localhost:8080/"
        },
        "id": "pY-1clIeBzU1",
        "outputId": "79fab650-d7e1-43e7-9365-c4dfa5f214cc"
      },
      "execution_count": null,
      "outputs": [
        {
          "output_type": "stream",
          "name": "stdout",
          "text": [
            "less than 1980\n",
            "do something..\n"
          ]
        }
      ]
    },
    {
      "cell_type": "code",
      "source": [
        "album_year = 1983\n",
        "\n",
        "if album_year > 1980:\n",
        "    print(\"Album year is greater than 1980\")\n",
        "else:\n",
        "    print(\"less than 1980\")\n",
        "\n",
        "print('do something..')"
      ],
      "metadata": {
        "colab": {
          "base_uri": "https://localhost:8080/"
        },
        "id": "XDYGtLBeB2vb",
        "outputId": "cfedd5bc-f45f-4d01-fed7-18d274d4fde2"
      },
      "execution_count": null,
      "outputs": [
        {
          "output_type": "stream",
          "name": "stdout",
          "text": [
            "Album year is greater than 1980\n",
            "do something..\n"
          ]
        }
      ]
    },
    {
      "cell_type": "code",
      "source": [
        "album_year = 1980\n",
        "\n",
        "if(album_year > 1979) and (album_year < 1990):\n",
        "    print (\"album year was in between 1980 and 1989\")\n",
        "\n",
        "print(\"\")\n",
        "print(\"Do Stuff..\")"
      ],
      "metadata": {
        "colab": {
          "base_uri": "https://localhost:8080/"
        },
        "id": "rQ765e8LCEQ-",
        "outputId": "0d541b0a-cff7-45a1-e5a3-de670c69578b"
      },
      "execution_count": null,
      "outputs": [
        {
          "output_type": "stream",
          "name": "stdout",
          "text": [
            "album year was in between 1980 and 1989\n",
            "\n",
            "Do Stuff..\n"
          ]
        }
      ]
    },
    {
      "cell_type": "code",
      "source": [
        "album_year = 1978\n",
        "\n",
        "if(album_year < 1980) or (album_year > 1989):\n",
        "    print (\"album was not made in the 1980's\")\n",
        "else:\n",
        "    print(\"the album was made in the 1980's \")"
      ],
      "metadata": {
        "colab": {
          "base_uri": "https://localhost:8080/"
        },
        "id": "gEu_TZFKCNAJ",
        "outputId": "f909a7fa-1d3e-454d-d98a-647213741e5c"
      },
      "execution_count": null,
      "outputs": [
        {
          "output_type": "stream",
          "name": "stdout",
          "text": [
            "album was not made in the 1980's\n"
          ]
        }
      ]
    },
    {
      "cell_type": "code",
      "source": [
        "album_year = 1981\n",
        "\n",
        "if(album_year < 1980) or (album_year > 1989):\n",
        "    print (\"album was not made in the 1980's\")\n",
        "else:\n",
        "    print(\"the album was made in the 1980's \")"
      ],
      "metadata": {
        "colab": {
          "base_uri": "https://localhost:8080/"
        },
        "id": "7zKpVFkNCRt9",
        "outputId": "3aa1e0aa-b89a-4ab5-8e94-5f7d672a270e"
      },
      "execution_count": null,
      "outputs": [
        {
          "output_type": "stream",
          "name": "stdout",
          "text": [
            "the album was made in the 1980's \n"
          ]
        }
      ]
    },
    {
      "cell_type": "code",
      "source": [
        "album_year = 1984\n",
        "\n",
        "if not (album_year == '1984'):\n",
        "    print (\"album year is not 1984\")"
      ],
      "metadata": {
        "colab": {
          "base_uri": "https://localhost:8080/"
        },
        "id": "8e9J2R28Cf_6",
        "outputId": "da5fe796-03a4-4e29-dab1-d570fd98f0a3"
      },
      "execution_count": null,
      "outputs": [
        {
          "output_type": "stream",
          "name": "stdout",
          "text": [
            "album year is not 1984\n"
          ]
        }
      ]
    },
    {
      "cell_type": "code",
      "source": [
        "rating = 8.5\n",
        "if rating > 8:\n",
        "  print (\"This album is amazing\")"
      ],
      "metadata": {
        "colab": {
          "base_uri": "https://localhost:8080/"
        },
        "id": "MBfPGqQNCpk9",
        "outputId": "f9480b72-7d18-43fe-9566-d1d94b601730"
      },
      "execution_count": null,
      "outputs": [
        {
          "output_type": "stream",
          "name": "stdout",
          "text": [
            "This album is amazing\n"
          ]
        }
      ]
    },
    {
      "cell_type": "code",
      "source": [
        "rating = 9\n",
        "if rating > 8:\n",
        "  print(\"this album is amazing\")\n",
        "else:\n",
        "  print(\"this album is ok\")\n"
      ],
      "metadata": {
        "colab": {
          "base_uri": "https://localhost:8080/"
        },
        "id": "buvdZ20uDA8Q",
        "outputId": "335c2644-361f-498e-f831-fc9f9080f368"
      },
      "execution_count": null,
      "outputs": [
        {
          "output_type": "stream",
          "name": "stdout",
          "text": [
            "this album is amazing\n"
          ]
        }
      ]
    },
    {
      "cell_type": "code",
      "source": [
        "album_year = 1979\n",
        "\n",
        "if album_year < 1980 or album_year == 1991 or album_year == 1993:\n",
        "    print (\"this album came out already\")"
      ],
      "metadata": {
        "colab": {
          "base_uri": "https://localhost:8080/"
        },
        "id": "XEEo0T2rDrCk",
        "outputId": "4e4b58f6-0039-4d71-8b26-dd3ead78850b"
      },
      "execution_count": null,
      "outputs": [
        {
          "output_type": "stream",
          "name": "stdout",
          "text": [
            "this album came out already\n"
          ]
        }
      ]
    },
    {
      "cell_type": "code",
      "source": [],
      "metadata": {
        "id": "BirE_FglEASh"
      },
      "execution_count": null,
      "outputs": []
    },
    {
      "cell_type": "code",
      "source": [
        "umur = input()\n",
        "\n",
        "if int(umur) >= 17:\n",
        "  print(\"Boleh membuat SIM\")\n",
        "else:\n",
        "  print(\"Tidak boleh membuat SIM\")"
      ],
      "metadata": {
        "colab": {
          "base_uri": "https://localhost:8080/"
        },
        "id": "4vbc5Ok5EBTU",
        "outputId": "a61d394f-3191-4e17-d3a2-ea7439b727d0"
      },
      "execution_count": null,
      "outputs": [
        {
          "output_type": "stream",
          "name": "stdout",
          "text": [
            "19\n",
            "Boleh membuat SIM\n"
          ]
        }
      ]
    },
    {
      "cell_type": "code",
      "source": [
        "nilai = input()\n",
        "\n",
        "var_a = \"A\"\n",
        "var_b1 = \"B+\"\n",
        "var_b2 = \"B\"\n",
        "var_c1 = \"C+\"\n",
        "var_c2 = \"C\"\n",
        "var_d = \"D\"\n",
        "var_e = \"E\"\n",
        "\n",
        "if int(nilai) >= 90:\n",
        "  grade = var_a\n",
        "elif int(nilai) >= 80:\n",
        "  grade = var_b1\n",
        "elif int(nilai) >= 70:\n",
        "  grade = var_b2\n",
        "elif int(nilai) >= 60:\n",
        "  grade = var_c1\n",
        "elif int(nilai) >= 50:\n",
        "  grade = var_c2\n",
        "elif int(nilai) >= 40:\n",
        "  grade = var_d\n",
        "else:\n",
        "  grade = var_e\n",
        "\n",
        "print(\"Cetak Grade = \" + grade)"
      ],
      "metadata": {
        "id": "F44OxWGQEkiU",
        "colab": {
          "base_uri": "https://localhost:8080/"
        },
        "outputId": "a1c7f476-62af-457f-8e55-132797bb0497"
      },
      "execution_count": null,
      "outputs": [
        {
          "output_type": "stream",
          "name": "stdout",
          "text": [
            "100\n",
            "Cetak Grade = A\n"
          ]
        }
      ]
    },
    {
      "cell_type": "code",
      "source": [
        "nilai = input()\n",
        "\n",
        "var_a = \"A\"\n",
        "var_a_min = \"A-\"\n",
        "var_ab = \"A/B\"\n",
        "var_b_plus = \"B+\"\n",
        "var_b = \"B\"\n",
        "var_b_min = \"B-\"\n",
        "var_bc = \"B/C\"\n",
        "var_c_plus = \"C+\"\n",
        "var_c = \"C\"\n",
        "var_c_min = \"C-\"\n",
        "var_cd = \"C/D\"\n",
        "var_d_plus = \"D+\"\n",
        "var_d = \"D\"\n",
        "var_e = \"E\"\n",
        "var_error = \"Nilai tidak valid\"\n",
        "\n",
        "\n",
        "if float(nilai) >= 80 and float(nilai) <= 100:\n",
        "   grade = var_a\n",
        "elif float(nilai) >= 77.5 and float(nilai) <= 79.99:\n",
        "   grade = var_a_min\n",
        "elif float(nilai) >= 75 and float(nilai) <= 77.49:\n",
        "   grade = var_ab\n",
        "elif float(nilai) >= 72.5 and float(nilai) <= 74.49:\n",
        "   grade = var_b_plus\n",
        "elif float(nilai) >= 70 and float(nilai) <= 72.49:\n",
        "  grade = var_b\n",
        "elif float(nilai) >= 67.5 and float(nilai) <= 69.99:\n",
        "  grade = var_b_min\n",
        "elif float(nilai) >= 65 and float(nilai) <= 67.99:\n",
        "  grade = var_bc\n",
        "elif float(nilai) >= 62.5 and float(nilai) <= 64.99:\n",
        "  grade = var_c_plus\n",
        "elif float(nilai) >= 60 and float(nilai) <= 62.49:\n",
        "  grade = var_c\n",
        "elif float(nilai) >= 55 and float(nilai) <= 59.99:\n",
        "  grade = var_c_min\n",
        "elif float(nilai) >= 50 and float(nilai) <= 54.99:\n",
        "  grade = var_cd\n",
        "elif float(nilai) >= 45 and float(nilai) <= 49.99:\n",
        "  grade = var_d_plus\n",
        "elif float(nilai) >= 40 and float(nilai) <= 44.99:\n",
        "  grade = var_d\n",
        "elif float(nilai) >= 0 and float(nilai) <= 39.99:\n",
        "  grade = var_e\n",
        "else:\n",
        "  grade = var_error\n",
        "\n",
        "\n",
        "print(\"Cetak Grade = \" + grade)"
      ],
      "metadata": {
        "colab": {
          "base_uri": "https://localhost:8080/"
        },
        "id": "Hg77oFSFLE_x",
        "outputId": "c30e3418-5d8d-4258-845a-6c57a82ea1fe"
      },
      "execution_count": null,
      "outputs": [
        {
          "output_type": "stream",
          "name": "stdout",
          "text": [
            "-10\n",
            "Cetak Grade = Nilai tidak valid\n"
          ]
        }
      ]
    }
  ]
}