{
  "nbformat": 4,
  "nbformat_minor": 0,
  "metadata": {
    "colab": {
      "provenance": []
    },
    "kernelspec": {
      "name": "python3",
      "display_name": "Python 3"
    },
    "language_info": {
      "name": "python"
    }
  },
  "cells": [
    {
      "cell_type": "code",
      "execution_count": null,
      "metadata": {
        "colab": {
          "base_uri": "https://localhost:8080/"
        },
        "id": "mNcm79OwrpY7",
        "outputId": "fb026b46-a266-496d-d766-bac48c9af743"
      },
      "outputs": [
        {
          "output_type": "stream",
          "name": "stdout",
          "text": [
            "The number is positive.\n"
          ]
        }
      ],
      "source": [
        "num = 5\n",
        "\n",
        "if num > 0:\n",
        "    print(\"The number is positive.\")\n",
        "else:\n",
        "    if num < 0:\n",
        "        print(\"The number is negative.\")\n",
        "    else:\n",
        "        print(\"The number is zero.\")"
      ]
    },
    {
      "cell_type": "code",
      "source": [
        "age = 35\n",
        "\n",
        "if age >= 60:\n",
        "    print(\"You are a senior citizen.\")\n",
        "else:\n",
        "    if age >= 18:\n",
        "        print(\"You are an adult.\")\n",
        "    else:\n",
        "        print(\"You are a teenager.\")"
      ],
      "metadata": {
        "colab": {
          "base_uri": "https://localhost:8080/"
        },
        "id": "w8CqJU7ZsPV7",
        "outputId": "43102a8d-fb81-4190-cbf5-989fb5bbf8a3"
      },
      "execution_count": null,
      "outputs": [
        {
          "output_type": "stream",
          "name": "stdout",
          "text": [
            "You are an adult.\n"
          ]
        }
      ]
    },
    {
      "cell_type": "code",
      "source": [
        "username = input(\"Enter your username: \")\n",
        "password = input(\"Enter your password: \")\n",
        "\n",
        "if username == \"admin\":\n",
        "    if password == \"password\":\n",
        "        print(\"Login successful! Welcome, admin.\")\n",
        "    elif password == \"12345\":\n",
        "        print(\"Weak password. Please reset your password.\")\n",
        "    else:\n",
        "        print(\"Incorrect password. Please try again.\")\n",
        "else:\n",
        "    if username == \"guest\":\n",
        "        if password == \"guest\":\n",
        "            print(\"Login successful! Welcome, guest.\")\n",
        "        else:\n",
        "            print(\"Incorrect password. Please try again.\")\n",
        "    else:\n",
        "        print(\"Unknown user. Please try again.\")"
      ],
      "metadata": {
        "colab": {
          "base_uri": "https://localhost:8080/"
        },
        "id": "Ukq0VL-8sUG-",
        "outputId": "f1e2b772-6394-47a0-c6b3-065c76c44ed5"
      },
      "execution_count": null,
      "outputs": [
        {
          "output_type": "stream",
          "name": "stdout",
          "text": [
            "Enter your username: Acop\n",
            "Enter your password: Acopacop\n",
            "Unknown user. Please try again.\n"
          ]
        }
      ]
    },
    {
      "cell_type": "code",
      "source": [
        "tahun = int(input(\"Masukkan tahun: \"))\n",
        "\n",
        "if tahun % 4 == 0:\n",
        "  print(f\"{tahun} adalah tahun kabisat.\")\n",
        "\n",
        "else:\n",
        "    if tahun % 100 == 0:\n",
        "        print(f\"{tahun} adalah tahun kabisat.\")\n",
        "    else:\n",
        "        print(f\"{tahun} bukan tahun kabisat.\")"
      ],
      "metadata": {
        "colab": {
          "base_uri": "https://localhost:8080/"
        },
        "id": "Dp18iiK_ssBA",
        "outputId": "140f8a21-95d0-47cb-a467-520ac19f4162"
      },
      "execution_count": null,
      "outputs": [
        {
          "output_type": "stream",
          "name": "stdout",
          "text": [
            "Masukkan tahun: 2024\n",
            "2024 adalah tahun kabisat.\n"
          ]
        }
      ]
    },
    {
      "cell_type": "code",
      "source": [
        "angka1 = int(input(\"Masukkan angka ke satu: \"))\n",
        "angka2 = int(input(\"Masukkan angka ke dua: \"))\n",
        "angka3 = int(input(\"Masukkan angka ke tiga: \"))\n",
        "print(\"\")\n",
        "if angka1 >= angka2 and angka1 >= angka3:\n",
        "  angka_terbesar = angka1\n",
        "elif angka2 >= angka1 and angka2 >= angka3:\n",
        "    angka_terbesar = angka2\n",
        "else:\n",
        "    angka_terbesar = angka3\n",
        "\n",
        "print(f\"Angka pertama: {angka1}\")\n",
        "print(f\"Angka kedua: {angka2}\")\n",
        "print(f\"Angka ketiga: {angka3}\")\n",
        "print(\"\")\n",
        "print(f\"Angka terbesar adalah: {angka_terbesar}\")"
      ],
      "metadata": {
        "colab": {
          "base_uri": "https://localhost:8080/"
        },
        "id": "K6FgL42OydHy",
        "outputId": "3c879474-f379-4ed9-9fd4-a18f1c6e3904"
      },
      "execution_count": null,
      "outputs": [
        {
          "output_type": "stream",
          "name": "stdout",
          "text": [
            "Masukkan angka ke satu: 3\n",
            "Masukkan angka ke dua: 4\n",
            "Masukkan angka ke tiga: 1\n",
            "\n",
            "Angka pertama: 3\n",
            "Angka kedua: 4\n",
            "Angka ketiga: 1\n",
            "\n",
            "Angka terbesar adalah: 4\n"
          ]
        }
      ]
    },
    {
      "cell_type": "code",
      "source": [
        "total_belanja = int(input(\"Masukkan total belanja: \"))\n",
        "member = input(\"Apakah konsumen member? (y/n): \").lower() == 'y'\n",
        "\n",
        "if total_belanja > 100000:\n",
        "    if total_belanja > 200000:\n",
        "        diskon = 4\n",
        "    else:\n",
        "        diskon = 3\n",
        "\n",
        "    if member:\n",
        "        diskon += 2\n",
        "else:\n",
        "    if member:\n",
        "        diskon = 2\n",
        "\n",
        "jumlah_diskon = (diskon / 100) * total_belanja\n",
        "\n",
        "total_bayar = total_belanja - jumlah_diskon\n",
        "\n",
        "print(f\"Total yang harus dibayarkan: Rp{total_bayar:.2f}\")"
      ],
      "metadata": {
        "id": "w_w8M72Ektq9",
        "colab": {
          "base_uri": "https://localhost:8080/"
        },
        "outputId": "139937fe-dbd5-4081-a682-6b00eab8854e"
      },
      "execution_count": null,
      "outputs": [
        {
          "output_type": "stream",
          "name": "stdout",
          "text": [
            "Masukkan total belanja: 140000\n",
            "Apakah konsumen member? (y/n): n\n",
            "Total yang harus dibayarkan: Rp135800.00\n"
          ]
        }
      ]
    },
    {
      "cell_type": "code",
      "source": [],
      "metadata": {
        "id": "oRf6tSz5MzY7"
      },
      "execution_count": null,
      "outputs": []
    },
    {
      "cell_type": "code",
      "source": [
        "username = input(\"Masukkan username: \")\n",
        "email = input(\"Masukkkan email: \")\n",
        "password = input(\"Masukkan password: \")\n",
        "\n",
        "if not username:\n",
        "  print(\"Username tidak boleh kosong\")\n",
        "\n",
        "elif \"@\" not in email:\n",
        "  print(\"Email harus mengandung '@'\")\n",
        "\n",
        "elif len(password) <= 8:\n",
        "  print(\"Password harus lebih dari 8 karakter\")\n",
        "\n",
        "else:\n",
        "  print(\"\")\n",
        "  print(\"Data berhasil dibuat\")\n",
        "  print(\"Username: \" + username)\n",
        "  print(\"Email: \" + email)\n",
        "  print(\"Password: \" + password)"
      ],
      "metadata": {
        "colab": {
          "base_uri": "https://localhost:8080/"
        },
        "id": "K69hQxnm5r5V",
        "outputId": "1885d189-0c4c-43a9-ba52-c747b617ca56"
      },
      "execution_count": 12,
      "outputs": [
        {
          "output_type": "stream",
          "name": "stdout",
          "text": [
            "Masukkan username: acop\n",
            "Masukkkan email: acop@\n",
            "Masukkan password: 1234567890\n",
            "\n",
            "Data berhasil dibuat\n",
            "Username: acop\n",
            "Email: acop@\n",
            "Password: 1234567890\n"
          ]
        }
      ]
    }
  ]
}