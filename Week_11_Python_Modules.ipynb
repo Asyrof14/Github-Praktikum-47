{
  "nbformat": 4,
  "nbformat_minor": 0,
  "metadata": {
    "colab": {
      "provenance": []
    },
    "kernelspec": {
      "name": "python3",
      "display_name": "Python 3"
    },
    "language_info": {
      "name": "python"
    }
  },
  "cells": [
    {
      "cell_type": "code",
      "execution_count": null,
      "metadata": {
        "id": "2uNKVm1AJXOm"
      },
      "outputs": [],
      "source": [
        "import sys\n",
        "sys.path.append('/content')"
      ]
    },
    {
      "cell_type": "code",
      "source": [
        "%%writefile mymodule.py\n",
        "\n",
        "def greeting(name):\n",
        "  print(\"Hello, \" + name)"
      ],
      "metadata": {
        "colab": {
          "base_uri": "https://localhost:8080/"
        },
        "id": "GbixwsSNMx-2",
        "outputId": "6015461f-5734-4f2f-872a-635ef8baa1a9"
      },
      "execution_count": null,
      "outputs": [
        {
          "output_type": "stream",
          "name": "stdout",
          "text": [
            "Writing mymodule.py\n"
          ]
        }
      ]
    },
    {
      "cell_type": "code",
      "source": [
        "import mymodule\n",
        "\n",
        "mymodule.greeting(\"Namamu\")"
      ],
      "metadata": {
        "colab": {
          "base_uri": "https://localhost:8080/"
        },
        "id": "49hSK5QoJsH6",
        "outputId": "7a004927-216e-49f9-b893-e679af42d392"
      },
      "execution_count": null,
      "outputs": [
        {
          "output_type": "stream",
          "name": "stdout",
          "text": [
            "Hello, Namamu\n"
          ]
        }
      ]
    },
    {
      "cell_type": "code",
      "source": [
        "import mymodule2\n",
        "\n",
        "a = mymodule2.person1[\"age\"]\n",
        "print(a)"
      ],
      "metadata": {
        "id": "VzGS1LHKJsX6"
      },
      "execution_count": null,
      "outputs": []
    },
    {
      "cell_type": "code",
      "source": [
        "import mymodule2 as mx\n",
        "\n",
        "a = mx.person1[\"age\"]\n",
        "print(a)"
      ],
      "metadata": {
        "id": "e_kM5B-nJsdD"
      },
      "execution_count": null,
      "outputs": []
    },
    {
      "cell_type": "code",
      "source": [
        "import platform\n",
        "\n",
        "x = platform.system()\n",
        "print(x)"
      ],
      "metadata": {
        "id": "vGgiV8GkJsqm"
      },
      "execution_count": null,
      "outputs": []
    },
    {
      "cell_type": "code",
      "source": [
        "import platform\n",
        "\n",
        "x = dir(platform)\n",
        "print(x)"
      ],
      "metadata": {
        "id": "6LjnO5ubJsuY"
      },
      "execution_count": null,
      "outputs": []
    },
    {
      "cell_type": "code",
      "source": [
        "from coba import person1\n",
        "\n",
        "print (person1[\"age\"])"
      ],
      "metadata": {
        "id": "BzOFOXVRJsw9"
      },
      "execution_count": null,
      "outputs": []
    },
    {
      "cell_type": "code",
      "source": [],
      "metadata": {
        "id": "Z4a1e7kSJszt"
      },
      "execution_count": null,
      "outputs": []
    },
    {
      "cell_type": "code",
      "source": [
        "%%writefile matematika.py\n",
        "\n",
        "PI = 3.14\n",
        "\n",
        "def luas_lingkaran(jari_jari):\n",
        "    return PI * jari_jari * jari_jari\n",
        "\n",
        "def luas_persegi(sisi):\n",
        "    return sisi * sisi\n",
        "\n",
        "def luas_persegi_panjang(panjang, lebar):\n",
        "    return panjang * lebar"
      ],
      "metadata": {
        "colab": {
          "base_uri": "https://localhost:8080/"
        },
        "id": "xfydGGjiM9M4",
        "outputId": "f34099e2-3b94-4c8e-8964-9d41061494db"
      },
      "execution_count": null,
      "outputs": [
        {
          "output_type": "stream",
          "name": "stdout",
          "text": [
            "Writing matematika.py\n"
          ]
        }
      ]
    },
    {
      "cell_type": "code",
      "source": [
        "import matematika\n",
        "\n",
        "jari_jari = float(input(\"Masukkan jari-jari lingkaran: \"))\n",
        "lingkaran = matematika.luas_lingkaran(jari_jari)\n",
        "print(f\"Luas lingkaran dengan jari-jari {jari_jari} adalah: {lingkaran}\")\n",
        "\n",
        "sisi = float(input(\"Masukkan panjang sisi persegi: \"))\n",
        "persegi = matematika.luas_persegi(sisi)\n",
        "print(f\"Luas persegi dengan sisi {sisi} adalah: {persegi}\")\n",
        "\n",
        "panjang = float(input(\"Masukkan panjang panjang persegi: \"))\n",
        "lebar = float(input(\"Masukkan panjang lebar persegi: \"))\n",
        "persegi_panjang = matematika.luas_persegi_panjang(panjang, lebar)\n",
        "print(f\"Luas persegi dengan sisi {panjang, lebar} adalah: {persegi_panjang}\")\n"
      ],
      "metadata": {
        "colab": {
          "base_uri": "https://localhost:8080/"
        },
        "id": "tJ2h-UEjNjV2",
        "outputId": "58d27310-2447-4227-a3f8-6c0cdcd19efc"
      },
      "execution_count": null,
      "outputs": [
        {
          "output_type": "stream",
          "name": "stdout",
          "text": [
            "Masukkan jari-jari lingkaran: 14\n",
            "Luas lingkaran dengan jari-jari 14.0 adalah: 615.44\n",
            "Masukkan panjang sisi persegi: 3\n",
            "Luas persegi dengan sisi 3.0 adalah: 9.0\n",
            "Masukkan panjang panjan persegi: 2\n",
            "Masukkan panjang lebar persegi: 2\n",
            "Luas persegi dengan sisi (2.0, 2.0) adalah: 4.0\n"
          ]
        }
      ]
    },
    {
      "cell_type": "code",
      "source": [
        "import math\n",
        "\n",
        "x = 25\n",
        "akar_kuadrat = math.sqrt(x)\n",
        "print(f\"Akar kuadrat dari {x} adalah {akar_kuadrat}\")\n",
        "\n",
        "x = 3\n",
        "y = 4\n",
        "pangkat = math.pow(x, y)\n",
        "print(f\"{x} pangkat {y} adalah {pangkat}\")\n",
        "\n",
        "n = 5\n",
        "faktorial = math.factorial(n)\n",
        "print(f\"Faktorial dari {n} adalah {faktorial}\")\n",
        "\n",
        "angka = 7.3\n",
        "bulat_atas = math.ceil(angka)\n",
        "print(f\"Pembulatan ke atas dari {angka} adalah: {bulat_atas}\")\n",
        "\n",
        "angka = 7.9\n",
        "bulat_bawah = math.floor(angka)\n",
        "print(f\"Pembulatan ke bawah dari {angka} adalah: {bulat_bawah}\")\n"
      ],
      "metadata": {
        "colab": {
          "base_uri": "https://localhost:8080/"
        },
        "id": "PyuFZwAHH8b5",
        "outputId": "895a468e-026e-440a-d47c-1ec4cd2c3dae"
      },
      "execution_count": null,
      "outputs": [
        {
          "output_type": "stream",
          "name": "stdout",
          "text": [
            "Akar kuadrat dari 25 adalah 5.0\n",
            "3 pangkat 4 adalah 81.0\n",
            "Faktorial dari 5 adalah 120\n",
            "Sinus dari 30 derajat adalah 0.49999999999999994\n",
            "Logaritma dari 100 dengan basis 10 adalah 2.0\n"
          ]
        }
      ]
    }
  ]
}