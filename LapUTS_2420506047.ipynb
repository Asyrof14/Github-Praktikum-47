{
  "cells": [
    {
      "cell_type": "code",
      "source": [
        "npm = input(\"Masukkan NPM Anda: \")\n",
        "genap = 0\n",
        "ganjil = 0\n",
        "\n",
        "for i in npm:\n",
        "  if int(i) % 2 == 0:\n",
        "    genap += 1\n",
        "  else:\n",
        "    ganjil += 1\n",
        "\n",
        "print(\"Jumlah Genap:\", str(genap))\n",
        "print(\"Juumlah Ganjil\", str(ganjil))"
      ],
      "metadata": {
        "colab": {
          "base_uri": "https://localhost:8080/"
        },
        "id": "-DAyLmHGJ58R",
        "outputId": "ce5000ae-8856-4ea6-9726-f2f62a0efe2a"
      },
      "execution_count": 1,
      "outputs": [
        {
          "output_type": "stream",
          "name": "stdout",
          "text": [
            "Masukkan NPM Anda: 2420506047\n",
            "Jumlah Genap: 8\n",
            "Juumlah Ganjil 2\n"
          ]
        }
      ]
    },
    {
      "cell_type": "code",
      "execution_count": 2,
      "metadata": {
        "colab": {
          "base_uri": "https://localhost:8080/"
        },
        "id": "UOuOK9-KAd7U",
        "outputId": "751be0f1-c680-4612-f705-3fd62bf1104f"
      },
      "outputs": [
        {
          "output_type": "stream",
          "name": "stdout",
          "text": [
            "Masukkan jumlah baris: 10\n",
            "1 \n",
            "2 4 \n",
            "3 6 9 \n",
            "4 8 12 16 \n",
            "5 10 15 20 25 \n",
            "6 12 18 24 30 36 \n",
            "7 14 21 28 35 42 49 \n",
            "8 16 24 32 40 48 56 64 \n",
            "9 18 27 36 45 54 63 72 81 \n",
            "10 20 30 40 50 60 70 80 90 100 \n"
          ]
        }
      ],
      "source": [
        "baris = int(input(\"Masukkan jumlah baris: \"))\n",
        "\n",
        "for x in range(1, (baris + 1)):\n",
        "    for y in range(1, (x + 1)):\n",
        "        print(x * y, end=' ')\n",
        "    print()"
      ]
    }
  ],
  "metadata": {
    "colab": {
      "provenance": []
    },
    "kernelspec": {
      "display_name": "Python 3",
      "name": "python3"
    },
    "language_info": {
      "name": "python"
    }
  },
  "nbformat": 4,
  "nbformat_minor": 0
}