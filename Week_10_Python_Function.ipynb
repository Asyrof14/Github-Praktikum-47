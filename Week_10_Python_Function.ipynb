{
  "nbformat": 4,
  "nbformat_minor": 0,
  "metadata": {
    "colab": {
      "provenance": []
    },
    "kernelspec": {
      "name": "python3",
      "display_name": "Python 3"
    },
    "language_info": {
      "name": "python"
    }
  },
  "cells": [
    {
      "cell_type": "code",
      "execution_count": null,
      "metadata": {
        "id": "aEaCEQLhlrlG"
      },
      "outputs": [],
      "source": [
        "def my_function():\n",
        "  print(\"Hello from a function\")\n",
        "my_function()"
      ]
    },
    {
      "cell_type": "code",
      "source": [
        "def my_function(fname):\n",
        "  print(fname + \" Sitohang\")\n",
        "\n",
        "my_function(\"Toha\")\n",
        "my_function(\"Tohir\")\n",
        "my_function(\"Tobi\")"
      ],
      "metadata": {
        "id": "PwBEer0il1xS"
      },
      "execution_count": null,
      "outputs": []
    },
    {
      "cell_type": "code",
      "source": [
        "def my_function(fname, lname):\n",
        "  print(fname + \" \" + lname)\n",
        "\n",
        "my_function(\"Toha\", \"Sitohang\")"
      ],
      "metadata": {
        "id": "pnJxcfJNl5H3"
      },
      "execution_count": null,
      "outputs": []
    },
    {
      "cell_type": "code",
      "source": [
        "def my_function(fname, lname):\n",
        "  print(fname + \" \" + lname)\n",
        "\n",
        "my_function(\"Surip\")"
      ],
      "metadata": {
        "id": "MCWinFWbl5SV"
      },
      "execution_count": null,
      "outputs": []
    },
    {
      "cell_type": "code",
      "source": [
        "def my_function(*kids):\n",
        "  print(\"The youngest child is \" + kids[2])\n",
        "\n",
        "my_function(\"Lekyung\", \"Jimin\", \"Tukimin\")"
      ],
      "metadata": {
        "id": "__W2yKsVl5hY"
      },
      "execution_count": null,
      "outputs": []
    },
    {
      "cell_type": "code",
      "source": [
        "def my_function(child3, child2, child1):\n",
        "  print(\"The youngest child is \" + child3)\n",
        "\n",
        "my_function(child1 = \"Lekyung\", child2 = \"Tukimin\", child3 = \"Jimin\")"
      ],
      "metadata": {
        "id": "Gl4GIAj-l5lQ"
      },
      "execution_count": null,
      "outputs": []
    },
    {
      "cell_type": "code",
      "source": [
        "def my_function(**kid):\n",
        "  print(\"His last name is \" + kid[\"lname\"])\n",
        "\n",
        "my_function(fname = \"Thanos\", lname = \"ireng Man\")"
      ],
      "metadata": {
        "id": "YX2xMardl5oS"
      },
      "execution_count": null,
      "outputs": []
    },
    {
      "cell_type": "code",
      "source": [
        "def my_function(country = \"Indonesia\"):\n",
        "  print(\"I am from \" + country)\n",
        "\n",
        "my_function(\"UEA\")\n",
        "my_function(\"Arab Saudi\")\n",
        "my_function()\n",
        "my_function(\"Malaysia\")"
      ],
      "metadata": {
        "id": "UxVZOY0-l5q9"
      },
      "execution_count": null,
      "outputs": []
    },
    {
      "cell_type": "code",
      "source": [
        "def my_function(food):\n",
        "  for x in food:\n",
        "    print(x)\n",
        "\n",
        "fruits = [\"apple\", \"banana\", \"cherry\"]\n",
        "\n",
        "my_function(fruits)"
      ],
      "metadata": {
        "id": "VBhV1wU6mCxj"
      },
      "execution_count": null,
      "outputs": []
    },
    {
      "cell_type": "code",
      "source": [
        "def my_function(x):\n",
        "  return 5 * x\n",
        "\n",
        "print(my_function(3))\n",
        "print(my_function(5))\n",
        "print(my_function(9))"
      ],
      "metadata": {
        "id": "m4LWFlDYmC1d"
      },
      "execution_count": null,
      "outputs": []
    },
    {
      "cell_type": "code",
      "source": [
        "def myfunction():\n",
        "  pass"
      ],
      "metadata": {
        "id": "MNrX6MuymC4j"
      },
      "execution_count": null,
      "outputs": []
    },
    {
      "cell_type": "code",
      "source": [
        "def tri_recursion(k):\n",
        "  if(k > 0):\n",
        "    result = k + tri_recursion(k - 1)\n",
        "    print(result)\n",
        "  else:\n",
        "    result = 0\n",
        "  return result\n",
        "\n",
        "print(\"\\n\\nRecursion Example Results\")\n",
        "tri_recursion(1)"
      ],
      "metadata": {
        "id": "qXRK94Y3mC7J"
      },
      "execution_count": null,
      "outputs": []
    },
    {
      "cell_type": "code",
      "source": [],
      "metadata": {
        "id": "iOJoHK0NmC9t"
      },
      "execution_count": null,
      "outputs": []
    },
    {
      "cell_type": "code",
      "source": [
        "def faktorial(x):\n",
        "    if x == 1:\n",
        "        return 1\n",
        "    else:\n",
        "        return (x * faktorial(x-1))\n",
        "\n",
        "faktorial(3)"
      ],
      "metadata": {
        "colab": {
          "base_uri": "https://localhost:8080/"
        },
        "id": "9_TbRhVemDE1",
        "outputId": "d42a0ad8-eff5-477a-cb15-8d03ef39dcec"
      },
      "execution_count": null,
      "outputs": [
        {
          "output_type": "execute_result",
          "data": {
            "text/plain": [
              "6"
            ]
          },
          "metadata": {},
          "execution_count": 3
        }
      ]
    },
    {
      "cell_type": "code",
      "source": [
        "import math\n",
        "\n",
        "def luas_lingkaran():\n",
        "    radius = float(input(\"Masukkan jari-jari lingkaran: \"))\n",
        "    luas = math.pi * radius ** 2\n",
        "    print(f\"Luas lingkaran: {luas:.2f}\")\n",
        "\n",
        "def luas_persegi():\n",
        "    sisi = float(input(\"Masukkan panjang sisi persegi: \"))\n",
        "    luas = sisi ** 2\n",
        "    print(f\"Luas persegi: {luas:.2f}\")\n",
        "\n",
        "def luas_segitiga():\n",
        "    alas = float(input(\"Masukkan panjang alas segitiga: \"))\n",
        "    tinggi = float(input(\"Masukkan tinggi segitiga: \"))\n",
        "    luas = 0.5 * alas * tinggi\n",
        "    print(f\"Luas segitiga: {luas:.2f}\")\n",
        "\n",
        "def kalkulator_luas():\n",
        "    while True:\n",
        "        print(\"\\nKalkulator Luas Bangun Datar\")\n",
        "        print(\"1. Luas Lingkaran\")\n",
        "        print(\"2. Luas Persegi\")\n",
        "        print(\"3. Luas Segitiga\")\n",
        "        print(\"4. Selesai\")\n",
        "\n",
        "        pilihan = input(\"Pilih perhitungan (1/2/3/4): \")\n",
        "\n",
        "        if pilihan == '1':\n",
        "            luas_lingkaran()\n",
        "        elif pilihan == '2':\n",
        "            luas_persegi()\n",
        "        elif pilihan == '3':\n",
        "            luas_segitiga()\n",
        "        elif pilihan == '4':\n",
        "            print(\"Program selesai.\")\n",
        "            break\n",
        "        else:\n",
        "            print(\"Pilihan tidak valid, coba lagi.\")\n",
        "\n",
        "kalkulator_luas()\n"
      ],
      "metadata": {
        "colab": {
          "base_uri": "https://localhost:8080/"
        },
        "id": "-GRINo3fmDMX",
        "outputId": "60b264fd-be56-4a7e-8953-89dc23ce4b9e"
      },
      "execution_count": null,
      "outputs": [
        {
          "output_type": "stream",
          "name": "stdout",
          "text": [
            "\n",
            "Kalkulator Luas Bangun Datar\n",
            "1. Luas Lingkaran\n",
            "2. Luas Persegi\n",
            "3. Luas Segitiga\n",
            "4. Selesai\n",
            "Pilih perhitungan (1/2/3/4): 2\n",
            "Masukkan panjang sisi persegi: 3\n",
            "Luas persegi: 9.00\n",
            "\n",
            "Kalkulator Luas Bangun Datar\n",
            "1. Luas Lingkaran\n",
            "2. Luas Persegi\n",
            "3. Luas Segitiga\n",
            "4. Selesai\n",
            "Pilih perhitungan (1/2/3/4): 1\n",
            "Masukkan jari-jari lingkaran: 3\n",
            "Luas lingkaran: 28.27\n",
            "\n",
            "Kalkulator Luas Bangun Datar\n",
            "1. Luas Lingkaran\n",
            "2. Luas Persegi\n",
            "3. Luas Segitiga\n",
            "4. Selesai\n",
            "Pilih perhitungan (1/2/3/4): 4\n",
            "Program selesai.\n"
          ]
        }
      ]
    },
    {
      "cell_type": "code",
      "source": [],
      "metadata": {
        "id": "q80_mvu_mDOc"
      },
      "execution_count": null,
      "outputs": []
    }
  ]
}