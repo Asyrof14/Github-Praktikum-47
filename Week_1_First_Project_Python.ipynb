{
  "nbformat": 4,
  "nbformat_minor": 0,
  "metadata": {
    "colab": {
      "provenance": []
    },
    "kernelspec": {
      "name": "python3",
      "display_name": "Python 3"
    },
    "language_info": {
      "name": "python"
    }
  },
  "cells": [
    {
      "cell_type": "code",
      "execution_count": null,
      "metadata": {
        "colab": {
          "base_uri": "https://localhost:8080/"
        },
        "id": "dD-NmR8Iqqdc",
        "outputId": "497cc2b9-6b9e-4175-cf43-0c46769e6afd"
      },
      "outputs": [
        {
          "output_type": "stream",
          "name": "stdout",
          "text": [
            "Hello, Python!\n"
          ]
        }
      ],
      "source": [
        "print('Hello, Python!')"
      ]
    },
    {
      "cell_type": "code",
      "source": [
        "print('Teknologi Informasi - Universitas Tidar')"
      ],
      "metadata": {
        "colab": {
          "base_uri": "https://localhost:8080/"
        },
        "id": "Pxdt_X6Gspfb",
        "outputId": "147a8628-8884-4346-d4a5-a0e7b81b2ddc"
      },
      "execution_count": null,
      "outputs": [
        {
          "output_type": "stream",
          "name": "stdout",
          "text": [
            "Teknologi Informasi - Universitas Tidar\n"
          ]
        }
      ]
    },
    {
      "cell_type": "code",
      "source": [
        "import sys\n",
        "print(sys.version)"
      ],
      "metadata": {
        "colab": {
          "base_uri": "https://localhost:8080/"
        },
        "id": "_Dczgs06s3k8",
        "outputId": "317bdb8a-1332-4117-969c-4dc03e487f2e"
      },
      "execution_count": null,
      "outputs": [
        {
          "output_type": "stream",
          "name": "stdout",
          "text": [
            "3.10.12 (main, Jul 29 2024, 16:56:48) [GCC 11.4.0]\n"
          ]
        }
      ]
    },
    {
      "cell_type": "code",
      "source": [
        "frint('Hello, Python!')"
      ],
      "metadata": {
        "id": "sboZQLvUtD4q",
        "colab": {
          "base_uri": "https://localhost:8080/",
          "height": 141
        },
        "outputId": "836e3262-8211-486a-b2eb-ae307c1453ef"
      },
      "execution_count": null,
      "outputs": [
        {
          "output_type": "error",
          "ename": "NameError",
          "evalue": "name 'frint' is not defined",
          "traceback": [
            "\u001b[0;31m---------------------------------------------------------------------------\u001b[0m",
            "\u001b[0;31mNameError\u001b[0m                                 Traceback (most recent call last)",
            "\u001b[0;32m<ipython-input-6-36426483d735>\u001b[0m in \u001b[0;36m<cell line: 1>\u001b[0;34m()\u001b[0m\n\u001b[0;32m----> 1\u001b[0;31m \u001b[0mfrint\u001b[0m\u001b[0;34m(\u001b[0m\u001b[0;34m'Hello, Python!'\u001b[0m\u001b[0;34m)\u001b[0m\u001b[0;34m\u001b[0m\u001b[0;34m\u001b[0m\u001b[0m\n\u001b[0m",
            "\u001b[0;31mNameError\u001b[0m: name 'frint' is not defined"
          ]
        }
      ]
    },
    {
      "cell_type": "code",
      "source": [
        "print('Hello, Python!)"
      ],
      "metadata": {
        "id": "yrVygzTjtIjE",
        "colab": {
          "base_uri": "https://localhost:8080/",
          "height": 106
        },
        "outputId": "a89e3c53-8cc9-44ba-988b-83df94b541ee"
      },
      "execution_count": null,
      "outputs": [
        {
          "output_type": "error",
          "ename": "SyntaxError",
          "evalue": "unterminated string literal (detected at line 1) (<ipython-input-5-9ee194810ad3>, line 1)",
          "traceback": [
            "\u001b[0;36m  File \u001b[0;32m\"<ipython-input-5-9ee194810ad3>\"\u001b[0;36m, line \u001b[0;32m1\u001b[0m\n\u001b[0;31m    print('Hello, Python!)\u001b[0m\n\u001b[0m          ^\u001b[0m\n\u001b[0;31mSyntaxError\u001b[0m\u001b[0;31m:\u001b[0m unterminated string literal (detected at line 1)\n"
          ]
        }
      ]
    },
    {
      "cell_type": "code",
      "source": [
        "print('This will be printed')\n",
        "frint('This will cause an error')\n",
        "print('This will not be printed')"
      ],
      "metadata": {
        "id": "optODz20tSzK",
        "colab": {
          "base_uri": "https://localhost:8080/",
          "height": 193
        },
        "outputId": "8d3c54f4-a8f6-41d4-fa48-0c89ece29bc7"
      },
      "execution_count": null,
      "outputs": [
        {
          "output_type": "stream",
          "name": "stdout",
          "text": [
            "This will be printed\n"
          ]
        },
        {
          "output_type": "error",
          "ename": "NameError",
          "evalue": "name 'frint' is not defined",
          "traceback": [
            "\u001b[0;31m---------------------------------------------------------------------------\u001b[0m",
            "\u001b[0;31mNameError\u001b[0m                                 Traceback (most recent call last)",
            "\u001b[0;32m<ipython-input-4-f94276d157f8>\u001b[0m in \u001b[0;36m<cell line: 2>\u001b[0;34m()\u001b[0m\n\u001b[1;32m      1\u001b[0m \u001b[0mprint\u001b[0m\u001b[0;34m(\u001b[0m\u001b[0;34m'This will be printed'\u001b[0m\u001b[0;34m)\u001b[0m\u001b[0;34m\u001b[0m\u001b[0;34m\u001b[0m\u001b[0m\n\u001b[0;32m----> 2\u001b[0;31m \u001b[0mfrint\u001b[0m\u001b[0;34m(\u001b[0m\u001b[0;34m'This will cause an error'\u001b[0m\u001b[0;34m)\u001b[0m\u001b[0;34m\u001b[0m\u001b[0;34m\u001b[0m\u001b[0m\n\u001b[0m\u001b[1;32m      3\u001b[0m \u001b[0mprint\u001b[0m\u001b[0;34m(\u001b[0m\u001b[0;34m'This will not be printed'\u001b[0m\u001b[0;34m)\u001b[0m\u001b[0;34m\u001b[0m\u001b[0;34m\u001b[0m\u001b[0m\n",
            "\u001b[0;31mNameError\u001b[0m: name 'frint' is not defined"
          ]
        }
      ]
    },
    {
      "cell_type": "code",
      "source": [
        "print('Hello World')"
      ],
      "metadata": {
        "colab": {
          "base_uri": "https://localhost:8080/"
        },
        "id": "RlSs5xvTuhqY",
        "outputId": "b1faf13b-f443-4b76-953a-ee4e20768474"
      },
      "execution_count": null,
      "outputs": [
        {
          "output_type": "stream",
          "name": "stdout",
          "text": [
            "Hello World\n"
          ]
        }
      ]
    },
    {
      "cell_type": "code",
      "source": [
        "print('Hello World') # Print the traditional hello world"
      ],
      "metadata": {
        "colab": {
          "base_uri": "https://localhost:8080/"
        },
        "id": "utnCQnW4uqd5",
        "outputId": "5d282424-2967-4453-ebf7-6741081c57a7"
      },
      "execution_count": null,
      "outputs": [
        {
          "output_type": "stream",
          "name": "stdout",
          "text": [
            "Hello World\n"
          ]
        }
      ]
    },
    {
      "cell_type": "code",
      "source": [
        "print('Nama         : Muhammad Asyrof')\n",
        "print('NPM          : 2420506047')\n",
        "print('Alamat       : Malangan 1, Rt 2 RW 4. Tidar Utara, Magelang Selatan')\n",
        "print('Tinggi Badan : 178')\n",
        "print('Berat Badan  : 55')"
      ],
      "metadata": {
        "colab": {
          "base_uri": "https://localhost:8080/"
        },
        "id": "8phHEx9u45BE",
        "outputId": "52da4047-febc-4627-e7dc-f65f603fbc76"
      },
      "execution_count": null,
      "outputs": [
        {
          "output_type": "stream",
          "name": "stdout",
          "text": [
            "Nama         : Muhammad Asyrof\n",
            "NPM          : 2420506047\n",
            "Alamat       : Malangan 1, Rt 2 RW 4. Tidar Utara, Magelang Selatan\n",
            "Tinggi Badan : 178\n",
            "Berat Badan  : 55\n"
          ]
        }
      ]
    },
    {
      "cell_type": "code",
      "source": [
        "Nama = 'Muhammad Asyrof'\n",
        "NPM = 2420506047\n",
        "Alamat = 'Malangan 1, Rt 2 RW 4. Tidar Utara, Magelang Selatan'\n",
        "Tinggi_Badan = 178\n",
        "Berat_Badan = 55\n",
        "\n",
        "print('Nama         : ', Nama)\n",
        "print('NPM          : ', NPM)\n",
        "print('Alamat       : ', Alamat)\n",
        "print('Tinggi Badan : ', Tinggi_Badan)\n",
        "print('Berat Badan  : ', Berat_Badan)"
      ],
      "metadata": {
        "colab": {
          "base_uri": "https://localhost:8080/"
        },
        "id": "nwQ8ftcyvXfJ",
        "outputId": "33e11df7-3d9b-4e2b-aed9-ccf7848ae3d3"
      },
      "execution_count": null,
      "outputs": [
        {
          "output_type": "stream",
          "name": "stdout",
          "text": [
            "Nama         :  Muhammad Asyrof\n",
            "NPM          :  2420506047\n",
            "Alamat       :  Malangan 1, Rt 2 RW 4. Tidar Utara, Magelang Selatan\n",
            "Tinggi Badan :  178\n",
            "Berat Badan  :  55\n"
          ]
        }
      ]
    },
    {
      "cell_type": "code",
      "source": [
        "print('\\033[1m' + 'Universitas Tidar' + '\\033[0m')\n",
        "print('Universitas Tidar merupakan Perguruan Tinggi Pemerintah atau Perguruan Tinggi Negeri yang telah ditetapkan berdasarkan Peraturan Presiden Republik Indonesia Nomor 23 Tahun 2014 pada tanggal 1 April 2014.')\n",
        "print('')\n",
        "print('\\033[1m' + 'Jurusan Teknik Eleltro, Mekatronika, dan Informasi' + '\\033[0m')\n",
        "print('Jurusan teknik ini terdiri atas tiga program studi, antara lain')\n",
        "print('   1. S1 Teknik Elektro     : \\x1b[3m(Bachelor of Electrical Engineering)\\x1b[0m')\n",
        "print('   2. S1 Teknolgi Informasi : \\x1b[3m(Bachelor of Information Technology)\\x1b[0m')\n",
        "print('   3. S1 Teknik Mekatronika : \\x1b[3m(Bachelor of Mechatronics Engineering)\\x1b[0m')"
      ],
      "metadata": {
        "colab": {
          "base_uri": "https://localhost:8080/"
        },
        "id": "yLF6fvv3-nci",
        "outputId": "156065d8-2b9c-4144-ea71-7d2e9ab34b6a"
      },
      "execution_count": null,
      "outputs": [
        {
          "output_type": "stream",
          "name": "stdout",
          "text": [
            "\u001b[1mUniversitas Tidar\u001b[0m\n",
            "Universitas Tidar merupakan Perguruan Tinggi Pemerintah atau Perguruan Tinggi Negeri yang telah ditetapkan berdasarkan Peraturan Presiden Republik Indonesia Nomor 23 Tahun 2014 pada tanggal 1 April 2014.\n",
            "\n",
            "\u001b[1mJurusan Teknik Eleltro, Mekatronika, dan Informasi\u001b[0m\n",
            "Jurusan teknik ini terdiri atas tiga program studi, antara lain\n",
            "   1. S1 Teknik Elektro     : \u001b[3m(Bachelor of Electrical Engineering)\u001b[0m\n",
            "   2. S1 Teknolgi Informasi : \u001b[3m(Bachelor of Information Technology)\u001b[0m\n",
            "   3. S1 Teknik Mekatronika : \u001b[3m(Bachelor of Mechatronics Engineering)\u001b[0m\n"
          ]
        }
      ]
    },
    {
      "cell_type": "code",
      "source": [
        "Elektro = '\\x1b[3m(Bachelor of Electrical Engineering)\\x1b[0m'\n",
        "Info = '\\x1b[3m(Bachelor of Information Technology)\\x1b[0m'\n",
        "Meka = '\\x1b[3m(Bachelor of Mechatronics Engineering)\\x1b[0m'\n",
        "\n",
        "print('\\033[1m' + 'Universitas Tidar' + '\\033[0m')\n",
        "print('Universitas Tidar merupakan Perguruan Tinggi Pemerintah atau Perguruan Tinggi Negeri yang telah ditetapkan berdasarkan Peraturan Presiden Republik Indonesia Nomor 23 Tahun 2014 pada tanggal 1 April 2014.')\n",
        "print('')\n",
        "print('\\033[1m' + 'Jurusan Teknik Eleltro, Mekatronika, dan Informasi' + '\\033[0m')\n",
        "print('Jurusan teknik ini terdiri atas tiga program studi, antara lain')\n",
        "print('   1. S1 Teknik Elektro     :', Elektro)\n",
        "print('   2. S1 Teknolgi Informasi :', Info)\n",
        "print('   3. S1 Teknik Mekatronika :', Meka)"
      ],
      "metadata": {
        "colab": {
          "base_uri": "https://localhost:8080/"
        },
        "id": "0tXaNUwUxe1v",
        "outputId": "598af142-31c2-4d92-a30d-6ec1f3c21745"
      },
      "execution_count": null,
      "outputs": [
        {
          "output_type": "stream",
          "name": "stdout",
          "text": [
            "\u001b[1mUniversitas Tidar\u001b[0m\n",
            "Universitas Tidar merupakan Perguruan Tinggi Pemerintah atau Perguruan Tinggi Negeri yang telah ditetapkan berdasarkan Peraturan Presiden Republik Indonesia Nomor 23 Tahun 2014 pada tanggal 1 April 2014.\n",
            "\n",
            "\u001b[1mJurusan Teknik Eleltro, Mekatronika, dan Informasi\u001b[0m\n",
            "Jurusan teknik ini terdiri atas tiga program studi, antara lain\n",
            "   1. S1 Teknik Elektro     : \u001b[3m(Bachelor of Electrical Engineering)\u001b[0m\n",
            "   2. S1 Teknolgi Informasi : \u001b[3m(Bachelor of Information Technology)\u001b[0m\n",
            "   3. S1 Teknik Mekatronika : \u001b[3m(Bachelor of Mechatronics Engineering)\u001b[0m\n"
          ]
        }
      ]
    },
    {
      "cell_type": "code",
      "source": [
        "from IPython.display import display, HTML\n",
        "Elektro = '<i>(Bachelor of Electrical Engineering)<i>'\n",
        "Info = '<i>(Bachelor of Information Technology)<i>'\n",
        "Meka = '<i>(Bachelor of Mechatronics Engineering)<i>'\n",
        "\n",
        "display(HTML('<b>Universitas Tidar</b>'))\n",
        "print('Universitas Tidar merupakan Perguruan Tinggi Pemerintah atau Perguruan Tinggi Negeri yang telah ditetapkan berdasarkan Peraturan Presiden Republik Indonesia Nomor 23 Tahun 2014 pada tanggal 1 April 2014.')\n",
        "print('')\n",
        "display(HTML('<b>Jurusan Teknik Eleltro, Mekatronika, dan Informasi</b>'))\n",
        "print('Jurusan teknik ini terdiri atas tiga program studi, antara lain')\n",
        "display(HTML(f'1. S1 Teknik Elektro     : {Elektro}'))\n",
        "display(HTML(f'2. S1 Teknoloi Informasi : {Info}'))\n",
        "display(HTML(f'3. S1 Teknik Mekatronika : {Meka}'))"
      ],
      "metadata": {
        "colab": {
          "base_uri": "https://localhost:8080/",
          "height": 176
        },
        "id": "EqPNksNa34Pp",
        "outputId": "628abade-fcdc-4e65-ccb0-dc3caa4e7f92"
      },
      "execution_count": null,
      "outputs": [
        {
          "output_type": "display_data",
          "data": {
            "text/plain": [
              "<IPython.core.display.HTML object>"
            ],
            "text/html": [
              "<b>Universitas Tidar</b>"
            ]
          },
          "metadata": {}
        },
        {
          "output_type": "stream",
          "name": "stdout",
          "text": [
            "Universitas Tidar merupakan Perguruan Tinggi Pemerintah atau Perguruan Tinggi Negeri yang telah ditetapkan berdasarkan Peraturan Presiden Republik Indonesia Nomor 23 Tahun 2014 pada tanggal 1 April 2014.\n",
            "\n"
          ]
        },
        {
          "output_type": "display_data",
          "data": {
            "text/plain": [
              "<IPython.core.display.HTML object>"
            ],
            "text/html": [
              "<b>Jurusan Teknik Eleltro, Mekatronika, dan Informasi</b>"
            ]
          },
          "metadata": {}
        },
        {
          "output_type": "stream",
          "name": "stdout",
          "text": [
            "Jurusan teknik ini terdiri atas tiga program studi, antara lain\n"
          ]
        },
        {
          "output_type": "display_data",
          "data": {
            "text/plain": [
              "<IPython.core.display.HTML object>"
            ],
            "text/html": [
              "1. S1 Teknik Elektro     : <i>(Bachelor of Electrical Engineering)<i>"
            ]
          },
          "metadata": {}
        },
        {
          "output_type": "display_data",
          "data": {
            "text/plain": [
              "<IPython.core.display.HTML object>"
            ],
            "text/html": [
              "2. S1 Teknoloi Informasi : <i>(Bachelor of Information Technology)<i>"
            ]
          },
          "metadata": {}
        },
        {
          "output_type": "display_data",
          "data": {
            "text/plain": [
              "<IPython.core.display.HTML object>"
            ],
            "text/html": [
              "3. S1 Teknik Mekatronika : <i>(Bachelor of Mechatronics Engineering)<i>"
            ]
          },
          "metadata": {}
        }
      ]
    }
  ]
}