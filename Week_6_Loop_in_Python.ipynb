{
  "cells": [
    {
      "cell_type": "code",
      "execution_count": null,
      "metadata": {
        "colab": {
          "base_uri": "https://localhost:8080/"
        },
        "id": "8OAOXYaLVfH_",
        "outputId": "4b589622-5f8d-4185-ac0f-50c537162536"
      },
      "outputs": [
        {
          "data": {
            "text/plain": [
              "range(0, 3)"
            ]
          },
          "execution_count": 1,
          "metadata": {},
          "output_type": "execute_result"
        }
      ],
      "source": [
        "range(3)"
      ]
    },
    {
      "cell_type": "code",
      "execution_count": null,
      "metadata": {
        "colab": {
          "base_uri": "https://localhost:8080/"
        },
        "id": "7JYqE3LeWBzI",
        "outputId": "f0d21a44-ecf1-4e59-e8da-4fd1a4e5d789"
      },
      "outputs": [
        {
          "name": "stdout",
          "output_type": "stream",
          "text": [
            "1982\n",
            "1980\n",
            "1973\n"
          ]
        }
      ],
      "source": [
        "dates = [1982,1980,1973]\n",
        "N = len(dates)\n",
        "\n",
        "for i in range(N):\n",
        "    print(dates[i])"
      ]
    },
    {
      "cell_type": "code",
      "execution_count": null,
      "metadata": {
        "colab": {
          "base_uri": "https://localhost:8080/"
        },
        "id": "VlsdUhKgWKEv",
        "outputId": "beb4c1ca-bcfc-40bb-d024-7076262784d0"
      },
      "outputs": [
        {
          "name": "stdout",
          "output_type": "stream",
          "text": [
            "-2\n",
            "-1\n",
            "0\n",
            "1\n",
            "2\n",
            "3\n",
            "4\n",
            "5\n",
            "6\n",
            "7\n"
          ]
        }
      ],
      "source": [
        "for i in range(-2, 8):\n",
        "    print(i)"
      ]
    },
    {
      "cell_type": "code",
      "execution_count": null,
      "metadata": {
        "colab": {
          "base_uri": "https://localhost:8080/"
        },
        "id": "ONT6_hpmWROw",
        "outputId": "2044aaa3-fd2b-4e88-99e9-83fd4fd8b101"
      },
      "outputs": [
        {
          "name": "stdout",
          "output_type": "stream",
          "text": [
            "1982\n",
            "1980\n",
            "1973\n"
          ]
        }
      ],
      "source": [
        "for year in dates:\n",
        "    print(year)"
      ]
    },
    {
      "cell_type": "code",
      "execution_count": null,
      "metadata": {
        "colab": {
          "base_uri": "https://localhost:8080/"
        },
        "id": "gPh96rNPWYNl",
        "outputId": "e4092cba-6151-4f90-9c68-28466d760114"
      },
      "outputs": [
        {
          "name": "stdout",
          "output_type": "stream",
          "text": [
            "Before square  0 is red\n",
            "After square  0 is weight\n",
            "Before square  1 is yellow\n",
            "After square  1 is weight\n",
            "Before square  2 is green\n",
            "After square  2 is weight\n",
            "Before square  3 is purple\n",
            "After square  3 is weight\n",
            "Before square  4 is blue\n",
            "After square  4 is weight\n"
          ]
        }
      ],
      "source": [
        "squares = ['red', 'yellow', 'green', 'purple', 'blue']\n",
        "\n",
        "for i in range(0, 5):\n",
        "    print(\"Before square \", i, 'is',  squares[i])\n",
        "    squares[i] = 'weight'\n",
        "    print(\"After square \", i, 'is',  squares[i])"
      ]
    },
    {
      "cell_type": "code",
      "execution_count": null,
      "metadata": {
        "colab": {
          "base_uri": "https://localhost:8080/"
        },
        "id": "_H7itTtQWnAw",
        "outputId": "adf8ccb5-50a9-44fd-eb87-e3312412184f"
      },
      "outputs": [
        {
          "name": "stdout",
          "output_type": "stream",
          "text": [
            "0 red\n",
            "1 yellow\n",
            "2 green\n",
            "3 purple\n",
            "4 blue\n"
          ]
        }
      ],
      "source": [
        "squares=['red', 'yellow', 'green', 'purple', 'blue']\n",
        "\n",
        "for i, square in enumerate(squares):\n",
        "    print(i, square)"
      ]
    },
    {
      "cell_type": "code",
      "execution_count": null,
      "metadata": {
        "colab": {
          "base_uri": "https://localhost:8080/"
        },
        "id": "CE-0n039W2b8",
        "outputId": "967056a1-e1c3-4846-dca6-198d3b521592"
      },
      "outputs": [
        {
          "name": "stdout",
          "output_type": "stream",
          "text": [
            "1982\n",
            "1980\n",
            "1973\n",
            "It took  3 repetitions to get out of loop.\n"
          ]
        }
      ],
      "source": [
        "dates = [1982, 1980, 1973, 2000]\n",
        "\n",
        "i = 0\n",
        "year = 0\n",
        "\n",
        "while(year != 1973):\n",
        "    year = dates[i]\n",
        "    i = i + 1\n",
        "    print(year)\n",
        "\n",
        "print(\"It took \", i ,\"repetitions to get out of loop.\")"
      ]
    },
    {
      "cell_type": "code",
      "execution_count": null,
      "metadata": {
        "colab": {
          "base_uri": "https://localhost:8080/"
        },
        "id": "ces-V-VoXEzH",
        "outputId": "5fc87b10-f688-42c3-dfd1-e09e30b2d50b"
      },
      "outputs": [
        {
          "name": "stdout",
          "output_type": "stream",
          "text": [
            "1 2 3 4 5 6 7 8 9 10 \n",
            "2 4 6 8 10 12 14 16 18 20 \n",
            "3 6 9 12 15 18 21 24 27 30 \n",
            "4 8 12 16 20 24 28 32 36 40 \n",
            "5 10 15 20 25 30 35 40 45 50 \n",
            "6 12 18 24 30 36 42 48 54 60 \n",
            "7 14 21 28 35 42 49 56 63 70 \n",
            "8 16 24 32 40 48 56 64 72 80 \n",
            "9 18 27 36 45 54 63 72 81 90 \n",
            "10 20 30 40 50 60 70 80 90 100 \n"
          ]
        }
      ],
      "source": [
        "for i in range(1, 11):\n",
        "    # nested loop\n",
        "    # to iterate from 1 to 10\n",
        "    for j in range(1, 11):\n",
        "        # print multiplication\n",
        "        print(i * j, end=' ')\n",
        "    print()"
      ]
    },
    {
      "cell_type": "code",
      "execution_count": null,
      "metadata": {
        "colab": {
          "base_uri": "https://localhost:8080/"
        },
        "id": "TuS5EXIDXSOz",
        "outputId": "0708e2cf-0fde-43a1-96ea-d65929d5b9ef"
      },
      "outputs": [
        {
          "name": "stdout",
          "output_type": "stream",
          "text": [
            "Kelly Kelly Kelly Kelly Kelly \n",
            "Jessa Jessa Jessa Jessa Jessa \n",
            "Emma Emma Emma Emma Emma \n"
          ]
        }
      ],
      "source": [
        "names = ['Kelly', 'Jessa', 'Emma']\n",
        "# outer loop\n",
        "for name in names:\n",
        "    # inner while loop\n",
        "    count = 0\n",
        "    while count < 5:\n",
        "        print(name, end=' ')\n",
        "        # increment counter\n",
        "        count = count + 1\n",
        "    print()"
      ]
    },
    {
      "cell_type": "code",
      "execution_count": null,
      "metadata": {
        "colab": {
          "base_uri": "https://localhost:8080/"
        },
        "id": "GPhWyGClXTvg",
        "outputId": "5d93f83a-7338-4917-cc4a-f164c365d885"
      },
      "outputs": [
        {
          "name": "stdout",
          "output_type": "stream",
          "text": [
            "1 0\n",
            "2 0\n",
            "2 1\n",
            "3 0\n",
            "3 1\n",
            "3 2\n"
          ]
        }
      ],
      "source": [
        "for i in range(4):\n",
        "    for j in range(4):\n",
        "        if j == i:\n",
        "            break\n",
        "        print(i, j)"
      ]
    },
    {
      "cell_type": "code",
      "execution_count": null,
      "metadata": {
        "colab": {
          "base_uri": "https://localhost:8080/"
        },
        "id": "8vSnT9IfXhEO",
        "outputId": "0e46f159-8ac0-42ad-8ae9-dce74e0a6219"
      },
      "outputs": [
        {
          "name": "stdout",
          "output_type": "stream",
          "text": [
            "2 * 4 =  8\n",
            "2 * 6 =  12\n",
            "4 * 2 =  8\n",
            "4 * 6 =  24\n",
            "6 * 2 =  12\n",
            "6 * 4 =  24\n"
          ]
        }
      ],
      "source": [
        "first = [2, 4, 6]\n",
        "second = [2, 4, 6]\n",
        "for i in first:\n",
        "    for j in second:\n",
        "        if i == j:\n",
        "            continue\n",
        "        print(i, '*', j, '= ', i * j)"
      ]
    },
    {
      "cell_type": "code",
      "execution_count": null,
      "metadata": {
        "colab": {
          "base_uri": "https://localhost:8080/"
        },
        "id": "ZVL6EdB2Y18_",
        "outputId": "862fb22c-63f4-4994-c981-1f11b6b7ce08"
      },
      "outputs": [
        {
          "name": "stdout",
          "output_type": "stream",
          "text": [
            "12345678910\n",
            "12345678910\n",
            "12345678910\n",
            "12345678910\n",
            "12345678910\n"
          ]
        }
      ],
      "source": [
        "i = 1\n",
        "while i <= 5:\n",
        "    j = 1\n",
        "    while j <= 10:\n",
        "        print(j, end='')\n",
        "        j = j + 1\n",
        "    i = i + 1\n",
        "    print()"
      ]
    },
    {
      "cell_type": "code",
      "execution_count": null,
      "metadata": {
        "colab": {
          "base_uri": "https://localhost:8080/"
        },
        "id": "b1lBkkK5ZDt_",
        "outputId": "6aa95bf7-fe87-4866-a41b-72765db8f8f1"
      },
      "outputs": [
        {
          "name": "stdout",
          "output_type": "stream",
          "text": [
            "Show Perfect number fom 1 to 100\n",
            "Perfect number: 6\n",
            "Perfect number: 28\n"
          ]
        }
      ],
      "source": [
        "print('Show Perfect number fom 1 to 100')\n",
        "n = 2\n",
        "# outer while loop\n",
        "while n <= 100:\n",
        "    x_sum = 0\n",
        "    # inner for loop\n",
        "    for i in range(1, n):\n",
        "        if n % i == 0:\n",
        "            x_sum += i\n",
        "    if x_sum == n:\n",
        "        print('Perfect number:', n)\n",
        "    n += 1\n"
      ]
    },
    {
      "cell_type": "code",
      "execution_count": null,
      "metadata": {
        "id": "r4_PQgmT23Yq"
      },
      "outputs": [],
      "source": []
    },
    {
      "cell_type": "code",
      "execution_count": null,
      "metadata": {
        "colab": {
          "base_uri": "https://localhost:8080/"
        },
        "id": "qwjec6BDahW1",
        "outputId": "cb587244-2b6e-4dfb-97f6-ea109d2777c3"
      },
      "outputs": [
        {
          "name": "stdout",
          "output_type": "stream",
          "text": [
            "Masukkan nilai awal untuk x: 50\n",
            "                                                  *\n",
            "                                                 * *\n",
            "                                                * * *\n",
            "                                               * * * *\n",
            "                                              * * * * *\n",
            "                                             * * * * * *\n",
            "                                            * * * * * * *\n",
            "                                           * * * * * * * *\n",
            "                                          * * * * * * * * *\n",
            "                                         * * * * * * * * * *\n",
            "                                        * * * * * * * * * * *\n",
            "                                       * * * * * * * * * * * *\n",
            "                                      * * * * * * * * * * * * *\n",
            "                                     * * * * * * * * * * * * * *\n",
            "                                    * * * * * * * * * * * * * * *\n",
            "                                   * * * * * * * * * * * * * * * *\n",
            "                                  * * * * * * * * * * * * * * * * *\n",
            "                                 * * * * * * * * * * * * * * * * * *\n",
            "                                * * * * * * * * * * * * * * * * * * *\n",
            "                               * * * * * * * * * * * * * * * * * * * *\n",
            "                              * * * * * * * * * * * * * * * * * * * * *\n",
            "                             * * * * * * * * * * * * * * * * * * * * * *\n",
            "                            * * * * * * * * * * * * * * * * * * * * * * *\n",
            "                           * * * * * * * * * * * * * * * * * * * * * * * *\n",
            "                          * * * * * * * * * * * * * * * * * * * * * * * * *\n",
            "                         * * * * * * * * * * * * * * * * * * * * * * * * * *\n",
            "                        * * * * * * * * * * * * * * * * * * * * * * * * * * *\n",
            "                       * * * * * * * * * * * * * * * * * * * * * * * * * * * *\n",
            "                      * * * * * * * * * * * * * * * * * * * * * * * * * * * * *\n",
            "                     * * * * * * * * * * * * * * * * * * * * * * * * * * * * * *\n",
            "                    * * * * * * * * * * * * * * * * * * * * * * * * * * * * * * *\n",
            "                   * * * * * * * * * * * * * * * * * * * * * * * * * * * * * * * *\n",
            "                  * * * * * * * * * * * * * * * * * * * * * * * * * * * * * * * * *\n",
            "                 * * * * * * * * * * * * * * * * * * * * * * * * * * * * * * * * * *\n",
            "                * * * * * * * * * * * * * * * * * * * * * * * * * * * * * * * * * * *\n",
            "               * * * * * * * * * * * * * * * * * * * * * * * * * * * * * * * * * * * *\n",
            "              * * * * * * * * * * * * * * * * * * * * * * * * * * * * * * * * * * * * *\n",
            "             * * * * * * * * * * * * * * * * * * * * * * * * * * * * * * * * * * * * * *\n",
            "            * * * * * * * * * * * * * * * * * * * * * * * * * * * * * * * * * * * * * * *\n",
            "           * * * * * * * * * * * * * * * * * * * * * * * * * * * * * * * * * * * * * * * *\n",
            "          * * * * * * * * * * * * * * * * * * * * * * * * * * * * * * * * * * * * * * * * *\n",
            "         * * * * * * * * * * * * * * * * * * * * * * * * * * * * * * * * * * * * * * * * * *\n",
            "        * * * * * * * * * * * * * * * * * * * * * * * * * * * * * * * * * * * * * * * * * * *\n",
            "       * * * * * * * * * * * * * * * * * * * * * * * * * * * * * * * * * * * * * * * * * * * *\n",
            "      * * * * * * * * * * * * * * * * * * * * * * * * * * * * * * * * * * * * * * * * * * * * *\n",
            "     * * * * * * * * * * * * * * * * * * * * * * * * * * * * * * * * * * * * * * * * * * * * * *\n",
            "    * * * * * * * * * * * * * * * * * * * * * * * * * * * * * * * * * * * * * * * * * * * * * * *\n",
            "   * * * * * * * * * * * * * * * * * * * * * * * * * * * * * * * * * * * * * * * * * * * * * * * *\n",
            "  * * * * * * * * * * * * * * * * * * * * * * * * * * * * * * * * * * * * * * * * * * * * * * * * *\n",
            " * * * * * * * * * * * * * * * * * * * * * * * * * * * * * * * * * * * * * * * * * * * * * * * * * *\n"
          ]
        }
      ],
      "source": [
        "baris = int(input(\"Masukkan nilai awal untuk x: \"))\n",
        "x = 1\n",
        "\n",
        "while (x <= baris) :\n",
        "    bintang = \" \"\n",
        "    y = baris - 1\n",
        "    z = 2\n",
        "    while (y >= x) :\n",
        "        bintang += \" \"\n",
        "        y -= 1\n",
        "    while (z <= x) :\n",
        "        bintang += \"* \"\n",
        "        z += 1\n",
        "    x += 1\n",
        "    bintang += \"*\"\n",
        "    print(bintang)"
      ]
    },
    {
      "cell_type": "code",
      "execution_count": null,
      "metadata": {
        "colab": {
          "base_uri": "https://localhost:8080/"
        },
        "id": "ysEI3EAkajAU",
        "outputId": "81da394f-50bf-4170-d687-031ad5e25868"
      },
      "outputs": [
        {
          "name": "stdout",
          "output_type": "stream",
          "text": [
            "Masukkan nilai awal untuk x (1-6): 9\n",
            "          1\n",
            "         1 1\n",
            "        1 2 1\n",
            "       1 3 3 1\n",
            "      1 4 6 4 1\n",
            "     1 5 10 10 5 1\n",
            "    1 6 15 20 15 6 1\n",
            "   1 7 21 35 35 21 7 1\n",
            "  1 8 28 56 70 56 28 8 1\n"
          ]
        }
      ],
      "source": [
        "n = int(input(\"Masukkan nilai awal untuk x (1-6): \"))\n",
        "\n",
        "for i in range(1, n+1):\n",
        "    for j in range(0, n-i+1):\n",
        "        print(' ', end='')\n",
        "\n",
        "    # first element is always 1\n",
        "    C = 1\n",
        "    for j in range(1, i+1):\n",
        "\n",
        "        # first value in a line is always 1\n",
        "        print(' ', C, sep='', end='')\n",
        "\n",
        "        # using Binomial Coefficient\n",
        "        C = C * (i - j) // j\n",
        "    print()\n"
      ]
    },
    {
      "cell_type": "code",
      "execution_count": null,
      "metadata": {
        "colab": {
          "background_save": true,
          "base_uri": "https://localhost:8080/"
        },
        "id": "XyRxxdht8k79",
        "outputId": "7dd23352-738f-4a92-a217-1efc8e5ae7a5"
      },
      "outputs": [
        {
          "name": "stdout",
          "output_type": "stream",
          "text": [
            "     1 \n",
            "    1 1 \n",
            "   1 2 1 \n",
            "  1 3 3 1 \n",
            " 1 4 6 4 1 \n"
          ]
        }
      ],
      "source": [
        "baris = int(input(\"Masukkan jumlah baris: \"))\n",
        "\n",
        "for x in range(baris):\n",
        "  print(' ' * (baris - x), end='')\n",
        "  z = 1\n",
        "  for y in range(x + 1):\n",
        "    print(z, end=' ')\n",
        "    z = z * (x - y) // (y + 2)\n",
        "  print()"
      ]
    },
    {
      "cell_type": "code",
      "source": [
        "baris = int(input(\"Masukkan jumlah baris: \"))\n",
        "\n",
        "baris_penjumlahan = int(input(\"Masukkan baris yang ingin dijumlahkan: \"))\n",
        "\n",
        "if baris_penjumlahan <= baris:\n",
        "\n",
        "    total = 0\n",
        "\n",
        "    for x in range(baris):\n",
        "        z = 1\n",
        "        if x == baris_penjumlahan - 1:\n",
        "            for y in range(x + 1):\n",
        "                print(z, end=' ')\n",
        "                total += z\n",
        "                z = z * (x - y) // (y + 1)\n",
        "            print(f\"= {total}\")\n",
        "            break\n",
        "\n",
        "else:\n",
        "   print(f\"Error: Baris yang ingin dijumlahkan ({baris_penjumlahan}) melebihi jumlah baris yang tersedia ({baris})\")"
      ],
      "metadata": {
        "colab": {
          "base_uri": "https://localhost:8080/"
        },
        "id": "7sjSYxjMIedz",
        "outputId": "9cfcf153-7d52-4028-dcee-f6a73003c140"
      },
      "execution_count": 5,
      "outputs": [
        {
          "output_type": "stream",
          "name": "stdout",
          "text": [
            "Masukkan jumlah baris: 5\n",
            "Masukkan baris yang ingin dijumlahkan: 6\n",
            "Error: Baris yang ingin dijumlahkan (6) melebihi jumlah baris yang tersedia (5)\n"
          ]
        }
      ]
    }
  ],
  "metadata": {
    "colab": {
      "provenance": []
    },
    "kernelspec": {
      "display_name": "Python 3",
      "name": "python3"
    },
    "language_info": {
      "name": "python"
    }
  },
  "nbformat": 4,
  "nbformat_minor": 0
}