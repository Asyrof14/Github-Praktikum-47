{
  "nbformat": 4,
  "nbformat_minor": 0,
  "metadata": {
    "colab": {
      "provenance": []
    },
    "kernelspec": {
      "name": "python3",
      "display_name": "Python 3"
    },
    "language_info": {
      "name": "python"
    }
  },
  "cells": [
    {
      "cell_type": "code",
      "execution_count": 1,
      "metadata": {
        "colab": {
          "base_uri": "https://localhost:8080/"
        },
        "id": "9IaYYK4bhxJj",
        "outputId": "75e5d2dd-8d84-47b8-cce1-7e6bb915d9f9"
      },
      "outputs": [
        {
          "output_type": "stream",
          "name": "stdout",
          "text": [
            "Selamat datang di Treasure Hunt! Peta memiliki 10 lokasi (0 hingga 9).\n",
            "Masukkan lokasi harta karun (0-9):1\n",
            "\n",
            "Harta karun telah disembunyikan! Sekarang giliran pemain menebak.\n",
            "  Cobalah untuk menemukan harta karun dengan menebak indeks yang benar.\n",
            "\n",
            "Peta saat ini:  ['_', '_', '_', '_', '_', '_', '_', '_', '_', '_']\n",
            "Masukkan indeks tebakanmu (0-9): 1\n",
            "Selamat! Kamu menemukan harta karun di lokasi: 1\n",
            "Terima kasih sudah bermain!\n"
          ]
        }
      ],
      "source": [
        "size = 10\n",
        "treasure_map = [\"_\" for _ in range(size)]\n",
        "\n",
        "print(f\"Selamat datang di Treasure Hunt! Peta memiliki {size} lokasi (0 hingga {size-1}).\")\n",
        "\n",
        "treasure_index = int(input(f\"Masukkan lokasi harta karun (0-{size-1}):\"))\n",
        "while treasure_index < 0 or treasure_index >= size:\n",
        "  print(\"Lokasi tidak valid. Masukkan angka dalam rentang yang benar.\")\n",
        "  treasure_index = int(input(f\"Masukkan lokasi harta karun (0-{size-1}):\"))\n",
        "\n",
        "treasure_map[treasure_index] = \"X\"\n",
        "\n",
        "def play_treasure_hunt():\n",
        "  print('''\\nHarta karun telah disembunyikan! Sekarang giliran pemain menebak.\n",
        "  Cobalah untuk menemukan harta karun dengan menebak indeks yang benar.''')\n",
        "\n",
        "  while True:\n",
        "    print(\"\\nPeta saat ini: \", [\"_\" for _ in range(size)])\n",
        "    try:\n",
        "      guess = int(input(f\"Masukkan indeks tebakanmu (0-{size-1}): \"))\n",
        "    except ValueError:\n",
        "      print(\"Masukkan angka yang valid!\")\n",
        "      continue\n",
        "    if guess < 0 or guess >= size:\n",
        "      print(\"Indeks tidak valid, pilih antara 0 hingga\", size-1)\n",
        "      continue\n",
        "    if treasure_map[guess] == \"X\":\n",
        "      print(\"Selamat! Kamu menemukan harta karun di lokasi:\", guess)\n",
        "      break\n",
        "    else:\n",
        "      print(\"Tidak ada harta di lokasi ini. Coba lagi!\")\n",
        "  print(\"Terima kasih sudah bermain!\")\n",
        "\n",
        "play_treasure_hunt()"
      ]
    },
    {
      "cell_type": "code",
      "source": [
        "import random\n",
        "\n",
        "size = int(input(\"Masukkan ukuran peta yang diinginkan: \"))\n",
        "treasure_map = [\"_\" for _ in range(size)]\n",
        "\n",
        "treasure_index = random.randint(0, size - 1)\n",
        "\n",
        "print(f\"\\nSelamat datang di Treasure Hunt! Peta memiliki {size} lokasi (0 hingga {size-1}).\")\n",
        "print(\"Harta karun telah disembunyikan secara acak!\\n\")\n",
        "\n",
        "def play_treasure_hunt():\n",
        "    print(\"Cobalah untuk menemukan harta karun dengan menebak indeks yang benar.\\n\")\n",
        "\n",
        "    while True:\n",
        "        print(\"\\nPeta saat ini: \", [\"_\" for _ in range(size)])\n",
        "        try:\n",
        "            guess = int(input(f\"Masukkan indeks tebakanmu (0-{size-1}): \"))\n",
        "        except ValueError:\n",
        "            print(\"Masukkan angka yang valid!\")\n",
        "            continue\n",
        "        if guess < 0 or guess >= size:\n",
        "            print(\"Indeks tidak valid, pilih antara 0 hingga\", size-1)\n",
        "            continue\n",
        "        if guess == treasure_index:\n",
        "            print(\"Selamat! Kamu menemukan harta karun di lokasi:\", guess)\n",
        "            break\n",
        "        else:\n",
        "            print(\"Tidak ada harta di lokasi ini. Coba lagi!\")\n",
        "\n",
        "    print(\"Terima kasih sudah bermain!\")\n",
        "\n",
        "play_treasure_hunt()"
      ],
      "metadata": {
        "colab": {
          "base_uri": "https://localhost:8080/"
        },
        "id": "G_iqMVxuh4-6",
        "outputId": "90e246d4-39a2-4ec6-aee4-45a2f93ec265"
      },
      "execution_count": 2,
      "outputs": [
        {
          "output_type": "stream",
          "name": "stdout",
          "text": [
            "Masukkan ukuran peta yang diinginkan: 5\n",
            "\n",
            "Selamat datang di Treasure Hunt! Peta memiliki 5 lokasi (0 hingga 4).\n",
            "Harta karun telah disembunyikan secara acak!\n",
            "\n",
            "Cobalah untuk menemukan harta karun dengan menebak indeks yang benar.\n",
            "\n",
            "\n",
            "Peta saat ini:  ['_', '_', '_', '_', '_']\n",
            "Masukkan indeks tebakanmu (0-4): 2\n",
            "Tidak ada harta di lokasi ini. Coba lagi!\n",
            "\n",
            "Peta saat ini:  ['_', '_', '_', '_', '_']\n",
            "Masukkan indeks tebakanmu (0-4): 3\n",
            "Tidak ada harta di lokasi ini. Coba lagi!\n",
            "\n",
            "Peta saat ini:  ['_', '_', '_', '_', '_']\n",
            "Masukkan indeks tebakanmu (0-4): 4\n",
            "Tidak ada harta di lokasi ini. Coba lagi!\n",
            "\n",
            "Peta saat ini:  ['_', '_', '_', '_', '_']\n",
            "Masukkan indeks tebakanmu (0-4): 5\n",
            "Indeks tidak valid, pilih antara 0 hingga 4\n",
            "\n",
            "Peta saat ini:  ['_', '_', '_', '_', '_']\n",
            "Masukkan indeks tebakanmu (0-4): 1\n",
            "Selamat! Kamu menemukan harta karun di lokasi: 1\n",
            "Terima kasih sudah bermain!\n"
          ]
        }
      ]
    }
  ]
}