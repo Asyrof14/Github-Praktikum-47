{
  "nbformat": 4,
  "nbformat_minor": 0,
  "metadata": {
    "colab": {
      "provenance": []
    },
    "kernelspec": {
      "name": "python3",
      "display_name": "Python 3"
    },
    "language_info": {
      "name": "python"
    }
  },
  "cells": [
    {
      "cell_type": "code",
      "execution_count": null,
      "metadata": {
        "id": "z2Qpo9KqOvW7"
      },
      "outputs": [],
      "source": [
        "print('Python is powerful')"
      ]
    },
    {
      "cell_type": "code",
      "source": [
        "print('Good Morning!')\n",
        "print('It is rainy today')"
      ],
      "metadata": {
        "colab": {
          "base_uri": "https://localhost:8080/"
        },
        "id": "lSrVsAJSO8Hr",
        "outputId": "fe520c40-8711-4b31-e021-cc4fc2c3b06a"
      },
      "execution_count": null,
      "outputs": [
        {
          "output_type": "stream",
          "name": "stdout",
          "text": [
            "Good Morning!\n",
            "It is rainy today\n"
          ]
        }
      ]
    },
    {
      "cell_type": "code",
      "source": [
        "print('Good Morning!', end = ' ')\n",
        "print('It is cloudy today')"
      ],
      "metadata": {
        "colab": {
          "base_uri": "https://localhost:8080/"
        },
        "id": "9Tg6HkGWPJFL",
        "outputId": "6bd3b7e1-a5e0-41b5-9322-69e66e2f7e39"
      },
      "execution_count": null,
      "outputs": [
        {
          "output_type": "stream",
          "name": "stdout",
          "text": [
            "Good Morning! It is cloudy today\n"
          ]
        }
      ]
    },
    {
      "cell_type": "code",
      "source": [
        "print('New Year', 2023, 'See you soon!', sep= '. ')"
      ],
      "metadata": {
        "colab": {
          "base_uri": "https://localhost:8080/"
        },
        "id": "MxvCr9yYQO3S",
        "outputId": "a89b7690-9142-4c78-836c-15376f006a3e"
      },
      "execution_count": null,
      "outputs": [
        {
          "output_type": "stream",
          "name": "stdout",
          "text": [
            "New Year. 2023. See you soon!\n"
          ]
        }
      ]
    },
    {
      "cell_type": "code",
      "source": [
        "number = -10.6\n",
        "\n",
        "name = \"Teknologi Informasi\"\n",
        "\n",
        "print(5)\n",
        "\n",
        "print(number)\n",
        "print(name)"
      ],
      "metadata": {
        "colab": {
          "base_uri": "https://localhost:8080/"
        },
        "id": "La3mvRYZQXiv",
        "outputId": "a223679f-b90e-4ad2-a86d-2acbda6e0579"
      },
      "execution_count": null,
      "outputs": [
        {
          "output_type": "stream",
          "name": "stdout",
          "text": [
            "5\n",
            "-10.6\n",
            "Teknologi Informasi\n"
          ]
        }
      ]
    },
    {
      "cell_type": "code",
      "source": [
        "print('S1 Teknologi Informasi ' + 'Universitas Tidar')"
      ],
      "metadata": {
        "colab": {
          "base_uri": "https://localhost:8080/"
        },
        "id": "tW5QN0kmQoBV",
        "outputId": "1615effc-279c-49b9-a933-f5cdc3bfe3a9"
      },
      "execution_count": null,
      "outputs": [
        {
          "output_type": "stream",
          "name": "stdout",
          "text": [
            "S1 Teknologi Informasi Universitas Tidar\n"
          ]
        }
      ]
    },
    {
      "cell_type": "code",
      "source": [
        "x = 5\n",
        "y = 10\n",
        "\n",
        "print('The value of x is {} and y is {}'.format(x,y))"
      ],
      "metadata": {
        "colab": {
          "base_uri": "https://localhost:8080/"
        },
        "id": "6J0_IRiGQ0P7",
        "outputId": "7278cc83-a4b5-42d2-d41f-941413211eac"
      },
      "execution_count": null,
      "outputs": [
        {
          "output_type": "stream",
          "name": "stdout",
          "text": [
            "The value of x is 10 and y is 5\n"
          ]
        }
      ]
    },
    {
      "cell_type": "code",
      "source": [
        "num = input('Enter a number: ')\n",
        "\n",
        "print('You Entered:', num)\n",
        "\n",
        "print('Data type of num', type(num))"
      ],
      "metadata": {
        "colab": {
          "base_uri": "https://localhost:8080/"
        },
        "id": "wjsmyybwRMbR",
        "outputId": "3bcda483-88be-4d43-f4b8-1b8b2512688b"
      },
      "execution_count": null,
      "outputs": [
        {
          "output_type": "stream",
          "name": "stdout",
          "text": [
            "Enter a number: 143\n",
            "You Entered: 143\n",
            "Data type of num <class 'str'>\n"
          ]
        }
      ]
    },
    {
      "cell_type": "code",
      "source": [
        "!pip install wget"
      ],
      "metadata": {
        "colab": {
          "base_uri": "https://localhost:8080/"
        },
        "id": "cd1EZocORkSk",
        "outputId": "40f8b29a-cdc3-4183-86b3-874d3ca3df4f"
      },
      "execution_count": null,
      "outputs": [
        {
          "output_type": "stream",
          "name": "stdout",
          "text": [
            "Collecting wget\n",
            "  Downloading wget-3.2.zip (10 kB)\n",
            "  Preparing metadata (setup.py) ... \u001b[?25l\u001b[?25hdone\n",
            "Building wheels for collected packages: wget\n",
            "  Building wheel for wget (setup.py) ... \u001b[?25l\u001b[?25hdone\n",
            "  Created wheel for wget: filename=wget-3.2-py3-none-any.whl size=9656 sha256=67b119b9e763729515083623f8ff25e578dc6df45ba15f480b19e9ed76a1f126\n",
            "  Stored in directory: /root/.cache/pip/wheels/8b/f1/7f/5c94f0a7a505ca1c81cd1d9208ae2064675d97582078e6c769\n",
            "Successfully built wget\n",
            "Installing collected packages: wget\n",
            "Successfully installed wget-3.2\n"
          ]
        }
      ]
    },
    {
      "cell_type": "code",
      "source": [
        "!mkdir -p /resources/data\n",
        "!wget -O /resources/data/Example1.txt https://s3-api.us-geo.objectstorage.softlayer.net/cf-courses-data/CognitiveClass/PY0101EN/labs/example1.txt"
      ],
      "metadata": {
        "colab": {
          "base_uri": "https://localhost:8080/"
        },
        "id": "DS0rN_slRsRv",
        "outputId": "614b5bf0-5c3c-4fc7-cff9-7727cff123e4"
      },
      "execution_count": null,
      "outputs": [
        {
          "output_type": "stream",
          "name": "stdout",
          "text": [
            "--2024-09-05 22:21:04--  https://s3-api.us-geo.objectstorage.softlayer.net/cf-courses-data/CognitiveClass/PY0101EN/labs/example1.txt\n",
            "Resolving s3-api.us-geo.objectstorage.softlayer.net (s3-api.us-geo.objectstorage.softlayer.net)... 67.228.254.196\n",
            "Connecting to s3-api.us-geo.objectstorage.softlayer.net (s3-api.us-geo.objectstorage.softlayer.net)|67.228.254.196|:443... connected.\n",
            "HTTP request sent, awaiting response... 200 OK\n",
            "Length: 45 [text/plain]\n",
            "Saving to: ‘/resources/data/Example1.txt’\n",
            "\n",
            "/resources/data/Exa 100%[===================>]      45  --.-KB/s    in 0s      \n",
            "\n",
            "2024-09-05 22:21:04 (17.8 MB/s) - ‘/resources/data/Example1.txt’ saved [45/45]\n",
            "\n"
          ]
        }
      ]
    },
    {
      "cell_type": "code",
      "source": [
        "example1 = \"/resources/data/Example1.txt\"\n",
        "file1 = open(example1, \"r\")"
      ],
      "metadata": {
        "id": "Zb0hXLe5Rxq5"
      },
      "execution_count": null,
      "outputs": []
    },
    {
      "cell_type": "code",
      "source": [
        "file1.name"
      ],
      "metadata": {
        "colab": {
          "base_uri": "https://localhost:8080/",
          "height": 36
        },
        "id": "O9LIF4OUR_V1",
        "outputId": "9dc47a32-0c38-40cd-f28c-ac9c1552a113"
      },
      "execution_count": null,
      "outputs": [
        {
          "output_type": "execute_result",
          "data": {
            "text/plain": [
              "'/resources/data/Example1.txt'"
            ],
            "application/vnd.google.colaboratory.intrinsic+json": {
              "type": "string"
            }
          },
          "metadata": {},
          "execution_count": 16
        }
      ]
    },
    {
      "cell_type": "code",
      "source": [
        "file1.mode"
      ],
      "metadata": {
        "colab": {
          "base_uri": "https://localhost:8080/",
          "height": 36
        },
        "id": "6RIMPZAhSS9r",
        "outputId": "1d6ae864-2dab-475d-9eaf-f547a8a1a6cf"
      },
      "execution_count": null,
      "outputs": [
        {
          "output_type": "execute_result",
          "data": {
            "text/plain": [
              "'r'"
            ],
            "application/vnd.google.colaboratory.intrinsic+json": {
              "type": "string"
            }
          },
          "metadata": {},
          "execution_count": 17
        }
      ]
    },
    {
      "cell_type": "code",
      "source": [
        "FileContent = file1.read()\n",
        "FileContent"
      ],
      "metadata": {
        "colab": {
          "base_uri": "https://localhost:8080/",
          "height": 36
        },
        "id": "BaOLmXa-SkCj",
        "outputId": "8a4a3389-7fe2-49d6-f26f-1c7a237ad3c1"
      },
      "execution_count": null,
      "outputs": [
        {
          "output_type": "execute_result",
          "data": {
            "text/plain": [
              "'This is line 1 \\nThis is line 2\\nThis is line 3'"
            ],
            "application/vnd.google.colaboratory.intrinsic+json": {
              "type": "string"
            }
          },
          "metadata": {},
          "execution_count": 18
        }
      ]
    },
    {
      "cell_type": "code",
      "source": [
        "print(FileContent)"
      ],
      "metadata": {
        "colab": {
          "base_uri": "https://localhost:8080/"
        },
        "id": "uxo5CUOrS34f",
        "outputId": "a7c5da72-41b0-40ad-838d-2b2555929587"
      },
      "execution_count": null,
      "outputs": [
        {
          "output_type": "stream",
          "name": "stdout",
          "text": [
            "This is line 1 \n",
            "This is line 2\n",
            "This is line 3\n"
          ]
        }
      ]
    },
    {
      "cell_type": "code",
      "source": [
        "type(FileContent)"
      ],
      "metadata": {
        "colab": {
          "base_uri": "https://localhost:8080/"
        },
        "id": "6AdrBva6UgUk",
        "outputId": "f6e5855f-3fae-4ca0-e4a0-6c4ffb2fdb84"
      },
      "execution_count": null,
      "outputs": [
        {
          "output_type": "execute_result",
          "data": {
            "text/plain": [
              "str"
            ]
          },
          "metadata": {},
          "execution_count": 20
        }
      ]
    },
    {
      "cell_type": "code",
      "source": [
        "file1.close()"
      ],
      "metadata": {
        "id": "17MitLC8Ukl9"
      },
      "execution_count": null,
      "outputs": []
    },
    {
      "cell_type": "code",
      "source": [
        "with open(example1, \"r\") as file1:\n",
        "  FileContent = file1.read()\n",
        "  print(FileContent)"
      ],
      "metadata": {
        "colab": {
          "base_uri": "https://localhost:8080/"
        },
        "id": "XjykgEWDZVhP",
        "outputId": "f9f5085e-5fbf-43fe-8892-274fded01748"
      },
      "execution_count": null,
      "outputs": [
        {
          "output_type": "stream",
          "name": "stdout",
          "text": [
            "This is line 1 \n",
            "This is line 2\n",
            "This is line 3\n"
          ]
        }
      ]
    },
    {
      "cell_type": "code",
      "source": [
        "file1.closed"
      ],
      "metadata": {
        "colab": {
          "base_uri": "https://localhost:8080/"
        },
        "id": "vV0l9NUgZq8m",
        "outputId": "41383119-c7a0-497f-ef64-c9f34ebf5b93"
      },
      "execution_count": null,
      "outputs": [
        {
          "output_type": "execute_result",
          "data": {
            "text/plain": [
              "True"
            ]
          },
          "metadata": {},
          "execution_count": 24
        }
      ]
    },
    {
      "cell_type": "code",
      "source": [
        "print(FileContent)"
      ],
      "metadata": {
        "colab": {
          "base_uri": "https://localhost:8080/"
        },
        "id": "MtJ2WEMMZxcF",
        "outputId": "fd03baf2-3454-4dfc-914f-fb073ac6abe9"
      },
      "execution_count": null,
      "outputs": [
        {
          "output_type": "stream",
          "name": "stdout",
          "text": [
            "This is line 1 \n",
            "This is line 2\n",
            "This is line 3\n"
          ]
        }
      ]
    },
    {
      "cell_type": "code",
      "source": [
        "with open(example1, \"r\") as file1:\n",
        "  print(file1.read(4))\n",
        "  print(file1.read(4))\n",
        "  print(file1.read(7))\n",
        "  print(file1.read(15))"
      ],
      "metadata": {
        "colab": {
          "base_uri": "https://localhost:8080/"
        },
        "id": "55x64nA8Z682",
        "outputId": "02ea9f19-fa27-4722-eb35-469427e7bad0"
      },
      "execution_count": null,
      "outputs": [
        {
          "output_type": "stream",
          "name": "stdout",
          "text": [
            "This\n",
            " is \n",
            "line 1 \n",
            "\n",
            "This is line 2\n"
          ]
        }
      ]
    },
    {
      "cell_type": "code",
      "source": [
        "with open(example1, \"r\") as file1:\n",
        "    print(file1.read(16))\n",
        "    print(file1.read(5))\n",
        "    print(file1.read(9))"
      ],
      "metadata": {
        "colab": {
          "base_uri": "https://localhost:8080/"
        },
        "id": "1J5I5FgxahX0",
        "outputId": "6ca18ecb-2ab7-42d2-a771-61cb9b8e734e"
      },
      "execution_count": null,
      "outputs": [
        {
          "output_type": "stream",
          "name": "stdout",
          "text": [
            "This is line 1 \n",
            "\n",
            "This \n",
            "is line 2\n"
          ]
        }
      ]
    },
    {
      "cell_type": "code",
      "source": [
        "with open(example1, \"r\") as file1:\n",
        "    print(\"first line: \" + file1.readline())"
      ],
      "metadata": {
        "colab": {
          "base_uri": "https://localhost:8080/"
        },
        "id": "XhiK89m9ai9S",
        "outputId": "0e19c492-fb0a-416f-9432-b4c6bbec5887"
      },
      "execution_count": null,
      "outputs": [
        {
          "output_type": "stream",
          "name": "stdout",
          "text": [
            "first line: This is line 1 \n",
            "\n"
          ]
        }
      ]
    },
    {
      "cell_type": "code",
      "source": [
        "with open(example1, \"r\") as file1:\n",
        "  i = 0;\n",
        "  for line in file1:\n",
        "    print(\"Iteration\", str(i), \": \", line)\n",
        "    i = i + 1;"
      ],
      "metadata": {
        "colab": {
          "base_uri": "https://localhost:8080/"
        },
        "id": "9SdxurgEavZ4",
        "outputId": "1962372b-7f6f-46f9-f6e0-714849486c6d"
      },
      "execution_count": null,
      "outputs": [
        {
          "output_type": "stream",
          "name": "stdout",
          "text": [
            "Iteration 0 :  This is line 1 \n",
            "\n",
            "Iteration 1 :  This is line 2\n",
            "\n",
            "Iteration 2 :  This is line 3\n"
          ]
        }
      ]
    },
    {
      "cell_type": "code",
      "source": [
        "with open(example1, \"r\") as file1:\n",
        "    FileasList = file1.readlines()"
      ],
      "metadata": {
        "id": "OVBOktrZbNzR"
      },
      "execution_count": null,
      "outputs": []
    },
    {
      "cell_type": "code",
      "source": [
        "FileasList[0]"
      ],
      "metadata": {
        "colab": {
          "base_uri": "https://localhost:8080/",
          "height": 36
        },
        "id": "1Eak9IddbSp-",
        "outputId": "4e51ad12-d5dd-4a6e-d6af-c45bf164df04"
      },
      "execution_count": null,
      "outputs": [
        {
          "output_type": "execute_result",
          "data": {
            "text/plain": [
              "'This is line 1 \\n'"
            ],
            "application/vnd.google.colaboratory.intrinsic+json": {
              "type": "string"
            }
          },
          "metadata": {},
          "execution_count": 31
        }
      ]
    },
    {
      "cell_type": "code",
      "source": [
        "FileasList[1]"
      ],
      "metadata": {
        "colab": {
          "base_uri": "https://localhost:8080/",
          "height": 36
        },
        "id": "GWdSAM72bWGe",
        "outputId": "bba3352a-60dc-401e-9b7f-7ed90784248e"
      },
      "execution_count": null,
      "outputs": [
        {
          "output_type": "execute_result",
          "data": {
            "text/plain": [
              "'This is line 2\\n'"
            ],
            "application/vnd.google.colaboratory.intrinsic+json": {
              "type": "string"
            }
          },
          "metadata": {},
          "execution_count": 32
        }
      ]
    },
    {
      "cell_type": "code",
      "source": [
        "FileasList[2]"
      ],
      "metadata": {
        "colab": {
          "base_uri": "https://localhost:8080/",
          "height": 36
        },
        "id": "ZzJWXR92bXxL",
        "outputId": "9a7cd516-c21e-4acd-e1c1-ab45cf165b76"
      },
      "execution_count": null,
      "outputs": [
        {
          "output_type": "execute_result",
          "data": {
            "text/plain": [
              "'This is line 3'"
            ],
            "application/vnd.google.colaboratory.intrinsic+json": {
              "type": "string"
            }
          },
          "metadata": {},
          "execution_count": 34
        }
      ]
    },
    {
      "cell_type": "code",
      "source": [
        "!mkdir -p /resources/data"
      ],
      "metadata": {
        "id": "NMNvKyoYbe-n"
      },
      "execution_count": null,
      "outputs": []
    },
    {
      "cell_type": "code",
      "source": [
        "with open('/resources/data/Contoh2.txt', 'w') as writefile:\n",
        "    writefile.write(\"This is line A\")"
      ],
      "metadata": {
        "id": "FxoQ7PSybh5A"
      },
      "execution_count": null,
      "outputs": []
    },
    {
      "cell_type": "code",
      "source": [
        "with open('/resources/data/Contoh2.txt', 'r') as testwritefile:\n",
        "    print(testwritefile.read())"
      ],
      "metadata": {
        "colab": {
          "base_uri": "https://localhost:8080/"
        },
        "id": "4vr16PjubtXE",
        "outputId": "e4ba0187-1e22-4716-99f3-eb1bb9ce709e"
      },
      "execution_count": null,
      "outputs": [
        {
          "output_type": "stream",
          "name": "stdout",
          "text": [
            "This is line A\n"
          ]
        }
      ]
    },
    {
      "cell_type": "code",
      "source": [
        "with open('/resources/data/Contoh2.txt', 'w') as writefile:\n",
        "    writefile.write(\"This is line A\\n\")\n",
        "    writefile.write(\"This is line B\\n\")"
      ],
      "metadata": {
        "id": "X2gmS0RQbwyl"
      },
      "execution_count": null,
      "outputs": []
    },
    {
      "cell_type": "code",
      "source": [
        "with open('/resources/data/Contoh2.txt', 'r') as testwritefile:\n",
        "    print(testwritefile.read())"
      ],
      "metadata": {
        "colab": {
          "base_uri": "https://localhost:8080/"
        },
        "id": "x304BMSQcGOz",
        "outputId": "29f65dff-a7f5-463b-8819-594388702fb4"
      },
      "execution_count": null,
      "outputs": [
        {
          "output_type": "stream",
          "name": "stdout",
          "text": [
            "This is line A\n",
            "This is line B\n",
            "\n"
          ]
        }
      ]
    },
    {
      "cell_type": "code",
      "source": [
        "with open('/resources/data/Contoh2.txt', 'a') as testwritefile:\n",
        "  testwritefile.write(\"This is line C/n\")"
      ],
      "metadata": {
        "id": "o_r2SPELcRf-"
      },
      "execution_count": null,
      "outputs": []
    },
    {
      "cell_type": "code",
      "source": [
        "with open('/resources/data/Contoh2.txt', 'r') as testwritefile:\n",
        "    print(testwritefile.read())"
      ],
      "metadata": {
        "colab": {
          "base_uri": "https://localhost:8080/"
        },
        "id": "uZVgs0feckTd",
        "outputId": "29ebb4db-b2aa-419e-bc8e-8555bebabfb3"
      },
      "execution_count": null,
      "outputs": [
        {
          "output_type": "stream",
          "name": "stdout",
          "text": [
            "This is line A\n",
            "This is line B\n",
            "This is line C\n",
            "\n"
          ]
        }
      ]
    },
    {
      "cell_type": "code",
      "source": [
        "with open('/resources/data/Contoh2.txt', 'w') as writefile:\n",
        "    writefile.write(\"This is line A\\n\")\n",
        "    writefile.write(\"This is line B\\n\")\n",
        "    writefile.write(\"This is line C\\n\")"
      ],
      "metadata": {
        "id": "6Ye7IWsqcvoF"
      },
      "execution_count": null,
      "outputs": []
    },
    {
      "cell_type": "code",
      "source": [
        "with open('/resources/data/Contoh2.txt', 'r') as testwritefile:\n",
        "    print(testwritefile.read())"
      ],
      "metadata": {
        "colab": {
          "base_uri": "https://localhost:8080/"
        },
        "id": "3-poRK3Gc3_l",
        "outputId": "6054497a-eb0b-4ec1-f5b1-7e4c10880f50"
      },
      "execution_count": null,
      "outputs": [
        {
          "output_type": "stream",
          "name": "stdout",
          "text": [
            "This is line A\n",
            "This is line B\n",
            "This is line C\n",
            "\n"
          ]
        }
      ]
    },
    {
      "cell_type": "code",
      "source": [
        "Lines = [\"This is line A\\n\", \"This is line B\\n\", \"This is line C\\n\"]\n",
        "Lines"
      ],
      "metadata": {
        "colab": {
          "base_uri": "https://localhost:8080/"
        },
        "id": "dE_hbRnHc6U4",
        "outputId": "8420a984-50f9-4044-c24b-f2e13fa652dc"
      },
      "execution_count": null,
      "outputs": [
        {
          "output_type": "execute_result",
          "data": {
            "text/plain": [
              "['This is line A\\n', 'This is line B\\n', 'This is line C\\n']"
            ]
          },
          "metadata": {},
          "execution_count": 47
        }
      ]
    },
    {
      "cell_type": "code",
      "source": [
        "with open('Contoh2.txt', 'w') as writefile:\n",
        "    for line in Lines:\n",
        "        print(line)\n",
        "        writefile.write(line)"
      ],
      "metadata": {
        "colab": {
          "base_uri": "https://localhost:8080/"
        },
        "id": "FmT9uGECc9Fk",
        "outputId": "6feff60d-faf1-4800-fb6a-5ee87d9cddf6"
      },
      "execution_count": null,
      "outputs": [
        {
          "output_type": "stream",
          "name": "stdout",
          "text": [
            "This is line A\n",
            "\n",
            "This is line B\n",
            "\n",
            "This is line C\n",
            "\n"
          ]
        }
      ]
    },
    {
      "cell_type": "code",
      "source": [
        "with open('Contoh2.txt', 'r') as testwritefile:\n",
        "    print(testwritefile.read())"
      ],
      "metadata": {
        "colab": {
          "base_uri": "https://localhost:8080/"
        },
        "id": "BCVt_SPRdJ8I",
        "outputId": "1cb33b07-f77a-41ca-ab90-6b7641788402"
      },
      "execution_count": null,
      "outputs": [
        {
          "output_type": "stream",
          "name": "stdout",
          "text": [
            "This is line A\n",
            "This is line B\n",
            "This is line C\n",
            "\n"
          ]
        }
      ]
    },
    {
      "cell_type": "code",
      "source": [
        "with open('Contoh2.txt', 'a') as testwritefile:\n",
        "    testwritefile.write(\"This is line D\\n\")"
      ],
      "metadata": {
        "id": "uocd6LtSdb1e"
      },
      "execution_count": null,
      "outputs": []
    },
    {
      "cell_type": "code",
      "source": [
        "with open('Contoh2.txt', 'r') as testwritefile:\n",
        "    print(testwritefile.read())"
      ],
      "metadata": {
        "colab": {
          "base_uri": "https://localhost:8080/"
        },
        "id": "ggKKZPwOdl5u",
        "outputId": "78050ce9-36ff-4a72-8e2d-f588fb3ff8c7"
      },
      "execution_count": null,
      "outputs": [
        {
          "output_type": "stream",
          "name": "stdout",
          "text": [
            "This is line A\n",
            "This is line B\n",
            "This is line C\n",
            "This is line D\n",
            "\n"
          ]
        }
      ]
    },
    {
      "cell_type": "code",
      "source": [
        "with open('Contoh2.txt', 'r') as readfile:\n",
        "    with open('Contoh3.txt','w') as writefile:\n",
        "          for line in readfile:\n",
        "                writefile.write(line)"
      ],
      "metadata": {
        "id": "5cQycdRedtgR"
      },
      "execution_count": null,
      "outputs": []
    },
    {
      "cell_type": "code",
      "source": [
        "with open('Contoh3.txt', 'r') as testwritefile:\n",
        "    print(testwritefile.read())"
      ],
      "metadata": {
        "colab": {
          "base_uri": "https://localhost:8080/"
        },
        "id": "4Ab0RS0zeVDv",
        "outputId": "3655edcf-70c0-470a-9c62-26a9b9750ddd"
      },
      "execution_count": null,
      "outputs": [
        {
          "output_type": "stream",
          "name": "stdout",
          "text": [
            "\n"
          ]
        }
      ]
    },
    {
      "cell_type": "code",
      "source": [
        "!mkdir -p /resources/data"
      ],
      "metadata": {
        "id": "1c5CU7Yhqr0_"
      },
      "execution_count": null,
      "outputs": []
    },
    {
      "cell_type": "code",
      "source": [
        "with open('/resources/data/Biodata.txt', 'w') as writefile:\n",
        "    writefile.write(\"Nama : Muhammad Asyrof\\n\")\n",
        "    writefile.write(\"Program Studi : S1 Teknologi Informasi\\n\")\n",
        "    writefile.write(\"NPM : 2420506047\\n\")\n",
        "    writefile.write(\"Alamat : Jl Beringin 1, Tidar Utara, Magelang Selatan\\n\")\n",
        "    writefile.write(\"Hobi : Bermain Game, Desain UI/UX, Front End Developing\\n\")\n",
        "    writefile.write(\"Email : asyrofmuhammad14@gmail.com\\n\")"
      ],
      "metadata": {
        "id": "cBUvSaSpq5Sw"
      },
      "execution_count": null,
      "outputs": []
    },
    {
      "cell_type": "code",
      "source": [
        "with open('/resources/data/Biodata.txt', 'r') as testwritefile:\n",
        "    print(testwritefile.read())"
      ],
      "metadata": {
        "colab": {
          "base_uri": "https://localhost:8080/"
        },
        "id": "vixYA8dKsqJd",
        "outputId": "c56faf32-8019-46df-f402-e3a0c8747780"
      },
      "execution_count": null,
      "outputs": [
        {
          "output_type": "stream",
          "name": "stdout",
          "text": [
            "Nama : Muhammad Asyrof\n",
            "Program Studi : S1 Teknologi Informasi\n",
            "NPM : 2420506047\n",
            "Alamat : Jl Beringin 1, Tidar Utara, Magelang Selatan\n",
            "Hobi : Bermain Game, Desain UI/UX, Front End Developing\n",
            "Email : asyrofmuhammad14@gmail.com\n",
            "\n"
          ]
        }
      ]
    },
    {
      "cell_type": "code",
      "source": [
        "with open('/resources/data/Biodata.txt', 'r') as testwritefile:\n",
        "    for line in testwritefile:\n",
        "        if \"Nama\" in line or \"Program Studi\" in line or \"Email\" in line:\n",
        "            print(line.strip())\n"
      ],
      "metadata": {
        "colab": {
          "base_uri": "https://localhost:8080/"
        },
        "id": "3XWzAXUFuWhd",
        "outputId": "6fd8c861-4ba1-4ac4-a4ac-7690f0f53753"
      },
      "execution_count": null,
      "outputs": [
        {
          "output_type": "stream",
          "name": "stdout",
          "text": [
            "Nama : Muhammad Asyrof\n",
            "Program Studi : S1 Teknologi Informasi\n",
            "Email : asyrofmuhammad14@gmail.com\n"
          ]
        }
      ]
    },
    {
      "cell_type": "code",
      "source": [
        "with open('/resources/data/Biodata.txt', 'r') as readfile:\n",
        "  with open('/resources/data/BIODATA-BARU.txt','w') as writefile:\n",
        "     for line in readfile:\n",
        "                writefile.write(line)"
      ],
      "metadata": {
        "id": "W7T-2gMTvJsR"
      },
      "execution_count": null,
      "outputs": []
    },
    {
      "cell_type": "code",
      "source": [
        "with open('/resources/data/BIODATA-BARU.txt', 'r') as testwritefile:\n",
        "    for line in testwritefile:\n",
        "        if \"Nama\" in line or \"NPM\" in line or \"Program Studi\" in line or \"Alamat\" in line:\n",
        "            print(line.strip())"
      ],
      "metadata": {
        "colab": {
          "base_uri": "https://localhost:8080/"
        },
        "id": "rXaesyrAxrNX",
        "outputId": "f4682177-ea46-470c-a611-984ef9a4522d"
      },
      "execution_count": null,
      "outputs": [
        {
          "output_type": "stream",
          "name": "stdout",
          "text": [
            "Nama : Muhammad Asyrof\n",
            "Program Studi : S1 Teknologi Informasi\n",
            "NPM : 2420506047\n",
            "Alamat : Jl Beringin 1, Tidar Utara, Magelang Selatan\n"
          ]
        }
      ]
    },
    {
      "cell_type": "code",
      "source": [
        "print (\"Selamat datang di Toko Maju Jaya\")\n",
        "print (\"Senin, 4 September 2023       13.05\")\n",
        "print(\" \")\n",
        "\n",
        "print (\"DAFTAR BELANJA:\")\n",
        "item1 = 'Sabun'\n",
        "item2 = 'Shampo'\n",
        "item3 = 'Mie instant'\n",
        "item4 = 'Detergen'\n",
        "harga1 = 10000\n",
        "harga2 = 15000\n",
        "harga3 = 5000\n",
        "harga4 = 17500\n",
        "\n",
        "total = harga1 + harga2 + harga3 + harga4\n",
        "\n",
        "print(item1, '        = Rp ' + str(harga1))\n",
        "print(item2, '        = Rp ' + str(harga2))\n",
        "print(item3, '        = Rp ' + str(harga3))\n",
        "print(item4, '        = Rp ' + str(harga4))\n",
        "\n",
        "print(\" \")\n",
        "print(\"Total = Rp \" + str(total))\n",
        "\n",
        "with open('Kuitansi.txt', 'w') as writefile:\n",
        "        writefile.write(\"Selamat Datang di Toko Maju Jaya\\n\")\n",
        "        writefile.write(\" \\n\")\n",
        "        writefile.write(\"Kuitansi - 4 Septermber 2023\\n\")\n",
        "        writefile.write(\" \\n\")\n",
        "        writefile.write(item1 + \" = Rp \" + str(harga1) + \"\\n\")\n",
        "        writefile.write(item2 + \" = Rp \" + str(harga2) + \"\\n\")\n",
        "        writefile.write(item3 + \" = Rp \" + str(harga3) + \"\\n\")\n",
        "        writefile.write(item4 + \" = Rp \" + str(harga4) + \"\\n\")\n",
        "        writefile.write(\" \\n\")\n",
        "        writefile.write(\"Total Belanja =\" + str(total))"
      ],
      "metadata": {
        "colab": {
          "base_uri": "https://localhost:8080/"
        },
        "id": "21PY1RTsyPht",
        "outputId": "2d9be6f9-5f22-4bcf-b1ce-237e857b2c67"
      },
      "execution_count": null,
      "outputs": [
        {
          "output_type": "stream",
          "name": "stdout",
          "text": [
            "Selamat datang di Toko Maju Jaya\n",
            "Senin, 4 September 2023       13.05\n",
            " \n",
            "DAFTAR BELANJA:\n",
            "Sabun         = Rp 10000\n",
            "Shampo         = Rp 15000\n",
            "Mie instant         = Rp 5000\n",
            "Detergen         = Rp 17500\n",
            " \n",
            "Total = Rp 47500\n"
          ]
        }
      ]
    }
  ]
}