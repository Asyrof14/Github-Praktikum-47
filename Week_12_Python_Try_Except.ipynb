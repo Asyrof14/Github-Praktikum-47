{
  "nbformat": 4,
  "nbformat_minor": 0,
  "metadata": {
    "colab": {
      "provenance": []
    },
    "kernelspec": {
      "name": "python3",
      "display_name": "Python 3"
    },
    "language_info": {
      "name": "python"
    }
  },
  "cells": [
    {
      "cell_type": "code",
      "execution_count": null,
      "metadata": {
        "id": "iuDiZ2tjKlAJ"
      },
      "outputs": [],
      "source": [
        "print(x)"
      ]
    },
    {
      "cell_type": "code",
      "source": [
        "try:\n",
        "  print(x)\n",
        "except:\n",
        "  print(\"Variable 'X' is not defined\")"
      ],
      "metadata": {
        "id": "3YWNUskvKtvF"
      },
      "execution_count": null,
      "outputs": []
    },
    {
      "cell_type": "code",
      "source": [
        "print(x)"
      ],
      "metadata": {
        "id": "f_ikMAKzKt8w"
      },
      "execution_count": null,
      "outputs": []
    },
    {
      "cell_type": "code",
      "source": [
        "V = \"UNTIDAR\"\n",
        "Z = V / 2\n",
        "Z"
      ],
      "metadata": {
        "id": "U1mcVeGgKuAT"
      },
      "execution_count": null,
      "outputs": []
    },
    {
      "cell_type": "code",
      "source": [
        "try:\n",
        "  print(x)\n",
        "except NameError:\n",
        "  print(\"Variable x is not defined\")\n",
        "except:\n",
        "  print(\"Something else went wrong\")"
      ],
      "metadata": {
        "id": "PpdSl9imKuC-"
      },
      "execution_count": null,
      "outputs": []
    },
    {
      "cell_type": "code",
      "source": [
        "try:\n",
        "  print(\"Hello\")\n",
        "except:\n",
        "  print(\"Something went wrong\")\n",
        "else:\n",
        "  print(\"Nothing went wrong\")"
      ],
      "metadata": {
        "id": "0chHKaQhKuEz"
      },
      "execution_count": null,
      "outputs": []
    },
    {
      "cell_type": "code",
      "source": [
        "try:\n",
        "  print(\"Hello\")\n",
        "except:\n",
        "  print(\"Something went wrong\")\n",
        "else:\n",
        "  print(\"Nothing went wrong\")\n",
        "finally:\n",
        "  print(\"Execution Completed\")"
      ],
      "metadata": {
        "id": "JTLN0BW6KuKu"
      },
      "execution_count": null,
      "outputs": []
    },
    {
      "cell_type": "code",
      "source": [
        "try:\n",
        "  print(x)\n",
        "except:\n",
        "  print(\"Something went wrong\")\n",
        "finally:\n",
        "  print(\"The 'try except' is finished\")"
      ],
      "metadata": {
        "id": "lNsdAhiZKuNk"
      },
      "execution_count": null,
      "outputs": []
    },
    {
      "cell_type": "code",
      "source": [
        "try:\n",
        "  f = open(\"demofile.txt\")\n",
        "  try:\n",
        "    f.write(\"Lorum Ipsum\")\n",
        "  except:\n",
        "    print(\"Something went wrong when writing to the file\")\n",
        "  finally:\n",
        "    f.close()\n",
        "except:\n",
        "  print(\"Something went wrong when opening the file\")"
      ],
      "metadata": {
        "id": "UaKRxFt8KuP_"
      },
      "execution_count": null,
      "outputs": []
    },
    {
      "cell_type": "code",
      "source": [
        "x = -1\n",
        "\n",
        "if x < 0:\n",
        "  raise Exception(\"Sorry bro\")"
      ],
      "metadata": {
        "id": "0Q4XWOWGK5X0"
      },
      "execution_count": null,
      "outputs": []
    },
    {
      "cell_type": "code",
      "source": [
        "x = \"hello\"\n",
        "\n",
        "if not type(x) is int:\n",
        "  raise TypeError(\"Only integers are allowed\")"
      ],
      "metadata": {
        "colab": {
          "base_uri": "https://localhost:8080/",
          "height": 183
        },
        "id": "WtMHw-HjK5ag",
        "outputId": "71f873d8-f318-4da6-9683-76f7ce4d0587"
      },
      "execution_count": null,
      "outputs": [
        {
          "output_type": "error",
          "ename": "TypeError",
          "evalue": "Only integers are allowed",
          "traceback": [
            "\u001b[0;31m---------------------------------------------------------------------------\u001b[0m",
            "\u001b[0;31mTypeError\u001b[0m                                 Traceback (most recent call last)",
            "\u001b[0;32m<ipython-input-1-bc91768a6271>\u001b[0m in \u001b[0;36m<cell line: 3>\u001b[0;34m()\u001b[0m\n\u001b[1;32m      2\u001b[0m \u001b[0;34m\u001b[0m\u001b[0m\n\u001b[1;32m      3\u001b[0m \u001b[0;32mif\u001b[0m \u001b[0;32mnot\u001b[0m \u001b[0mtype\u001b[0m\u001b[0;34m(\u001b[0m\u001b[0mx\u001b[0m\u001b[0;34m)\u001b[0m \u001b[0;32mis\u001b[0m \u001b[0mint\u001b[0m\u001b[0;34m:\u001b[0m\u001b[0;34m\u001b[0m\u001b[0;34m\u001b[0m\u001b[0m\n\u001b[0;32m----> 4\u001b[0;31m   \u001b[0;32mraise\u001b[0m \u001b[0mTypeError\u001b[0m\u001b[0;34m(\u001b[0m\u001b[0;34m\"Only integers are allowed\"\u001b[0m\u001b[0;34m)\u001b[0m\u001b[0;34m\u001b[0m\u001b[0;34m\u001b[0m\u001b[0m\n\u001b[0m",
            "\u001b[0;31mTypeError\u001b[0m: Only integers are allowed"
          ]
        }
      ]
    },
    {
      "cell_type": "code",
      "source": [
        "%%writefile matematika.py\n",
        "\n",
        "PI = 3.14\n",
        "\n",
        "def luas_lingkaran(jari_jari):\n",
        "    return PI * jari_jari * jari_jari\n",
        "\n",
        "def luas_persegi(sisi):\n",
        "    return sisi * sisi\n",
        "\n",
        "def luas_persegi_panjang(panjang, lebar):\n",
        "    return panjang * lebar"
      ],
      "metadata": {
        "colab": {
          "base_uri": "https://localhost:8080/"
        },
        "id": "lk9eFTt2K5d6",
        "outputId": "d8053769-1071-470e-a319-6d84f5bea5e1"
      },
      "execution_count": 2,
      "outputs": [
        {
          "output_type": "stream",
          "name": "stdout",
          "text": [
            "Writing matematika.py\n"
          ]
        }
      ]
    },
    {
      "cell_type": "code",
      "source": [
        "import matematika\n",
        "\n",
        "def input_float(luas):\n",
        "    while True:\n",
        "        try:\n",
        "            value = input(luas)\n",
        "            if value.strip() == \"\":\n",
        "                raise ValueError(\"tidak boleh kosong\")\n",
        "            return float(value)\n",
        "        except ValueError as e:\n",
        "            if \"could not convert string to float\" in str(e):\n",
        "                print(\"Hanya boleh memasukkan angka\")\n",
        "            else:\n",
        "                print(e)\n",
        "\n",
        "jari_jari = input_float(\"Masukkan jari-jari lingkaran: \")\n",
        "lingkaran = matematika.luas_lingkaran(jari_jari)\n",
        "print(f\"Luas lingkaran dengan jari-jari {jari_jari} adalah: {lingkaran}\")\n",
        "\n",
        "\n",
        "sisi = input_float(\"Masukkan panjang sisi persegi: \")\n",
        "persegi = matematika.luas_persegi(sisi)\n",
        "print(f\"Luas persegi dengan sisi {sisi} adalah: {persegi}\")\n",
        "\n",
        "panjang = input_float(\"Masukkan panjang persegi panjang: \")\n",
        "lebar = input_float(\"Masukkan lebar persegi panjang: \")\n",
        "persegi_panjang = matematika.luas_persegi_panjang(panjang, lebar)\n",
        "print(f\"Luas persegi panjang dengan panjang {panjang} dan lebar {lebar} adalah: {persegi_panjang}\")\n",
        "\n"
      ],
      "metadata": {
        "colab": {
          "base_uri": "https://localhost:8080/",
          "height": 402
        },
        "id": "-HgaqXDzLdZe",
        "outputId": "97d18755-9e12-4cf7-d50d-93ac37280e8f"
      },
      "execution_count": 15,
      "outputs": [
        {
          "name": "stdout",
          "output_type": "stream",
          "text": [
            "Masukkan jari-jari lingkaran: \n",
            "tidak boleh kosong\n",
            "Masukkan jari-jari lingkaran: 2\n"
          ]
        },
        {
          "output_type": "error",
          "ename": "UnboundLocalError",
          "evalue": "local variable 'e' referenced before assignment",
          "traceback": [
            "\u001b[0;31m---------------------------------------------------------------------------\u001b[0m",
            "\u001b[0;31mUnboundLocalError\u001b[0m                         Traceback (most recent call last)",
            "\u001b[0;32m<ipython-input-15-41910fe35ae1>\u001b[0m in \u001b[0;36m<cell line: 15>\u001b[0;34m()\u001b[0m\n\u001b[1;32m     13\u001b[0m             \u001b[0mprint\u001b[0m\u001b[0;34m(\u001b[0m\u001b[0me\u001b[0m\u001b[0;34m)\u001b[0m\u001b[0;34m\u001b[0m\u001b[0;34m\u001b[0m\u001b[0m\n\u001b[1;32m     14\u001b[0m \u001b[0;34m\u001b[0m\u001b[0m\n\u001b[0;32m---> 15\u001b[0;31m \u001b[0mjari_jari\u001b[0m \u001b[0;34m=\u001b[0m \u001b[0minput_float\u001b[0m\u001b[0;34m(\u001b[0m\u001b[0;34m\"Masukkan jari-jari lingkaran: \"\u001b[0m\u001b[0;34m)\u001b[0m\u001b[0;34m\u001b[0m\u001b[0;34m\u001b[0m\u001b[0m\n\u001b[0m\u001b[1;32m     16\u001b[0m \u001b[0mlingkaran\u001b[0m \u001b[0;34m=\u001b[0m \u001b[0mmatematika\u001b[0m\u001b[0;34m.\u001b[0m\u001b[0mluas_lingkaran\u001b[0m\u001b[0;34m(\u001b[0m\u001b[0mjari_jari\u001b[0m\u001b[0;34m)\u001b[0m\u001b[0;34m\u001b[0m\u001b[0;34m\u001b[0m\u001b[0m\n\u001b[1;32m     17\u001b[0m \u001b[0mprint\u001b[0m\u001b[0;34m(\u001b[0m\u001b[0;34mf\"Luas lingkaran dengan jari-jari {jari_jari} adalah: {lingkaran}\"\u001b[0m\u001b[0;34m)\u001b[0m\u001b[0;34m\u001b[0m\u001b[0;34m\u001b[0m\u001b[0m\n",
            "\u001b[0;32m<ipython-input-15-41910fe35ae1>\u001b[0m in \u001b[0;36minput_float\u001b[0;34m(luas)\u001b[0m\n\u001b[1;32m      7\u001b[0m             \u001b[0;32mif\u001b[0m \u001b[0mvalue\u001b[0m\u001b[0;34m.\u001b[0m\u001b[0mstrip\u001b[0m\u001b[0;34m(\u001b[0m\u001b[0;34m)\u001b[0m \u001b[0;34m==\u001b[0m \u001b[0;34m\"\"\u001b[0m\u001b[0;34m:\u001b[0m\u001b[0;34m\u001b[0m\u001b[0;34m\u001b[0m\u001b[0m\n\u001b[1;32m      8\u001b[0m                 \u001b[0;32mraise\u001b[0m \u001b[0mValueError\u001b[0m\u001b[0;34m(\u001b[0m\u001b[0;34m\"tidak boleh kosong\"\u001b[0m\u001b[0;34m)\u001b[0m\u001b[0;34m\u001b[0m\u001b[0;34m\u001b[0m\u001b[0m\n\u001b[0;32m----> 9\u001b[0;31m             \u001b[0;32mif\u001b[0m \u001b[0;34m\"could not convert string to float\"\u001b[0m \u001b[0;32min\u001b[0m \u001b[0mstr\u001b[0m\u001b[0;34m(\u001b[0m\u001b[0me\u001b[0m\u001b[0;34m)\u001b[0m\u001b[0;34m:\u001b[0m\u001b[0;34m\u001b[0m\u001b[0;34m\u001b[0m\u001b[0m\n\u001b[0m\u001b[1;32m     10\u001b[0m                 \u001b[0mprint\u001b[0m\u001b[0;34m(\u001b[0m\u001b[0;34m\"Hanya boleh memasukkan angka\"\u001b[0m\u001b[0;34m)\u001b[0m\u001b[0;34m\u001b[0m\u001b[0;34m\u001b[0m\u001b[0m\n\u001b[1;32m     11\u001b[0m             \u001b[0;32mreturn\u001b[0m \u001b[0mfloat\u001b[0m\u001b[0;34m(\u001b[0m\u001b[0mvalue\u001b[0m\u001b[0;34m)\u001b[0m\u001b[0;34m\u001b[0m\u001b[0;34m\u001b[0m\u001b[0m\n",
            "\u001b[0;31mUnboundLocalError\u001b[0m: local variable 'e' referenced before assignment"
          ]
        }
      ]
    },
    {
      "cell_type": "code",
      "source": [
        "while True:\n",
        "    try:\n",
        "        npm = input(\"Masukkan NPM Anda: \").strip()\n",
        "\n",
        "        if not npm:\n",
        "            raise ValueError(\"NPM tidak boleh kosong\")\n",
        "        if not npm.isdigit():\n",
        "            raise ValueError(\"NPM hanya boleh terdiri dari angka\")\n",
        "        break\n",
        "\n",
        "    except ValueError as e:\n",
        "        print(e)\n",
        "\n",
        "genap = 0\n",
        "ganjil = 0\n",
        "\n",
        "for i in npm:\n",
        "    if int(i) % 2 == 0:\n",
        "        genap += 1\n",
        "    else:\n",
        "        ganjil += 1\n",
        "\n",
        "print(\"Jumlah Genap:\", str(genap))\n",
        "print(\"Jumlah Ganjil:\", str(ganjil))\n"
      ],
      "metadata": {
        "colab": {
          "base_uri": "https://localhost:8080/"
        },
        "id": "xqu_VVstLdhd",
        "outputId": "75a3d6e5-10dd-4b07-985f-b1df51f724b7"
      },
      "execution_count": 16,
      "outputs": [
        {
          "output_type": "stream",
          "name": "stdout",
          "text": [
            "Masukkan NPM Anda: \n",
            "NPM tidak boleh kosong\n",
            "Masukkan NPM Anda: acop\n",
            "NPM hanya boleh terdiri dari angka\n",
            "Masukkan NPM Anda: 24205060\n",
            "Jumlah Genap: 7\n",
            "Jumlah Ganjil: 1\n"
          ]
        }
      ]
    },
    {
      "cell_type": "code",
      "source": [
        "while True:\n",
        "    try:\n",
        "        baris = input(\"Masukkan jumlah baris: \").strip()\n",
        "\n",
        "        if not baris:\n",
        "            raise ValueError(\"Jumlah baris tidak boleh kosong\")\n",
        "        baris = int(baris)\n",
        "        break\n",
        "\n",
        "    except ValueError as e:\n",
        "        if \"invalid literal for int() with base 10\" in str(e):\n",
        "            print(\"Jumlah baris hanya boleh berupa angka\")\n",
        "        else:\n",
        "            print(e)\n",
        "\n",
        "for x in range(1, (baris + 1)):\n",
        "    for y in range(1, (x + 1)):\n",
        "        print(x * y, end=' ')\n",
        "    print()\n"
      ],
      "metadata": {
        "id": "NsBwInZKO1er",
        "outputId": "92247ec1-106c-430d-c602-09bf7bef1a16",
        "colab": {
          "base_uri": "https://localhost:8080/"
        }
      },
      "execution_count": 19,
      "outputs": [
        {
          "output_type": "stream",
          "name": "stdout",
          "text": [
            "Masukkan jumlah baris: accop\n",
            "Jumlah baris hanya boleh berupa angka\n",
            "Masukkan jumlah baris: \n",
            "Jumlah baris tidak boleh kosong\n",
            "Masukkan jumlah baris: 5\n",
            "1 \n",
            "2 4 \n",
            "3 6 9 \n",
            "4 8 12 16 \n",
            "5 10 15 20 25 \n"
          ]
        }
      ]
    }
  ]
}