{
  "nbformat": 4,
  "nbformat_minor": 0,
  "metadata": {
    "colab": {
      "provenance": []
    },
    "kernelspec": {
      "name": "python3",
      "display_name": "Python 3"
    },
    "language_info": {
      "name": "python"
    }
  },
  "cells": [
    {
      "cell_type": "code",
      "execution_count": 2,
      "metadata": {
        "colab": {
          "base_uri": "https://localhost:8080/"
        },
        "id": "VuqmB4Rww8xL",
        "outputId": "af8c3967-971f-433f-ee02-e0a16728f9a6"
      },
      "outputs": [
        {
          "output_type": "stream",
          "name": "stdout",
          "text": [
            "Masukkan nama satpam ke-1: Yanto\n",
            "Masukkan nama satpam ke-2: Bambang\n",
            "Masukkan nama satpam ke-3: Tejo\n",
            "Masukkan nama satpam ke-4: Supri\n",
            "\n",
            "Jadwal Piket Satpam Selama 2 Minggu:\n",
            "\n",
            "Hari 1: Yanto\n",
            "Hari 2: Bambang\n",
            "Hari 3: Tejo\n",
            "Hari 4: Supri\n",
            "Hari 5: Yanto\n",
            "Hari 6: Bambang\n",
            "Hari 7: Tejo\n",
            "Hari 8: Supri\n",
            "Hari 9: Yanto\n",
            "Hari 10: Bambang\n",
            "Hari 11: Tejo\n",
            "Hari 12: Supri\n",
            "Hari 13: Yanto\n",
            "Hari 14: Bambang\n"
          ]
        }
      ],
      "source": [
        "class Node:\n",
        "    def __init__(self, name):\n",
        "        self.name = name\n",
        "        self.next = None\n",
        "\n",
        "class CircularLinkedList:\n",
        "    def __init__(self):\n",
        "        self.head = None\n",
        "\n",
        "    def append(self, name):\n",
        "        new_node = Node(name)\n",
        "        if not self.head:\n",
        "            self.head = new_node\n",
        "            self.head.next = self.head\n",
        "        else:\n",
        "            temp = self.head\n",
        "            while temp.next != self.head:\n",
        "                temp = temp.next\n",
        "            temp.next = new_node\n",
        "            new_node.next = self.head\n",
        "\n",
        "    def print_schedule(self, days):\n",
        "        if not self.head:\n",
        "            return\n",
        "        current = self.head\n",
        "        for day in range(1, days + 1):\n",
        "            print(f\"Hari {day}: {current.name}\")\n",
        "            current = current.next\n",
        "\n",
        "if __name__ == \"__main__\":\n",
        "    satpam_list = CircularLinkedList()\n",
        "\n",
        "    for i in range(1, 5):\n",
        "        name = input(f\"Masukkan nama satpam ke-{i}: \")\n",
        "        satpam_list.append(name)\n",
        "\n",
        "    print(\"\\nJadwal Piket Satpam Selama 2 Minggu:\\n\")\n",
        "    satpam_list.print_schedule(14)"
      ]
    }
  ]
}